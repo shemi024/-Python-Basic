{
 "cells": [
  {
   "cell_type": "code",
   "execution_count": 1,
   "id": "a1794bd2",
   "metadata": {},
   "outputs": [
    {
     "name": "stdout",
     "output_type": "stream",
     "text": [
      "The principal is 8\n",
      "The time period is 6\n",
      "The rate of interest is 8\n",
      "The Simple Interest is 3.84\n"
     ]
    },
    {
     "data": {
      "text/plain": [
       "3.84"
      ]
     },
     "execution_count": 1,
     "metadata": {},
     "output_type": "execute_result"
    }
   ],
   "source": [
    "def simple_interest(p,t,r):\n",
    "    print('The principal is', p)\n",
    "    print('The time period is', t)\n",
    "    print('The rate of interest is',r)\n",
    "      \n",
    "    si = (p * t * r)/100\n",
    "      \n",
    "    print('The Simple Interest is', si)\n",
    "    return si\n",
    "simple_interest(8, 6, 8)"
   ]
  },
  {
   "cell_type": "code",
   "execution_count": 1,
   "id": "f437dd9f",
   "metadata": {},
   "outputs": [
    {
     "name": "stdout",
     "output_type": "stream",
     "text": [
      "enter the list of numbers: 2 4 1 7 5\n",
      "sorted list: [1, 2, 4, 5, 7]\n"
     ]
    }
   ],
   "source": [
    "#bubble sort\n",
    "def bubble_sort(slist):\n",
    "    for i in range(len(slist)  -1, 0, -1):\n",
    "        no_swap = True\n",
    "        for j in range(0,i):\n",
    "            if slist[j+ 1] < slist[j]:\n",
    "                slist[j], slist[j + 1]= slist[j + 1], slist[j]\n",
    "                no_swap = False\n",
    "        if no_swap:\n",
    "            return\n",
    "slist= input('enter the list of numbers: ').split()\n",
    "slist= [int(x) for x in slist]\n",
    "bubble_sort(slist)\n",
    "print('sorted list: ', end='')\n",
    "print(slist)"
   ]
  },
  {
   "cell_type": "code",
   "execution_count": 3,
   "id": "e236bc46",
   "metadata": {},
   "outputs": [
    {
     "name": "stdout",
     "output_type": "stream",
     "text": [
      "Sorted array is:\n",
      " 0\n",
      " 1\n",
      " 2\n",
      " 3\n",
      " 11\n",
      " 22\n",
      " 64\n"
     ]
    }
   ],
   "source": [
    "def bubble_sort(alist):\n",
    "    for i in range(len(alist) - 1, 0, -1):\n",
    "        no_swap = True\n",
    "        for j in range(0, i):\n",
    "            if alist[j + 1] < alist[j]:\n",
    "                alist[j], alist[j + 1] = alist[j + 1], alist[j]\n",
    "                no_swap = False\n",
    "        if no_swap:\n",
    "            return\n",
    " \n",
    "\n",
    "alist = input('Enter the list of numbers: ').split()\n",
    "alist = [int(x) for x in alist]\n",
    "bubble_sort(alist)\n",
    "print('Sorted list: ', end='')\n",
    "print(alist)"
   ]
  },
  {
   "cell_type": "code",
   "execution_count": 2,
   "id": "6f5b45cd",
   "metadata": {},
   "outputs": [
    {
     "name": "stdout",
     "output_type": "stream",
     "text": [
      "Sorted array is:\n",
      " 0\n",
      " 1\n",
      " 2\n",
      " 3\n",
      " 11\n",
      " 22\n",
      " 64\n"
     ]
    }
   ],
   "source": [
    "\n",
    "\n",
    "def bubbleSort(arr):\n",
    "    n = len(arr)\n",
    "    for i in range(n-1):\n",
    "         for j in range(0, n-i-1):\n",
    "            if arr[j] > arr[j + 1] :\n",
    "                arr[j], arr[j + 1] = arr[j + 1], arr[j]\n",
    "arr = [64, 3, 2, 1, 22, 11, 0]\n",
    "bubbleSort(arr)\n",
    "print (\"Sorted array is:\")\n",
    "for i in range(len(arr)):\n",
    "    print (\"% d\" % arr[i]),"
   ]
  },
  {
   "cell_type": "code",
   "execution_count": 15,
   "id": "fe67b65e",
   "metadata": {},
   "outputs": [
    {
     "name": "stdout",
     "output_type": "stream",
     "text": [
      "Element is present at index 0\n"
     ]
    }
   ],
   "source": [
    "# linear search\n",
    "def search(arr, n, x):\n",
    "    for i in range(0 ,n):\n",
    "        if (arr[i] == x):\n",
    "            return i\n",
    "    return -1\n",
    "arr = [ 2, 7, 6, 10, 30]\n",
    "x = 2\n",
    "n = len(arr)\n",
    "\n",
    "result = search(arr, n, x)\n",
    "if(result == -1):\n",
    "    print(\"Element is not present in array\",result)\n",
    "else:\n",
    "    print('Element is present at index', result)"
   ]
  },
  {
   "cell_type": "code",
   "execution_count": 27,
   "id": "dae8ad8e",
   "metadata": {},
   "outputs": [
    {
     "name": "stdout",
     "output_type": "stream",
     "text": [
      "Enter the list of numbers: 3 2 5 2 1\n",
      "Sorted list: [1, 2, 2, 3, 5]\n"
     ]
    }
   ],
   "source": [
    "#insertino sort\n",
    "def insertionSort(arr):\n",
    "   \n",
    "    for i in range(1, len(arr)):\n",
    "  \n",
    "        key = arr[i]\n",
    "   \n",
    "        j = i-1\n",
    "        while j >=0 and key < arr[j] :\n",
    "                arr[j+1] = arr[j]\n",
    "                j -= 1\n",
    "        arr[j+1] = key\n",
    "# arr = input(\"values:\").split()\n",
    "# insertionSort(arr)\n",
    "# print ('Sorted array is:' ,arr, end='')\n",
    "\n",
    "arr = input('Enter the list of numbers: ').split()\n",
    "arr = [int(x) for x in arr]\n",
    "insertionSort(arr)\n",
    "print('Sorted list: ', end='')\n",
    "print(arr)\n",
    " \n",
    "  "
   ]
  },
  {
   "cell_type": "code",
   "execution_count": 28,
   "id": "0bc825e3",
   "metadata": {},
   "outputs": [
    {
     "name": "stdout",
     "output_type": "stream",
     "text": [
      "Given array is\n",
      "12\n",
      "11\n",
      "13\n",
      "5\n",
      "6\n",
      "7\n",
      "\n",
      "\n",
      "Sorted array is\n",
      "5\n",
      "6\n",
      "7\n",
      "11\n",
      "12\n",
      "13\n"
     ]
    }
   ],
   "source": [
    "# merge sort\n",
    "def merge(arr, l, m, r):\n",
    "    n1 = m - l + 1\n",
    "    n2 = r - m\n",
    " \n",
    "    # create temp arrays\n",
    "    L = [0] * (n1)\n",
    "    R = [0] * (n2)\n",
    "  \n",
    "    for i in range(0, n1):\n",
    "        L[i] = arr[l + i]\n",
    " \n",
    "    for j in range(0, n2):\n",
    "        R[j] = arr[m + 1 + j]\n",
    " \n",
    "    i = 0      \n",
    "    j = 0      \n",
    "    k = l    \n",
    " \n",
    "    while i < n1 and j < n2:\n",
    "        if L[i] <= R[j]:\n",
    "            arr[k] = L[i]\n",
    "            i += 1\n",
    "        else:\n",
    "            arr[k] = R[j]\n",
    "            j += 1\n",
    "        k += 1\n",
    "    while i < n1:\n",
    "        arr[k] = L[i]\n",
    "        i += 1\n",
    "        k += 1\n",
    "\n",
    "    while j < n2:\n",
    "        arr[k] = R[j]\n",
    "        j += 1\n",
    "        k += 1\n",
    " \n",
    " \n",
    "def mergeSort(arr, l, r):\n",
    "    if l < r:\n",
    "  \n",
    "        m = l+(r-l)//2\n",
    "        mergeSort(arr, l, m)\n",
    "        mergeSort(arr, m+1, r)\n",
    "        merge(arr, l, m, r)\n",
    "\n",
    "arr = [12, 11, 13, 5, 6, 7]\n",
    "n = len(arr)\n",
    "print(\"Given array is\")\n",
    "for i in range(n):\n",
    "    print(\"%d\" % arr[i]),\n",
    "    \n",
    "mergeSort(arr, 0, n-1)\n",
    "print(\"\\n\\nSorted array is\")\n",
    "for i in range(n):\n",
    "    print(\"%d\" % arr[i]),\n",
    " \n",
    " "
   ]
  },
  {
   "cell_type": "code",
   "execution_count": 3,
   "id": "bf18bf9a",
   "metadata": {},
   "outputs": [
    {
     "name": "stdout",
     "output_type": "stream",
     "text": [
      "interest is 78\n"
     ]
    }
   ],
   "source": [
    "def intrest(a):\n",
    "    try:\n",
    "        if a >= 100:\n",
    "            raise ValueError(\"error occured\")\n",
    "        else:\n",
    "            print(\"interest is\",a)\n",
    "             \n",
    "    except ValueError as ve:\n",
    "            print(ve)\n",
    "    \n",
    "intrest(78)"
   ]
  },
  {
   "cell_type": "code",
   "execution_count": null,
   "id": "a545fcf4",
   "metadata": {},
   "outputs": [],
   "source": []
  }
 ],
 "metadata": {
  "kernelspec": {
   "display_name": "Python 3 (ipykernel)",
   "language": "python",
   "name": "python3"
  },
  "language_info": {
   "codemirror_mode": {
    "name": "ipython",
    "version": 3
   },
   "file_extension": ".py",
   "mimetype": "text/x-python",
   "name": "python",
   "nbconvert_exporter": "python",
   "pygments_lexer": "ipython3",
   "version": "3.9.7"
  }
 },
 "nbformat": 4,
 "nbformat_minor": 5
}
