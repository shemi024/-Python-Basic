{
 "cells": [
  {
   "cell_type": "code",
   "execution_count": 10,
   "id": "45f59d5b",
   "metadata": {},
   "outputs": [
    {
     "name": "stdout",
     "output_type": "stream",
     "text": [
      "The list is: [1, 23, 7, 8, 2, 2, 4, 5, 6]\n",
      "The length of the string is: 9\n"
     ]
    }
   ],
   "source": [
    "#find the length using recursion\n",
    "def list_length(my_list):\n",
    "    if not my_list:\n",
    "        return 0\n",
    "    return 1 + list_length(my_list[1::2]) + list_length(my_list[2::2])\n",
    "my_list = [1,23,7,8,2,2,4,5,6]\n",
    "print(\"The list is:\",my_list)\n",
    "print(\"The length of the string is:\",list_length(my_list))\n",
    " "
   ]
  },
  {
   "cell_type": "code",
   "execution_count": 4,
   "id": "60bc54b6",
   "metadata": {},
   "outputs": [
    {
     "data": {
      "text/plain": [
       "{'c', 'e'}"
      ]
     },
     "execution_count": 4,
     "metadata": {},
     "output_type": "execute_result"
    }
   ],
   "source": [
    "#two string but not in both \n",
    "s1=set(['a','b','c','e'])\n",
    "s2=set(['a','b'])\n",
    "s1.difference_update(s2)\n",
    "s1"
   ]
  },
  {
   "cell_type": "code",
   "execution_count": 8,
   "id": "d432c827",
   "metadata": {},
   "outputs": [
    {
     "name": "stdout",
     "output_type": "stream",
     "text": [
      "enter the string:anha azliN\n",
      "The number of lowercase character is :\n",
      "8\n"
     ]
    }
   ],
   "source": [
    "# to count lowwercase character in a string\n",
    "string=input(\"enter the string:\")\n",
    "count=0\n",
    "for i in string:\n",
    "    if(i.islower()):\n",
    "        count=count+1\n",
    "print(\"The number of lowercase character is :\")\n",
    "print(count)"
   ]
  },
  {
   "cell_type": "code",
   "execution_count": 11,
   "id": "0e6c29a8",
   "metadata": {},
   "outputs": [
    {
     "name": "stdout",
     "output_type": "stream",
     "text": [
      "Enter the number of element to be in the list:6\n",
      "element:1\n",
      "element:-1\n",
      "element:2\n",
      "element:-2\n",
      "element:-3\n",
      "element:3\n",
      "sum of all positive even numbers: 2\n",
      "sum of all positive odd numbers: 4\n",
      "sum of all negative numbers: -6\n"
     ]
    }
   ],
   "source": [
    "# PROGRAM SUM OF POSITIVE EVEN NO NEGATIVE odd no\n",
    "n=int(input(\"Enter the number of element to be in the list:\"))\n",
    "b=[]\n",
    "for i in range(0,n):\n",
    "    a=int(input(\"element:\"))\n",
    "    b.append(a)\n",
    "sum1=0\n",
    "sum2=0\n",
    "sum3=0\n",
    "for j in b:\n",
    "    if(j>0):\n",
    "        if(j%2==0):\n",
    "            sum1=sum1+j\n",
    "        else:\n",
    "            sum2=sum2+j\n",
    "    else:\n",
    "        sum3=sum3+j\n",
    "print(\"sum of all positive even numbers:\",sum1)\n",
    "print(\"sum of all positive odd numbers:\",sum2)\n",
    "print(\"sum of all negative numbers:\",sum3)\n"
   ]
  },
  {
   "cell_type": "code",
   "execution_count": 12,
   "id": "95893b2c",
   "metadata": {},
   "outputs": [
    {
     "name": "stdout",
     "output_type": "stream",
     "text": [
      " 1\n"
     ]
    }
   ],
   "source": [
    "#count the odd elemnt in a list\n",
    "def getOddOccurrence(arr):\n",
    "    res=0\n",
    "    for element in arr:\n",
    "        res = res ^ element\n",
    "    return res\n",
    "arr=[2,3]\n",
    "print (\"% d\" % getOddOccurrence(arr))"
   ]
  },
  {
   "cell_type": "code",
   "execution_count": 15,
   "id": "5adffd34",
   "metadata": {},
   "outputs": [
    {
     "name": "stdout",
     "output_type": "stream",
     "text": [
      "enter the string:shameema\n",
      "saem\n",
      "enter the string:rahees\n",
      "rhe\n"
     ]
    }
   ],
   "source": [
    "# to remove odd index value\n",
    "def odd_value_string(str):\n",
    "    result=\"\"\n",
    "    for i in range(len(str)):\n",
    "        if i % 2 ==0:\n",
    "            result=result+str[i]\n",
    "    return result\n",
    "print(odd_value_string(str(input(\"enter the string:\"))))\n",
    "print(odd_value_string(str(input(\"enter the string:\"))))"
   ]
  },
  {
   "cell_type": "code",
   "execution_count": 22,
   "id": "0a4733b6",
   "metadata": {},
   "outputs": [
    {
     "name": "stdout",
     "output_type": "stream",
     "text": [
      "1\n",
      "5\n",
      "7\n",
      "11\n",
      "13\n",
      "17\n",
      "19\n",
      "23\n",
      "25\n",
      "29\n",
      "31\n",
      "35\n",
      "37\n",
      "41\n",
      "43\n",
      "47\n",
      "49\n"
     ]
    }
   ],
   "source": [
    "for i in range(0,51):\n",
    "    if(i % 2 != 0 and i % 3 != 0):\n",
    "        print(i)"
   ]
  },
  {
   "cell_type": "code",
   "execution_count": 18,
   "id": "262f5e3c",
   "metadata": {},
   "outputs": [
    {
     "name": "stdout",
     "output_type": "stream",
     "text": [
      "Numbers not divisible by 2 and 3\n",
      "1\n",
      "5\n",
      "7\n",
      "11\n",
      "13\n",
      "17\n",
      "19\n",
      "23\n",
      "25\n",
      "29\n",
      "31\n",
      "35\n",
      "37\n",
      "41\n",
      "43\n",
      "47\n",
      "49\n"
     ]
    }
   ],
   "source": [
    "max_num = 50\n",
    "n = 1\n",
    " \n",
    "print(\"Numbers not divisible by 2 and 3\")\n",
    "while n <= max_num:\n",
    "      \n",
    "  \n",
    "    if n % 2 != 0 and n % 3 != 0:\n",
    "        print(n)\n",
    "      \n",
    "    \n",
    "    n = n+1"
   ]
  },
  {
   "cell_type": "code",
   "execution_count": 23,
   "id": "41b33822",
   "metadata": {},
   "outputs": [
    {
     "name": "stdout",
     "output_type": "stream",
     "text": [
      "enetr string:shameema\n",
      "s : ['shameema']\n"
     ]
    }
   ],
   "source": [
    "test_string=input(\"enetr string:\")\n",
    "l=test_string.split()\n",
    "d={}\n",
    "for word in l:\n",
    "    if(word[0] not in d.keys()):\n",
    "        d[word[0]]=[]\n",
    "        d[word[0]].append(word)\n",
    "    else:\n",
    "        if(word not in d[word[0]]):\n",
    "            d[word[0]].append(word)\n",
    "for k,v in d.items():\n",
    "    print(k,\":\",v)"
   ]
  },
  {
   "cell_type": "code",
   "execution_count": null,
   "id": "aa560cec",
   "metadata": {},
   "outputs": [],
   "source": []
  }
 ],
 "metadata": {
  "kernelspec": {
   "display_name": "Python 3 (ipykernel)",
   "language": "python",
   "name": "python3"
  },
  "language_info": {
   "codemirror_mode": {
    "name": "ipython",
    "version": 3
   },
   "file_extension": ".py",
   "mimetype": "text/x-python",
   "name": "python",
   "nbconvert_exporter": "python",
   "pygments_lexer": "ipython3",
   "version": "3.9.7"
  }
 },
 "nbformat": 4,
 "nbformat_minor": 5
}
