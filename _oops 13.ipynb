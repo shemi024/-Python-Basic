{
 "cells": [
  {
   "cell_type": "code",
   "execution_count": 1,
   "id": "aff1be15",
   "metadata": {},
   "outputs": [
    {
     "name": "stdout",
     "output_type": "stream",
     "text": [
      "blu is a bird\n",
      "woo is also a bird\n",
      "blu is 10 years old\n",
      "woo is 15 years old\n"
     ]
    }
   ],
   "source": [
    "class parrot:\n",
    "    #class attribute\n",
    "    species=\"bird\"\n",
    "    def __init__(self,name,age):\n",
    "        self.name=name\n",
    "        self.age=age\n",
    "    #instantiate the parrot class\n",
    "blu=parrot(\"blu\",10)\n",
    "woo=parrot(\"woo\",15)\n",
    "    #access the class attributes\n",
    "print(\"blu is a {}\".format(blu.__class__.species))\n",
    "print(\"woo is also a {}\".format(woo.__class__.species))\n",
    "    #access the instance attributes\n",
    "print(\"{} is {} years old\".format(blu.name,blu.age))\n",
    "print(\"{} is {} years old\".format(woo.name,woo.age))"
   ]
  },
  {
   "cell_type": "code",
   "execution_count": 4,
   "id": "bb723a18",
   "metadata": {},
   "outputs": [
    {
     "name": "stdout",
     "output_type": "stream",
     "text": [
      "10 sing 'Happy'\n",
      "10 is now dancing\n"
     ]
    }
   ],
   "source": [
    "class parrot:\n",
    "    #instance attributes\n",
    "    def __init__(self,name,age):\n",
    "        self.name = name\n",
    "        self.name = age \n",
    "    # instance method\n",
    "    def sing(self,song):\n",
    "        return \"{} sing {}\".format(self.name,song)\n",
    "    def dance(self):\n",
    "        return \"{} is now dancing\".format(self.name)\n",
    "#instance the object\n",
    "blu = parrot(\"blu\",10)\n",
    "# call our instance methods\n",
    "print(blu.sing(\"'Happy'\"))\n",
    "print(blu.dance())"
   ]
  },
  {
   "cell_type": "code",
   "execution_count": 5,
   "id": "a59d2858",
   "metadata": {},
   "outputs": [
    {
     "name": "stdout",
     "output_type": "stream",
     "text": [
      "bird isready\n",
      "penguin is ready\n",
      "penguin\n",
      "swim faster\n",
      "run faster\n"
     ]
    }
   ],
   "source": [
    "# parent class\n",
    "class bird:\n",
    "    def __init__(self):\n",
    "        print(\"bird isready\")\n",
    "    def whoisthis(self):\n",
    "        print(\"bird\")\n",
    "    def swim(self):\n",
    "        print(\"swim faster\")\n",
    "#child class\n",
    "class penguin(bird):\n",
    "    def __init__(self):\n",
    "        #call super() function\n",
    "        super().__init__()\n",
    "        print(\"penguin is ready\")\n",
    "    def whoisthis(self):\n",
    "        print(\"penguin\")\n",
    "    def run(self):\n",
    "        print(\"run faster\")\n",
    "peggy = penguin()\n",
    "peggy.whoisthis()\n",
    "peggy.swim()\n",
    "peggy.run()\n",
    "        "
   ]
  },
  {
   "cell_type": "code",
   "execution_count": 10,
   "id": "5153532e",
   "metadata": {},
   "outputs": [
    {
     "name": "stdout",
     "output_type": "stream",
     "text": [
      "selling price:900\n",
      "selling price:900\n",
      "selling price:1000\n"
     ]
    }
   ],
   "source": [
    "# encapsulation\n",
    "class computer:\n",
    "    def __init__(self):\n",
    "        self.__maxprice=900\n",
    "    def sell(self):\n",
    "        print(\"selling price:{}\".format(self.__maxprice))\n",
    "    def setMaxPrice(self,price):\n",
    "        self.__maxprice=price\n",
    "c= computer()\n",
    "c.sell()\n",
    "#change the price\n",
    "c.__maxprice = 1000\n",
    "c.sell()\n",
    "#using setter function\n",
    "c.setMaxPrice(1000)\n",
    "c.sell()"
   ]
  },
  {
   "cell_type": "code",
   "execution_count": 14,
   "id": "7b5fa644",
   "metadata": {},
   "outputs": [
    {
     "name": "stdout",
     "output_type": "stream",
     "text": [
      "parrott can fly\n",
      "penguin can't fly\n"
     ]
    }
   ],
   "source": [
    "# ploymorpisum\n",
    "class parrot:\n",
    "    def fly(self):\n",
    "        print(\"parrott can fly\")\n",
    "    def swim(self):\n",
    "        print(\"parrot can't swim\")\n",
    "class penguin:\n",
    "    def fly(self):\n",
    "        print(\"penguin can't fly\")\n",
    "    def swim(self):\n",
    "        print(\"penguin can swim\")\n",
    "#common interface\n",
    "def flying_test(bird):\n",
    "    bird.fly()\n",
    "#instantiate objects\n",
    "blu=parrot()\n",
    "peggy=penguin()\n",
    "# passing the object\n",
    "flying_test(blu)\n",
    "flying_test(peggy)"
   ]
  },
  {
   "cell_type": "code",
   "execution_count": 16,
   "id": "f7f0528a",
   "metadata": {},
   "outputs": [
    {
     "name": "stdout",
     "output_type": "stream",
     "text": [
      "10\n",
      "<function Person.greet at 0x0000028872460550>\n",
      "this is a person class\n"
     ]
    }
   ],
   "source": [
    "class Person:\n",
    "    '''this is a person class'''\n",
    "    age = 10\n",
    "    def greet(self):\n",
    "        print('hello')\n",
    "print(Person.age)\n",
    "print(Person.greet)\n",
    "print(Person.__doc__)"
   ]
  },
  {
   "cell_type": "code",
   "execution_count": 17,
   "id": "a89ea589",
   "metadata": {},
   "outputs": [
    {
     "name": "stdout",
     "output_type": "stream",
     "text": [
      "<function person.greet at 0x0000028872460670>\n",
      "<bound method person.greet of <__main__.person object at 0x00000288723A5C10>>\n",
      "hello\n"
     ]
    }
   ],
   "source": [
    "class person:\n",
    "    '''this is a person class'''\n",
    "    age = 10\n",
    "    def greet(self):\n",
    "        print('hello')\n",
    "harry = person()\n",
    "print(person.greet)\n",
    "print(harry.greet)\n",
    "harry.greet()"
   ]
  },
  {
   "cell_type": "code",
   "execution_count": null,
   "id": "42999e0a",
   "metadata": {},
   "outputs": [],
   "source": []
  }
 ],
 "metadata": {
  "kernelspec": {
   "display_name": "Python 3 (ipykernel)",
   "language": "python",
   "name": "python3"
  },
  "language_info": {
   "codemirror_mode": {
    "name": "ipython",
    "version": 3
   },
   "file_extension": ".py",
   "mimetype": "text/x-python",
   "name": "python",
   "nbconvert_exporter": "python",
   "pygments_lexer": "ipython3",
   "version": "3.9.7"
  }
 },
 "nbformat": 4,
 "nbformat_minor": 5
}
