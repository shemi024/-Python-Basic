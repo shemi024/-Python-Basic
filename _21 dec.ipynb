{
 "cells": [
  {
   "cell_type": "code",
   "execution_count": 21,
   "id": "843e9964",
   "metadata": {},
   "outputs": [
    {
     "name": "stdout",
     "output_type": "stream",
     "text": [
      "shameema fathima\n"
     ]
    }
   ],
   "source": [
    "#1\n",
    "firstname=' fathima'\n",
    "lastname='shameema'\n",
    "fullname=lastname+firstname\n",
    "print(fullname)"
   ]
  },
  {
   "cell_type": "code",
   "execution_count": 19,
   "id": "74c27980",
   "metadata": {},
   "outputs": [
    {
     "name": "stdout",
     "output_type": "stream",
     "text": [
      "enter your numbers:123456\n",
      "the list is: list['1,2,3,4,5,6']\n",
      "the tuple is: ('1,2,3,4,5,6',)\n"
     ]
    }
   ],
   "source": [
    "#2\n",
    "n=input(\"enter your numbers:\")\n",
    "a=list[\",\".join(n)]\n",
    "b=tuple([\",\".join(n)])\n",
    "print(\"the list is:\",a)\n",
    "print(\"the tuple is:\",b)\n"
   ]
  },
  {
   "cell_type": "code",
   "execution_count": 16,
   "id": "399f5716",
   "metadata": {},
   "outputs": [
    {
     "name": "stdout",
     "output_type": "stream",
     "text": [
      "f\n",
      "i\n",
      "l\n",
      "z\n",
      "a\n"
     ]
    }
   ],
   "source": [
    "#6\n",
    "name='filza'\n",
    "for c in name:\n",
    "    print(c)"
   ]
  },
  {
   "cell_type": "code",
   "execution_count": null,
   "id": "e6456cf7",
   "metadata": {},
   "outputs": [],
   "source": []
  }
 ],
 "metadata": {
  "kernelspec": {
   "display_name": "Python 3 (ipykernel)",
   "language": "python",
   "name": "python3"
  },
  "language_info": {
   "codemirror_mode": {
    "name": "ipython",
    "version": 3
   },
   "file_extension": ".py",
   "mimetype": "text/x-python",
   "name": "python",
   "nbconvert_exporter": "python",
   "pygments_lexer": "ipython3",
   "version": "3.9.7"
  }
 },
 "nbformat": 4,
 "nbformat_minor": 5
}
