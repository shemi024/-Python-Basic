{
 "cells": [
  {
   "cell_type": "code",
   "execution_count": 11,
   "id": "2676313e",
   "metadata": {},
   "outputs": [
    {
     "name": "stdout",
     "output_type": "stream",
     "text": [
      "['a', 'b', 'c', 'd', 1, 2, 3, 4]\n"
     ]
    }
   ],
   "source": [
    "list1 = [\"a\",\"b\",\"c\",\"d\"]\n",
    "list2 = [1,2,3,4]\n",
    "list3 = list1 + list2\n",
    "print(list3)\n"
   ]
  },
  {
   "cell_type": "code",
   "execution_count": 12,
   "id": "ba35739b",
   "metadata": {},
   "outputs": [
    {
     "name": "stdout",
     "output_type": "stream",
     "text": [
      "['a', 'b', 'c', 'd', 1, 2, 3]\n"
     ]
    }
   ],
   "source": [
    "list1 = [\"a\",\"b\",\"c\",\"d\"]\n",
    "list2 = [1,2,3,]\n",
    "for x in list2:\n",
    "    list1.append(x)\n",
    "print(list1)\n"
   ]
  },
  {
   "cell_type": "code",
   "execution_count": 13,
   "id": "6cf43131",
   "metadata": {},
   "outputs": [
    {
     "name": "stdout",
     "output_type": "stream",
     "text": [
      "['a', 'b', 'c', 'd', 1, 2, 3]\n"
     ]
    }
   ],
   "source": [
    "list1 = [\"a\",\"b\",\"c\",\"d\"]\n",
    "list2 = [1,2,3]\n",
    "list1.extend(list2)\n",
    "print(list1)"
   ]
  },
  {
   "cell_type": "code",
   "execution_count": 7,
   "id": "6083140a",
   "metadata": {},
   "outputs": [
    {
     "name": "stdout",
     "output_type": "stream",
     "text": [
      "[1, 2, 3, 4, 5, 9]\n"
     ]
    }
   ],
   "source": [
    "list = [2,4,5,3,1,9]\n",
    "list.sort()\n",
    "print(list)"
   ]
  },
  {
   "cell_type": "code",
   "execution_count": 14,
   "id": "15934098",
   "metadata": {
    "scrolled": true
   },
   "outputs": [
    {
     "name": "stdout",
     "output_type": "stream",
     "text": [
      "[1, 4, 5, 3, 2, 8]\n",
      "list is not sorted\n"
     ]
    }
   ],
   "source": [
    "list=[1,4,5,3,2,8]\n",
    "print(list)\n",
    "if  list.sort():\n",
    "    print(list)\n",
    "else :\n",
    "    print(\"list is not sorted\")\n",
    "    "
   ]
  },
  {
   "cell_type": "code",
   "execution_count": 29,
   "id": "75fff11a",
   "metadata": {},
   "outputs": [
    {
     "name": "stdout",
     "output_type": "stream",
     "text": [
      "list is : [1, 4, 3, 6, 9, 4, 2]\n",
      "ascending order: [1, 2, 3, 4, 4, 6, 9]\n"
     ]
    }
   ],
   "source": [
    "a=[1,4,3,6,9,4,2]\n",
    "print('list is :',a)\n",
    "a.sort()\n",
    "print('ascending order:',a)"
   ]
  },
  {
   "cell_type": "code",
   "execution_count": 36,
   "id": "567364cf",
   "metadata": {},
   "outputs": [
    {
     "name": "stdout",
     "output_type": "stream",
     "text": [
      "given list: [1, 2, 3, 6, 9, 34, 32, 557, 878, 67]\n",
      "ascending order: [1, 2, 3, 6, 9, 32, 34, 67, 557, 878]\n"
     ]
    }
   ],
   "source": [
    "a=[1,2,3,6,9,34,32,557,878,67]\n",
    "print(\"given list:\",a)\n",
    "a.sort()\n",
    "if a == a:\n",
    "    print(\"ascending order:\",a)\n",
    "else:\n",
    "    print(\"not ascending\")"
   ]
  },
  {
   "cell_type": "code",
   "execution_count": 62,
   "id": "52bb7755",
   "metadata": {},
   "outputs": [
    {
     "name": "stdout",
     "output_type": "stream",
     "text": [
      "2 4 6 2 8 10 "
     ]
    }
   ],
   "source": [
    "list=[2,4,5,6,2,8,9,10]\n",
    "for num in list:\n",
    "    if num %2 == 0:\n",
    "        print(num,end=\" \")"
   ]
  },
  {
   "cell_type": "code",
   "execution_count": 73,
   "id": "ee116564",
   "metadata": {},
   "outputs": [
    {
     "name": "stdout",
     "output_type": "stream",
     "text": [
      "[30, 9, 2, 10, 19, 1]\n"
     ]
    }
   ],
   "source": [
    "\n",
    "def swapList(list):\n",
    "    first = list.pop(0)   \n",
    "    last = list.pop(-1) \n",
    "    list.insert(0, last)  \n",
    "    list.append(first)  \n",
    "    return list\n",
    "newlist = [1, 9, 2, 10, 19, 30]\n",
    "print(swapList(newlist))\n"
   ]
  },
  {
   "cell_type": "code",
   "execution_count": 78,
   "id": "c330ee71",
   "metadata": {},
   "outputs": [
    {
     "ename": "NameError",
     "evalue": "name 'add' is not defined",
     "output_type": "error",
     "traceback": [
      "\u001b[1;31m---------------------------------------------------------------------------\u001b[0m",
      "\u001b[1;31mNameError\u001b[0m                                 Traceback (most recent call last)",
      "\u001b[1;32m~\\AppData\\Local\\Temp/ipykernel_2860/3589602443.py\u001b[0m in \u001b[0;36m<module>\u001b[1;34m\u001b[0m\n\u001b[0;32m      1\u001b[0m \u001b[0mlist\u001b[0m \u001b[1;33m=\u001b[0m \u001b[1;33m[\u001b[0m\u001b[1;36m2\u001b[0m\u001b[1;33m,\u001b[0m\u001b[1;36m3\u001b[0m\u001b[1;33m,\u001b[0m\u001b[1;36m4\u001b[0m\u001b[1;33m,\u001b[0m\u001b[1;36m5\u001b[0m\u001b[1;33m]\u001b[0m\u001b[1;33m\u001b[0m\u001b[1;33m\u001b[0m\u001b[0m\n\u001b[1;32m----> 2\u001b[1;33m \u001b[0madd\u001b[0m\u001b[1;33m.\u001b[0m\u001b[0mlist\u001b[0m\u001b[1;33m(\u001b[0m\u001b[1;33m)\u001b[0m\u001b[1;33m\u001b[0m\u001b[1;33m\u001b[0m\u001b[0m\n\u001b[0m\u001b[0;32m      3\u001b[0m \u001b[0mprint\u001b[0m\u001b[1;33m(\u001b[0m\u001b[0mlist\u001b[0m\u001b[1;33m)\u001b[0m\u001b[1;33m\u001b[0m\u001b[1;33m\u001b[0m\u001b[0m\n",
      "\u001b[1;31mNameError\u001b[0m: name 'add' is not defined"
     ]
    }
   ],
   "source": [
    "list = [2,3,4,5]\n",
    "\n",
    "\n",
    "print(list)"
   ]
  },
  {
   "cell_type": "code",
   "execution_count": 80,
   "id": "d4708c47",
   "metadata": {},
   "outputs": [
    {
     "name": "stdout",
     "output_type": "stream",
     "text": [
      "sum of all element in given list: 56\n"
     ]
    }
   ],
   "source": [
    "list = [2,3,45,6]\n",
    "total = sum(list)\n",
    "print(\"sum of all element in given list:\",total)"
   ]
  },
  {
   "cell_type": "code",
   "execution_count": 86,
   "id": "923ad7e9",
   "metadata": {},
   "outputs": [
    {
     "name": "stdout",
     "output_type": "stream",
     "text": [
      "nwe list: [2, 4, 5, 6, 8, 9, 'a']\n",
      "old_list: [2, 4, 5, 6, 8, 9, 'a']\n"
     ]
    }
   ],
   "source": [
    "old_list = [2,4,5,6,8,9]\n",
    "new_list = old_list\n",
    "new_list.append('a')\n",
    "print('nwe list:',new_list)\n",
    "print('old_list:',old_list)"
   ]
  },
  {
   "cell_type": "code",
   "execution_count": 87,
   "id": "2fb8e1e6",
   "metadata": {},
   "outputs": [
    {
     "name": "stdout",
     "output_type": "stream",
     "text": [
      "list is empty\n"
     ]
    }
   ],
   "source": [
    "list=[]\n",
    "if len(list) == 0:\n",
    "    print(\"list is empty\")\n",
    "else :\n",
    "    print(\"not empty\")"
   ]
  },
  {
   "cell_type": "code",
   "execution_count": 92,
   "id": "b1efe51a",
   "metadata": {},
   "outputs": [
    {
     "name": "stdout",
     "output_type": "stream",
     "text": [
      "[1, 3, 4, 5, 6, 7, 8, 9]\n"
     ]
    }
   ],
   "source": [
    "list1 = [1,3,4,5]\n",
    "list2 = [6,7,8,9]\n",
    "new_list = list1+list2\n",
    "print(new_list)"
   ]
  },
  {
   "cell_type": "code",
   "execution_count": 96,
   "id": "68514e8b",
   "metadata": {},
   "outputs": [
    {
     "name": "stdout",
     "output_type": "stream",
     "text": [
      "120\n"
     ]
    }
   ],
   "source": [
    "list=[2,3,4,5]\n",
    "product = 1\n",
    "for item in list:\n",
    "    product = product*item\n",
    "print(product)\n",
    "        "
   ]
  },
  {
   "cell_type": "code",
   "execution_count": null,
   "id": "9fcbbb39",
   "metadata": {},
   "outputs": [],
   "source": []
  }
 ],
 "metadata": {
  "kernelspec": {
   "display_name": "Python 3 (ipykernel)",
   "language": "python",
   "name": "python3"
  },
  "language_info": {
   "codemirror_mode": {
    "name": "ipython",
    "version": 3
   },
   "file_extension": ".py",
   "mimetype": "text/x-python",
   "name": "python",
   "nbconvert_exporter": "python",
   "pygments_lexer": "ipython3",
   "version": "3.9.7"
  }
 },
 "nbformat": 4,
 "nbformat_minor": 5
}
