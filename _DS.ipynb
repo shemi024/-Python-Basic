{
 "cells": [
  {
   "cell_type": "code",
   "execution_count": 41,
   "id": "7d13f54d",
   "metadata": {},
   "outputs": [
    {
     "name": "stdout",
     "output_type": "stream",
     "text": [
      "value of a=%d: 5\n",
      "value of a=%d: 1910154488240\n",
      "value of a=%d: 1910154488240\n",
      "value of a=%d: 1910237221232\n",
      "address of a=%u: 1910154488240\n",
      "address of a=%d:: 1910154488240\n",
      "address of b=%u: 1910237221232\n",
      "value of b=address of a = %u 1910154488240\n"
     ]
    }
   ],
   "source": [
    "a=5\n",
    "\n",
    "# id(b)\n",
    "b=id(a)\n",
    "\n",
    "print(\"value of a=%d:\",a)\n",
    "print(\"value of a=%d:\",b)\n",
    "print(\"value of a=%d:\",id(a))\n",
    "print(\"value of a=%d:\",id(b))\n",
    "print(\"address of a=%u:\",id(a))\n",
    "print(\"address of a=%d::\",b)\n",
    "print(\"address of b=%u:\",id(b))\n",
    "print(\"value of b=address of a = %u\",b)"
   ]
  },
  {
   "cell_type": "code",
   "execution_count": 43,
   "id": "75c32473",
   "metadata": {},
   "outputs": [
    {
     "ename": "SyntaxError",
     "evalue": "invalid syntax (Temp/ipykernel_6012/144000618.py, line 1)",
     "output_type": "error",
     "traceback": [
      "\u001b[1;36m  File \u001b[1;32m\"C:\\Users\\91999\\AppData\\Local\\Temp/ipykernel_6012/144000618.py\"\u001b[1;36m, line \u001b[1;32m1\u001b[0m\n\u001b[1;33m    struct employee():\u001b[0m\n\u001b[1;37m           ^\u001b[0m\n\u001b[1;31mSyntaxError\u001b[0m\u001b[1;31m:\u001b[0m invalid syntax\n"
     ]
    }
   ],
   "source": [
    "struct employee():\n",
    "    emp_id='f2'\n",
    "    emp_salary=2000\n",
    "    mobile='nokia'\n",
    "    print(\"The salary is\",emp_salary)\n",
    "    print(\"The id is\",emp_id)\n",
    "    print(\"The mobile is\",mobile)\n",
    "       \n",
    "\n",
    "    "
   ]
  },
  {
   "cell_type": "code",
   "execution_count": 68,
   "id": "1c7b0672",
   "metadata": {},
   "outputs": [
    {
     "name": "stdout",
     "output_type": "stream",
     "text": [
      "45.0\n"
     ]
    }
   ],
   "source": [
    "mark1=20\n",
    "mark2=30\n",
    "mark3=40\n",
    "mark4=50\n",
    "mark5=60\n",
    "mark6=70\n",
    "avg = (mark1+ mark2 + mark3 + mark4 + mark5 + mark6 )/6\n",
    "print(avg)"
   ]
  },
  {
   "cell_type": "code",
   "execution_count": 6,
   "id": "3406aeb0",
   "metadata": {},
   "outputs": [
    {
     "name": "stdout",
     "output_type": "stream",
     "text": [
      "the avg is 45.0\n"
     ]
    }
   ],
   "source": [
    "def cal_average(num):\n",
    "    sum_num=0\n",
    "    for t in num:\n",
    "        sum_num = sum_num + t\n",
    "    avg = sum_num / len(num)\n",
    "    return  avg\n",
    "print(\"the avg is\", cal_average([20,30,40,50,60,70]))"
   ]
  },
  {
   "cell_type": "code",
   "execution_count": 12,
   "id": "dc4838c1",
   "metadata": {},
   "outputs": [
    {
     "name": "stdout",
     "output_type": "stream",
     "text": [
      "2.5\n"
     ]
    }
   ],
   "source": [
    "#importing paclage\n",
    "import numpy as np\n",
    "x=np.array([1,2,3,4])\n",
    "avg=0\n",
    "for i in x:\n",
    "    avg= avg+i/4\n",
    "print(avg)"
   ]
  },
  {
   "cell_type": "code",
   "execution_count": null,
   "id": "0c908ca3",
   "metadata": {},
   "outputs": [],
   "source": []
  }
 ],
 "metadata": {
  "kernelspec": {
   "display_name": "Python 3 (ipykernel)",
   "language": "python",
   "name": "python3"
  },
  "language_info": {
   "codemirror_mode": {
    "name": "ipython",
    "version": 3
   },
   "file_extension": ".py",
   "mimetype": "text/x-python",
   "name": "python",
   "nbconvert_exporter": "python",
   "pygments_lexer": "ipython3",
   "version": "3.9.7"
  }
 },
 "nbformat": 4,
 "nbformat_minor": 5
}
