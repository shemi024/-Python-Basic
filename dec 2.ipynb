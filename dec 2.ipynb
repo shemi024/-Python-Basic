{
 "cells": [
  {
   "cell_type": "code",
   "execution_count": null,
   "id": "4c6dd6f8",
   "metadata": {},
   "outputs": [],
   "source": [
    "name=str(input(\"enter name\"))\n",
    "pr"
   ]
  },
  {
   "cell_type": "code",
   "execution_count": null,
   "id": "b77bd401",
   "metadata": {},
   "outputs": [],
   "source": [
    "str.lower(name)"
   ]
  },
  {
   "cell_type": "code",
   "execution_count": 4,
   "id": "381f4070",
   "metadata": {},
   "outputs": [
    {
     "data": {
      "text/plain": [
       "'SHAMEEMA'"
      ]
     },
     "execution_count": 4,
     "metadata": {},
     "output_type": "execute_result"
    }
   ],
   "source": [
    "str.upper(name)"
   ]
  },
  {
   "cell_type": "code",
   "execution_count": 5,
   "id": "f3fa87ca",
   "metadata": {},
   "outputs": [
    {
     "data": {
      "text/plain": [
       "'SHAMEEMA'"
      ]
     },
     "execution_count": 5,
     "metadata": {},
     "output_type": "execute_result"
    }
   ],
   "source": [
    "str.swapcase(name)"
   ]
  },
  {
   "cell_type": "code",
   "execution_count": null,
   "id": "af49a6aa",
   "metadata": {},
   "outputs": [],
   "source": [
    "str.title(name)"
   ]
  },
  {
   "cell_type": "code",
   "execution_count": null,
   "id": "084a3138",
   "metadata": {},
   "outputs": [],
   "source": [
    "str.capitalize(name)"
   ]
  },
  {
   "cell_type": "code",
   "execution_count": null,
   "id": "2e9c570c",
   "metadata": {},
   "outputs": [],
   "source": []
  },
  {
   "cell_type": "code",
   "execution_count": null,
   "id": "c0212690",
   "metadata": {},
   "outputs": [],
   "source": []
  },
  {
   "cell_type": "code",
   "execution_count": null,
   "id": "a4603a29",
   "metadata": {},
   "outputs": [],
   "source": []
  }
 ],
 "metadata": {
  "kernelspec": {
   "display_name": "Python 3 (ipykernel)",
   "language": "python",
   "name": "python3"
  },
  "language_info": {
   "codemirror_mode": {
    "name": "ipython",
    "version": 3
   },
   "file_extension": ".py",
   "mimetype": "text/x-python",
   "name": "python",
   "nbconvert_exporter": "python",
   "pygments_lexer": "ipython3",
   "version": "3.9.7"
  }
 },
 "nbformat": 4,
 "nbformat_minor": 5
}
