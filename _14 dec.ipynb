{
 "cells": [
  {
   "cell_type": "code",
   "execution_count": 1,
   "id": "04e958d1",
   "metadata": {},
   "outputs": [
    {
     "name": "stdout",
     "output_type": "stream",
     "text": [
      "jimmi is a black colored dog,10 years old and he can jumb \n",
      "jimmi is a black colored dog, 10 years old and he can run \n"
     ]
    }
   ],
   "source": [
    "class dog:\n",
    "    def __init__(self,name,colour,age):\n",
    "        self.name=name\n",
    "        self.colour=colour\n",
    "        self.age=age\n",
    "    def jumb(self):\n",
    "        return \"{} is a {} colored dog,{} years old and he can jumb \".format(self.name,self.colour,self.age)\n",
    "    def run(self):\n",
    "        return \"{} is a {} colored dog, {} years old and he can run \".format(self.name,self.colour, self.age)\n",
    "jimmi = dog(\"jimmi\",'black',10)\n",
    "print(jimmi.jumb())\n",
    "print(jimmi.run())"
   ]
  },
  {
   "cell_type": "code",
   "execution_count": 2,
   "id": "4f10fba9",
   "metadata": {},
   "outputs": [
    {
     "name": "stdout",
     "output_type": "stream",
     "text": [
      "hello\n"
     ]
    }
   ],
   "source": [
    "class person:\n",
    "    '''this is a person class'''\n",
    "    def greet(self):\n",
    "        print('hello')\n",
    "Nikkil = person()\n",
    "Nikkil.greet()"
   ]
  },
  {
   "cell_type": "code",
   "execution_count": null,
   "id": "de710b38",
   "metadata": {},
   "outputs": [
    {
     "name": "stdout",
     "output_type": "stream",
     "text": [
      "enter first number:2\n",
      "enter second number4\n",
      "Add\n",
      "Sub\n",
      "Mul\n",
      "Div\n",
      "enetr your choice:1\n",
      "6\n",
      "None\n",
      "Add\n",
      "Sub\n",
      "Mul\n",
      "Div\n",
      "enetr your choice:2\n",
      "-2\n",
      "None\n",
      "Add\n",
      "Sub\n",
      "Mul\n",
      "Div\n",
      "enetr your choice:3\n",
      "8\n",
      "None\n",
      "Add\n",
      "Sub\n",
      "Mul\n",
      "Div\n",
      "enetr your choice:4\n",
      "0.5\n",
      "None\n",
      "Add\n",
      "Sub\n",
      "Mul\n",
      "Div\n",
      "enetr your choice:5\n",
      "invalid choice\n",
      "Add\n",
      "Sub\n",
      "Mul\n",
      "Div\n"
     ]
    }
   ],
   "source": [
    "# basic calculator\n",
    "class Calculator:\n",
    "    def addition(self):\n",
    "        print(a + b)\n",
    "    def subtraction(self):\n",
    "        print(a - b)\n",
    "    def multiplication(self):\n",
    "        print(a * b)\n",
    "    def division(self):\n",
    "        print(a / b)\n",
    "a = int(input(\"enter first number:\"))\n",
    "b = int(input(\"enter second number\"))\n",
    "obj =  Calculator()\n",
    "choice = 1\n",
    "while choice !=0:\n",
    "    print(\"Add\")\n",
    "    print(\"Sub\")\n",
    "    print(\"Mul\")\n",
    "    print(\"Div\")\n",
    "    choice = int(input(\"enetr your choice:\"))\n",
    "    if choice == 1:\n",
    "        print(obj.addition())\n",
    "    elif choice == 2:\n",
    "        print(obj.subtraction())\n",
    "    elif choice == 3:\n",
    "        print(obj.multiplication())\n",
    "    elif choice == 4:\n",
    "        print(obj.division())\n",
    "    else:\n",
    "        print(\"invalid choice\")\n",
    "    \n",
    "    \n",
    "\n"
   ]
  },
  {
   "cell_type": "code",
   "execution_count": 4,
   "id": "91f5f5b6",
   "metadata": {},
   "outputs": [
    {
     "name": "stdout",
     "output_type": "stream",
     "text": [
      "The maximum speed of bike 50 and the mileage is 50 \n",
      "The maximum speed of jeep 40 and the mileage is 45 \n"
     ]
    }
   ],
   "source": [
    "class vehicle:\n",
    "    def __init__(self,max_speed,mileage):\n",
    "        self.max_speed=max_speed\n",
    "        self.mileage=mileage\n",
    "\n",
    "            \n",
    "a = vehicle(50 ,50)\n",
    "b = vehicle(40 ,45)\n",
    "\n",
    "print(a.bike())\n",
    "print(b.jeep())"
   ]
  },
  {
   "cell_type": "code",
   "execution_count": 6,
   "id": "77cea355",
   "metadata": {},
   "outputs": [
    {
     "name": "stdout",
     "output_type": "stream",
     "text": [
      "<class '__main__.vehicle'>\n"
     ]
    }
   ],
   "source": [
    "# vehical class with out any variable and method\n",
    "\n",
    "class vehicle:\n",
    "    print(vehicle)"
   ]
  },
  {
   "cell_type": "code",
   "execution_count": 7,
   "id": "5b0c30a4",
   "metadata": {},
   "outputs": [
    {
     "name": "stdout",
     "output_type": "stream",
     "text": [
      "bus have 6 weel\n",
      "is a bus\n",
      "very fast\n"
     ]
    }
   ],
   "source": [
    "# bus\n",
    "class vehicle:\n",
    "    def __init__(self,max_speed,mileage):\n",
    "        self.max_speed=max_speed\n",
    "        self.mileage=mileage\n",
    "    def bike(self):\n",
    "        return \"The maximum speed of bike {} and the mileage is {} \".format(self.max_speed,self.mileage)\n",
    "    def jeep(self):\n",
    "        return \"The maximum speed of jeep {} and the mileage is {} \".format(self.max_speed,self.mileage)\n",
    "#child class\n",
    "class Bus:\n",
    "    def __init__(self):\n",
    "        super().__init__()\n",
    "        print(\"bus have 6 weel\")\n",
    "    def whatvehicle(self):\n",
    "        print(\"is a bus\")\n",
    "    def fast(self):\n",
    "        print(\"very fast\")\n",
    "Bus =Bus()\n",
    "Bus.whatvehicle()\n",
    "Bus.fast()"
   ]
  },
  {
   "cell_type": "code",
   "execution_count": 13,
   "id": "93c24771",
   "metadata": {},
   "outputs": [
    {
     "data": {
      "text/plain": [
       "'its me shameema!'"
      ]
     },
     "execution_count": 13,
     "metadata": {},
     "output_type": "execute_result"
    }
   ],
   "source": [
    "class A:\n",
    "    a=\"its me shameema!\"\n",
    "x= A()\n",
    "y=A()\n",
    "x.a\n"
   ]
  },
  {
   "cell_type": "code",
   "execution_count": 14,
   "id": "5512b63a",
   "metadata": {},
   "outputs": [
    {
     "data": {
      "text/plain": [
       "'its me shameema!'"
      ]
     },
     "execution_count": 14,
     "metadata": {},
     "output_type": "execute_result"
    }
   ],
   "source": [
    "y.a"
   ]
  },
  {
   "cell_type": "code",
   "execution_count": 15,
   "id": "3059194d",
   "metadata": {},
   "outputs": [
    {
     "data": {
      "text/plain": [
       "'its me shameema!'"
      ]
     },
     "execution_count": 15,
     "metadata": {},
     "output_type": "execute_result"
    }
   ],
   "source": [
    "A.a"
   ]
  },
  {
   "cell_type": "code",
   "execution_count": 16,
   "id": "5771868b",
   "metadata": {},
   "outputs": [
    {
     "name": "stdout",
     "output_type": "stream",
     "text": [
      "enter the length of rectangle: 4\n",
      "enter the breadth of rectangle: 5\n",
      "area of rectangle: 20\n",
      "\n"
     ]
    }
   ],
   "source": [
    "class rectangle():\n",
    "    def __init__(self,breadth,length):\n",
    "        self.breadth=breadth\n",
    "        self.length=length\n",
    "        \n",
    "    def area(self):\n",
    "        return self.breadth*self.length\n",
    "a=int(input(\"enter the length of rectangle: \"))\n",
    "b=int(input(\"enter the breadth of rectangle: \"))\n",
    "obj=rectangle(a,b)\n",
    "print(\"area of rectangle:\",obj.area())\n",
    "print()"
   ]
  },
  {
   "cell_type": "code",
   "execution_count": 22,
   "id": "0ec138a3",
   "metadata": {},
   "outputs": [
    {
     "name": "stdout",
     "output_type": "stream",
     "text": [
      "enter string:shaee\n",
      "string is :\n",
      "shaee\n"
     ]
    }
   ],
   "source": [
    "class print1():\n",
    "    def __init__(self):\n",
    "        self.string=\"\"\n",
    "    def add(self):\n",
    "        self.string=input(\"enter string:\")\n",
    "    def display(self):\n",
    "        print(\"string is :\")\n",
    "        print(self.string)\n",
    "obj=print1()\n",
    "obj.add()\n",
    "obj.display()\n",
    "    "
   ]
  },
  {
   "cell_type": "code",
   "execution_count": 9,
   "id": "a3044ab8",
   "metadata": {},
   "outputs": [
    {
     "name": "stdout",
     "output_type": "stream",
     "text": [
      "10\n",
      "<function Person.greet at 0x000001AA3974C3A0>\n"
     ]
    }
   ],
   "source": [
    " class Person:\n",
    "    '''this is a person class'''\n",
    "    age = 10\n",
    "    def greet(self):\n",
    "        print('10')\n",
    "print(Person.age)\n",
    "print(Person.greet)\n",
    "\n",
    "\n",
    "    "
   ]
  },
  {
   "cell_type": "code",
   "execution_count": 3,
   "id": "7e50539a",
   "metadata": {},
   "outputs": [
    {
     "name": "stdout",
     "output_type": "stream",
     "text": [
      "enter a list:234\n"
     ]
    },
    {
     "ename": "TypeError",
     "evalue": "'int' object is not callable",
     "output_type": "error",
     "traceback": [
      "\u001b[1;31m---------------------------------------------------------------------------\u001b[0m",
      "\u001b[1;31mTypeError\u001b[0m                                 Traceback (most recent call last)",
      "\u001b[1;32m~\\AppData\\Local\\Temp/ipykernel_6320/985776166.py\u001b[0m in \u001b[0;36m<module>\u001b[1;34m\u001b[0m\n\u001b[1;32m----> 1\u001b[1;33m \u001b[0mlist\u001b[0m\u001b[1;33m=\u001b[0m\u001b[0mlist\u001b[0m\u001b[1;33m(\u001b[0m\u001b[0minput\u001b[0m\u001b[1;33m(\u001b[0m\u001b[1;34m\"enter a list:\"\u001b[0m\u001b[1;33m)\u001b[0m\u001b[1;33m)\u001b[0m\u001b[1;33m\u001b[0m\u001b[1;33m\u001b[0m\u001b[0m\n\u001b[0m\u001b[0;32m      2\u001b[0m \u001b[0mprint\u001b[0m\u001b[1;33m(\u001b[0m\u001b[1;34m\"sorted of list:\"\u001b[0m\u001b[1;33m,\u001b[0m\u001b[0msorted\u001b[0m\u001b[1;33m(\u001b[0m\u001b[0mlist\u001b[0m\u001b[1;33m)\u001b[0m\u001b[1;33m)\u001b[0m\u001b[1;33m\u001b[0m\u001b[1;33m\u001b[0m\u001b[0m\n",
      "\u001b[1;31mTypeError\u001b[0m: 'int' object is not callable"
     ]
    }
   ],
   "source": [
    "list=list(input(\"enter a list:\"))\n",
    "print(\"sorted of list:\",sorted(list))"
   ]
  },
  {
   "cell_type": "code",
   "execution_count": null,
   "id": "c8dcfd2d",
   "metadata": {},
   "outputs": [],
   "source": []
  }
 ],
 "metadata": {
  "kernelspec": {
   "display_name": "Python 3 (ipykernel)",
   "language": "python",
   "name": "python3"
  },
  "language_info": {
   "codemirror_mode": {
    "name": "ipython",
    "version": 3
   },
   "file_extension": ".py",
   "mimetype": "text/x-python",
   "name": "python",
   "nbconvert_exporter": "python",
   "pygments_lexer": "ipython3",
   "version": "3.9.7"
  }
 },
 "nbformat": 4,
 "nbformat_minor": 5
}
