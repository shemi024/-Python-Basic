{
 "cells": [
  {
   "cell_type": "code",
   "execution_count": 1,
   "id": "a7fef698",
   "metadata": {},
   "outputs": [
    {
     "name": "stdout",
     "output_type": "stream",
     "text": [
      "blank list\n",
      "<class 'list'>\n"
     ]
    }
   ],
   "source": [
    "List=[]\n",
    "print(\"blank list\")\n",
    "print(list)"
   ]
  },
  {
   "cell_type": "code",
   "execution_count": 3,
   "id": "ee4654c2",
   "metadata": {},
   "outputs": [
    {
     "name": "stdout",
     "output_type": "stream",
     "text": [
      "\n",
      " list number\n",
      "[10, 30, 40, 50, 'hy']\n"
     ]
    }
   ],
   "source": [
    "List=[10,30,40,50,'hy',]\n",
    "print(\"\\n list number\")\n",
    "print(List)"
   ]
  },
  {
   "cell_type": "code",
   "execution_count": 4,
   "id": "d6cb94c3",
   "metadata": {},
   "outputs": [
    {
     "name": "stdout",
     "output_type": "stream",
     "text": [
      "\n",
      " list number\n",
      "[10, 30, 40, 50]\n"
     ]
    }
   ],
   "source": [
    "List=[10,30,40,50,]\n",
    "print(\"\\n list number\")\n",
    "print(List)"
   ]
  },
  {
   "cell_type": "code",
   "execution_count": 5,
   "id": "0677be43",
   "metadata": {},
   "outputs": [
    {
     "name": "stdout",
     "output_type": "stream",
     "text": [
      "\n",
      " list number\n",
      "['happy', 'im', 'hello', 'hy']\n"
     ]
    }
   ],
   "source": [
    "List=['happy','im','hello','hy',]\n",
    "print(\"\\n list number\")\n",
    "print(List)"
   ]
  },
  {
   "cell_type": "code",
   "execution_count": 6,
   "id": "a31527f4",
   "metadata": {},
   "outputs": [
    {
     "name": "stdout",
     "output_type": "stream",
     "text": [
      "\n",
      " list number\n",
      "[10, 30, 40, 50, ['happy']]\n"
     ]
    }
   ],
   "source": [
    "List=[10,30,40,50,['happy']]\n",
    "print(\"\\n list number\")\n",
    "print(List)"
   ]
  },
  {
   "cell_type": "code",
   "execution_count": 7,
   "id": "8324539f",
   "metadata": {},
   "outputs": [
    {
     "name": "stdout",
     "output_type": "stream",
     "text": [
      "u\n",
      "k\n"
     ]
    }
   ],
   "source": [
    "list=['p','t','u','k','f']\n",
    "print(list[2])\n",
    "print(list[-2])"
   ]
  },
  {
   "cell_type": "code",
   "execution_count": 8,
   "id": "a2fcee15",
   "metadata": {},
   "outputs": [
    {
     "name": "stdout",
     "output_type": "stream",
     "text": [
      "l\n",
      "d\n"
     ]
    }
   ],
   "source": [
    "my_list=['p','k','d','g','l']\n",
    "print(my_list[-1])\n",
    "print(my_list[-3])"
   ]
  },
  {
   "cell_type": "code",
   "execution_count": 9,
   "id": "d170e595",
   "metadata": {},
   "outputs": [
    {
     "name": "stdout",
     "output_type": "stream",
     "text": [
      "[60, 90, 80]\n"
     ]
    }
   ],
   "source": [
    "marks=[60,90,80]\n",
    "print(marks)"
   ]
  },
  {
   "cell_type": "code",
   "execution_count": 10,
   "id": "1279ce34",
   "metadata": {},
   "outputs": [
    {
     "name": "stdout",
     "output_type": "stream",
     "text": [
      "[60, 100, 80]\n"
     ]
    }
   ],
   "source": [
    "marks[1]=100\n",
    "print(marks)"
   ]
  },
  {
   "cell_type": "code",
   "execution_count": 11,
   "id": "d3480924",
   "metadata": {},
   "outputs": [
    {
     "name": "stdout",
     "output_type": "stream",
     "text": [
      "[60, 100, 80, 50]\n"
     ]
    }
   ],
   "source": [
    "marks.append(50)\n",
    "print(marks)"
   ]
  },
  {
   "cell_type": "code",
   "execution_count": 13,
   "id": "5cb1ca51",
   "metadata": {},
   "outputs": [
    {
     "name": "stdout",
     "output_type": "stream",
     "text": [
      "[60, 100, 80, 50, 60, 80, 30, 60, 80, 30]\n"
     ]
    }
   ],
   "source": [
    "marks.extend([60,80,30])\n",
    "print(marks)"
   ]
  },
  {
   "cell_type": "code",
   "execution_count": 14,
   "id": "72cecf7b",
   "metadata": {},
   "outputs": [
    {
     "name": "stdout",
     "output_type": "stream",
     "text": [
      "[60, 100, 60, 80, 50, 60, 80, 30, 60, 80, 30]\n"
     ]
    }
   ],
   "source": [
    "marks.insert(2,60)\n",
    "print(marks)"
   ]
  },
  {
   "cell_type": "code",
   "execution_count": 15,
   "id": "401cd5ae",
   "metadata": {},
   "outputs": [
    {
     "name": "stdout",
     "output_type": "stream",
     "text": [
      "[60, 100, 60, 80, 50, 60, 80, 30, 60, 80, 30]\n"
     ]
    }
   ],
   "source": [
    "print(marks)"
   ]
  },
  {
   "cell_type": "code",
   "execution_count": 23,
   "id": "9b5dcc06",
   "metadata": {},
   "outputs": [
    {
     "name": "stdout",
     "output_type": "stream",
     "text": [
      "[10, 20, 30, 40, 50, 60]\n"
     ]
    }
   ],
   "source": [
    "marks=[10,20,30,40,50,60]\n",
    "print(marks)"
   ]
  },
  {
   "cell_type": "code",
   "execution_count": 24,
   "id": "e1367ada",
   "metadata": {},
   "outputs": [
    {
     "name": "stdout",
     "output_type": "stream",
     "text": [
      "[10, 20, 30, 40, 60]\n"
     ]
    }
   ],
   "source": [
    "del marks[4]\n",
    "print(marks)"
   ]
  },
  {
   "cell_type": "code",
   "execution_count": 25,
   "id": "531cd2d4",
   "metadata": {},
   "outputs": [
    {
     "name": "stdout",
     "output_type": "stream",
     "text": [
      "[]\n"
     ]
    }
   ],
   "source": [
    "marks.clear()\n",
    "print(marks)"
   ]
  },
  {
   "cell_type": "code",
   "execution_count": 26,
   "id": "64b1e1f6",
   "metadata": {},
   "outputs": [
    {
     "name": "stdout",
     "output_type": "stream",
     "text": [
      "[20, 40]\n"
     ]
    }
   ],
   "source": [
    "marks=[20,40,60]\n",
    "marks.remove(60)\n",
    "print(marks)"
   ]
  },
  {
   "cell_type": "code",
   "execution_count": 27,
   "id": "e429fe8a",
   "metadata": {},
   "outputs": [
    {
     "data": {
      "text/plain": [
       "40"
      ]
     },
     "execution_count": 27,
     "metadata": {},
     "output_type": "execute_result"
    }
   ],
   "source": [
    "marks.pop()"
   ]
  },
  {
   "cell_type": "code",
   "execution_count": 28,
   "id": "35250d23",
   "metadata": {},
   "outputs": [
    {
     "name": "stdout",
     "output_type": "stream",
     "text": [
      "[20]\n"
     ]
    }
   ],
   "source": [
    "print(marks)"
   ]
  },
  {
   "cell_type": "code",
   "execution_count": 29,
   "id": "932ccc55",
   "metadata": {},
   "outputs": [
    {
     "name": "stdout",
     "output_type": "stream",
     "text": [
      "['y', 'p', 'k', 't']\n"
     ]
    }
   ],
   "source": [
    "list=['y','p','k','t']\n",
    "print(list[0:4])"
   ]
  },
  {
   "cell_type": "code",
   "execution_count": 30,
   "id": "353b1a7f",
   "metadata": {},
   "outputs": [
    {
     "name": "stdout",
     "output_type": "stream",
     "text": [
      "['k']\n"
     ]
    }
   ],
   "source": [
    "print(list[-2:-1])"
   ]
  },
  {
   "cell_type": "code",
   "execution_count": 37,
   "id": "791a8271",
   "metadata": {
    "scrolled": true
   },
   "outputs": [
    {
     "name": "stdout",
     "output_type": "stream",
     "text": [
      "oldlist: ['hi', 'heloo']\n",
      "list: ['hi', 'heloo', 'welcome']\n"
     ]
    }
   ],
   "source": [
    "list=[\"hi\",\"heloo\"]\n",
    "print('oldlist:',list)\n",
    "list.append(\"welcome\")\n",
    "print('list:',list)"
   ]
  },
  {
   "cell_type": "code",
   "execution_count": 38,
   "id": "68fa5e08",
   "metadata": {},
   "outputs": [
    {
     "name": "stdout",
     "output_type": "stream",
     "text": [
      "old list: ['hi', 'hello']\n",
      "updated list: ['hi', 'hello', ['welcome']]\n"
     ]
    }
   ],
   "source": [
    "list=['hi','hello']\n",
    "print('old list:',list)\n",
    "list1=['welcome']\n",
    "list.append(list1)\n",
    "print('updated list:',list)"
   ]
  },
  {
   "cell_type": "code",
   "execution_count": 40,
   "id": "deb91dd3",
   "metadata": {},
   "outputs": [
    {
     "name": "stdout",
     "output_type": "stream",
     "text": [
      "The count of i is: 1\n",
      "The count of i is: 1\n"
     ]
    }
   ],
   "source": [
    "list=['h','i','k','l','p','!']\n",
    "print('The count of i is:',list.count('k'))\n",
    "print('The count of i is:',list.count('l'))\n"
   ]
  },
  {
   "cell_type": "code",
   "execution_count": 41,
   "id": "2718d26c",
   "metadata": {},
   "outputs": [
    {
     "name": "stdout",
     "output_type": "stream",
     "text": [
      "The count of('a','b')is: 1\n",
      "The count of[3,4]is: 0\n"
     ]
    }
   ],
   "source": [
    "list=['a',('k','i'),('a','b'),[8,4]]\n",
    "count=list.count(('a','b'))\n",
    "print(\"The count of('a','b')is:\",count)\n",
    "count=list.count([3,4])\n",
    "print(\"The count of[3,4]is:\",count)"
   ]
  },
  {
   "cell_type": "code",
   "execution_count": 42,
   "id": "ad15a344",
   "metadata": {},
   "outputs": [
    {
     "name": "stdout",
     "output_type": "stream",
     "text": [
      "language list: ['c', 'c++', 'python', 'java', 'COBOL']\n"
     ]
    }
   ],
   "source": [
    "language=['c','c++','python']\n",
    "language1=['java','COBOL']\n",
    "language.extend(language1)\n",
    "print('language list:',language)"
   ]
  },
  {
   "cell_type": "code",
   "execution_count": 43,
   "id": "6ab3a8bd",
   "metadata": {
    "scrolled": true
   },
   "outputs": [
    {
     "name": "stdout",
     "output_type": "stream",
     "text": [
      "New language list: ['c', 'c++', 'python', 'JAVA', 'COBOL']\n",
      "Newest language list: ['c', 'c++', 'python', 'JAVA', 'COBOL', 'Net', 'c##']\n"
     ]
    }
   ],
   "source": [
    "language=['c','c++','python']\n",
    "language_tuple=['JAVA','COBOL']\n",
    "language_set={'Net','c##'}\n",
    "language.extend(language_tuple)\n",
    "print('New language list:',language)\n",
    "language.extend(language_set)\n",
    "print('Newest language list:',language)"
   ]
  },
  {
   "cell_type": "code",
   "execution_count": 45,
   "id": "c4eba035",
   "metadata": {},
   "outputs": [
    {
     "name": "stdout",
     "output_type": "stream",
     "text": [
      "The count of i is: 0\n",
      "The count of e is: 5\n"
     ]
    },
    {
     "ename": "ValueError",
     "evalue": "'z' is not in list",
     "output_type": "error",
     "traceback": [
      "\u001b[1;31m---------------------------------------------------------------------------\u001b[0m",
      "\u001b[1;31mValueError\u001b[0m                                Traceback (most recent call last)",
      "\u001b[1;32m~\\AppData\\Local\\Temp/ipykernel_14972/543633304.py\u001b[0m in \u001b[0;36m<module>\u001b[1;34m\u001b[0m\n\u001b[0;32m      2\u001b[0m \u001b[0mprint\u001b[0m\u001b[1;33m(\u001b[0m\u001b[1;34m'The count of i is:'\u001b[0m\u001b[1;33m,\u001b[0m\u001b[0mlist\u001b[0m\u001b[1;33m.\u001b[0m\u001b[0mindex\u001b[0m\u001b[1;33m(\u001b[0m\u001b[1;34m'k'\u001b[0m\u001b[1;33m)\u001b[0m\u001b[1;33m)\u001b[0m\u001b[1;33m\u001b[0m\u001b[1;33m\u001b[0m\u001b[0m\n\u001b[0;32m      3\u001b[0m \u001b[0mprint\u001b[0m\u001b[1;33m(\u001b[0m\u001b[1;34m'The count of e is:'\u001b[0m\u001b[1;33m,\u001b[0m\u001b[0mlist\u001b[0m\u001b[1;33m.\u001b[0m\u001b[0mindex\u001b[0m\u001b[1;33m(\u001b[0m\u001b[1;34m'e'\u001b[0m\u001b[1;33m)\u001b[0m\u001b[1;33m)\u001b[0m\u001b[1;33m\u001b[0m\u001b[1;33m\u001b[0m\u001b[0m\n\u001b[1;32m----> 4\u001b[1;33m \u001b[0mprint\u001b[0m\u001b[1;33m(\u001b[0m\u001b[1;34m'The count of z is:'\u001b[0m\u001b[1;33m,\u001b[0m\u001b[0mlist\u001b[0m\u001b[1;33m.\u001b[0m\u001b[0mindex\u001b[0m\u001b[1;33m(\u001b[0m\u001b[1;34m'z'\u001b[0m\u001b[1;33m)\u001b[0m\u001b[1;33m)\u001b[0m\u001b[1;33m\u001b[0m\u001b[1;33m\u001b[0m\u001b[0m\n\u001b[0m",
      "\u001b[1;31mValueError\u001b[0m: 'z' is not in list"
     ]
    }
   ],
   "source": [
    "list=['k','h','k','l','g','e']\n",
    "print('The count of i is:',list.index('k'))\n",
    "print('The count of e is:',list.index('e'))\n",
    "print('The count of z is:',list.index('z'))"
   ]
  },
  {
   "cell_type": "code",
   "execution_count": 46,
   "id": "881ca9de",
   "metadata": {},
   "outputs": [
    {
     "name": "stdout",
     "output_type": "stream",
     "text": [
      "old list= ['a', 'i', 'o', 'u']\n",
      "new list= ['a', 'e', 'i', 'o', 'u']\n"
     ]
    }
   ],
   "source": [
    "vowels=['a','i','o','u']\n",
    "print(\"old list=\",vowels)\n",
    "vowels.insert(1,'e')\n",
    "print(\"new list=\",vowels)"
   ]
  },
  {
   "cell_type": "code",
   "execution_count": 49,
   "id": "52efb96f",
   "metadata": {},
   "outputs": [
    {
     "name": "stdout",
     "output_type": "stream",
     "text": [
      "old List: [{1, 2}, [5, 6, 7]]\n",
      "updated list: [{1, 2}, (3, 4), [5, 6, 7]]\n"
     ]
    }
   ],
   "source": [
    "list = [{1,2},[5,6,7]]\n",
    "print('old List:',list)\n",
    "number_tuple = (3,4)\n",
    "list.insert(1,number_tuple)\n",
    "print('updated list:',list)"
   ]
  },
  {
   "cell_type": "code",
   "execution_count": 50,
   "id": "c827f563",
   "metadata": {},
   "outputs": [
    {
     "name": "stdout",
     "output_type": "stream",
     "text": [
      "return value: french\n",
      "updated list: ['python', 'java', 'C++', 'c']\n"
     ]
    }
   ],
   "source": [
    "list=['python','java','C++','french','c']\n",
    "return_value=list.pop(3)\n",
    "print('return value:',return_value)\n",
    "print('updated list:',list)"
   ]
  },
  {
   "cell_type": "code",
   "execution_count": 51,
   "id": "609304f9",
   "metadata": {},
   "outputs": [
    {
     "name": "stdout",
     "output_type": "stream",
     "text": [
      "return value: c\n",
      "updated list: ['python', 'java', 'c++']\n",
      "return value: c++\n",
      "updated list: ['python', 'java']\n"
     ]
    }
   ],
   "source": [
    "language=['python','java','c++','c']\n",
    "print('return value:',language.pop())\n",
    "print('updated list:',language)\n",
    "print('return value:',language.pop(-1))\n",
    "print('updated list:',language)"
   ]
  },
  {
   "cell_type": "code",
   "execution_count": 53,
   "id": "67ec92f6",
   "metadata": {},
   "outputs": [
    {
     "name": "stdout",
     "output_type": "stream",
     "text": [
      "new list: [1, 2, 3, 'a']\n",
      "old list: [1, 2, 3, 'a']\n"
     ]
    }
   ],
   "source": [
    "old_list=[1,2,3]\n",
    "new_list=old_list\n",
    "new_list.append('a')\n",
    "print('new list:',new_list)\n",
    "print('old list:',old_list)"
   ]
  },
  {
   "cell_type": "code",
   "execution_count": 54,
   "id": "3a3c65bc",
   "metadata": {},
   "outputs": [
    {
     "name": "stdout",
     "output_type": "stream",
     "text": [
      "old list: [1, 2, 3, 4]\n",
      "new list: [1, 2, 3, 4, 5]\n"
     ]
    }
   ],
   "source": [
    "list=[1,2,3,4]\n",
    "new_list = list[:]\n",
    "new_list.append(5)\n",
    "print('old list:',list)\n",
    "print('new list:',new_list)"
   ]
  },
  {
   "cell_type": "code",
   "execution_count": 56,
   "id": "3da84e5a",
   "metadata": {},
   "outputs": [
    {
     "name": "stdout",
     "output_type": "stream",
     "text": [
      "original list: [3, 4, 5, 6, 7, 8, 9]\n",
      "updated list elements: [3, 5, 6, 7, 8, 9]\n"
     ]
    }
   ],
   "source": [
    "list=[3,4,5,6,7,8,9]\n",
    "print('original list:',list)\n",
    "list.remove(4)\n",
    "print('updated list elements:',list)"
   ]
  },
  {
   "cell_type": "code",
   "execution_count": 57,
   "id": "81c0c0b2",
   "metadata": {},
   "outputs": [
    {
     "name": "stdout",
     "output_type": "stream",
     "text": [
      "original list: [1, 2, 3, 4, 5, 6]\n",
      "reversed list: [6, 5, 4, 3, 2, 1]\n"
     ]
    }
   ],
   "source": [
    "list=[1,2,3,4,5,6]\n",
    "print('original list:',list)\n",
    "reversed_list=list[::-1]\n",
    "print('reversed list:',reversed_list)"
   ]
  },
  {
   "cell_type": "code",
   "execution_count": 58,
   "id": "cf8fad96",
   "metadata": {},
   "outputs": [
    {
     "name": "stdout",
     "output_type": "stream",
     "text": [
      "original list: [1, 2, 3, 4, 5, 6, 7]\n",
      "reversed list: [7, 6, 5, 4, 3, 2, 1]\n"
     ]
    }
   ],
   "source": [
    "list=[1,2,3,4,5,6,7]\n",
    "print('original list:',list)\n",
    "list.reverse()\n",
    "print('reversed list:',list)"
   ]
  },
  {
   "cell_type": "code",
   "execution_count": 61,
   "id": "8c852ccb",
   "metadata": {},
   "outputs": [
    {
     "name": "stdout",
     "output_type": "stream",
     "text": [
      "original list: [1, 8, 2, 9, 4, 10, 6]\n",
      "sorted list: [1, 2, 4, 6, 8, 9, 10]\n"
     ]
    }
   ],
   "source": [
    "list=[1,8,2,9,4,10,6]\n",
    "print('original list:',list)\n",
    "list.sort()\n",
    "print('sorted list:',list)"
   ]
  },
  {
   "cell_type": "code",
   "execution_count": 62,
   "id": "2cb86225",
   "metadata": {},
   "outputs": [
    {
     "name": "stdout",
     "output_type": "stream",
     "text": [
      "original list: [1, 2, 3, 4, 5, 6, 7]\n",
      "sorted list: [7, 6, 5, 4, 3, 2, 1]\n"
     ]
    }
   ],
   "source": [
    "list=[1,2,3,4,5,6,7]\n",
    "print('original list:',list)\n",
    "list.sort(reverse=True)\n",
    "print('sorted list:',list)"
   ]
  },
  {
   "cell_type": "code",
   "execution_count": 75,
   "id": "5b16bc7f",
   "metadata": {},
   "outputs": [
    {
     "data": {
      "text/plain": [
       "True"
      ]
     },
     "execution_count": 75,
     "metadata": {},
     "output_type": "execute_result"
    }
   ],
   "source": [
    "list=[2,3,4,5,7,6,7]\n",
    "all(list)"
   ]
  },
  {
   "cell_type": "code",
   "execution_count": 76,
   "id": "14277b7f",
   "metadata": {},
   "outputs": [
    {
     "data": {
      "text/plain": [
       "True"
      ]
     },
     "execution_count": 76,
     "metadata": {},
     "output_type": "execute_result"
    }
   ],
   "source": [
    "list=[2,3,4,5,7,6,7]\n",
    "any(list)"
   ]
  },
  {
   "cell_type": "code",
   "execution_count": 77,
   "id": "6606f990",
   "metadata": {},
   "outputs": [
    {
     "data": {
      "text/plain": [
       "<enumerate at 0x22a4615a700>"
      ]
     },
     "execution_count": 77,
     "metadata": {},
     "output_type": "execute_result"
    }
   ],
   "source": [
    "list=[2,3,4,5,7,6,7]\n",
    "enumerate(list)"
   ]
  },
  {
   "cell_type": "code",
   "execution_count": 82,
   "id": "0c17e9f7",
   "metadata": {},
   "outputs": [
    {
     "name": "stdout",
     "output_type": "stream",
     "text": [
      "length of list: 5\n"
     ]
    }
   ],
   "source": [
    "list=[1,2,3,4,7]\n",
    "print(\"length of list:\",len(list))"
   ]
  },
  {
   "cell_type": "code",
   "execution_count": 83,
   "id": "8ce1deb3",
   "metadata": {},
   "outputs": [
    {
     "name": "stdout",
     "output_type": "stream",
     "text": [
      "sum of list: 17\n"
     ]
    }
   ],
   "source": [
    "list=[1,2,3,4,7]\n",
    "print(\"sum of list:\",sum(list))"
   ]
  },
  {
   "cell_type": "code",
   "execution_count": 84,
   "id": "843bfc98",
   "metadata": {},
   "outputs": [
    {
     "name": "stdout",
     "output_type": "stream",
     "text": [
      "sorted of list: [1, 2, 3, 4, 7]\n"
     ]
    }
   ],
   "source": [
    "list=[1,2,3,4,7]\n",
    "print(\"sorted of list:\",sorted(list))"
   ]
  },
  {
   "cell_type": "code",
   "execution_count": 85,
   "id": "c9397cab",
   "metadata": {},
   "outputs": [
    {
     "name": "stdout",
     "output_type": "stream",
     "text": [
      "largest number is: 7\n",
      "smallest number is: 1\n"
     ]
    }
   ],
   "source": [
    "list=[1,2,3,4,7]\n",
    "print(\"largest number is:\",max(list))\n",
    "print(\"smallest number is:\",min(list))"
   ]
  },
  {
   "cell_type": "code",
   "execution_count": 87,
   "id": "ef15e5b9",
   "metadata": {},
   "outputs": [
    {
     "ename": "TypeError",
     "evalue": "'list' object is not callable",
     "output_type": "error",
     "traceback": [
      "\u001b[1;31m---------------------------------------------------------------------------\u001b[0m",
      "\u001b[1;31mTypeError\u001b[0m                                 Traceback (most recent call last)",
      "\u001b[1;32m~\\AppData\\Local\\Temp/ipykernel_14972/1091602959.py\u001b[0m in \u001b[0;36m<module>\u001b[1;34m\u001b[0m\n\u001b[0;32m      1\u001b[0m \u001b[0mlist\u001b[0m\u001b[1;33m=\u001b[0m\u001b[1;33m[\u001b[0m\u001b[1;36m1\u001b[0m\u001b[1;33m,\u001b[0m\u001b[1;36m2\u001b[0m\u001b[1;33m,\u001b[0m\u001b[1;36m3\u001b[0m\u001b[1;33m,\u001b[0m\u001b[1;36m4\u001b[0m\u001b[1;33m,\u001b[0m\u001b[1;36m7\u001b[0m\u001b[1;33m]\u001b[0m\u001b[1;33m\u001b[0m\u001b[1;33m\u001b[0m\u001b[0m\n\u001b[1;32m----> 2\u001b[1;33m \u001b[0mprint\u001b[0m\u001b[1;33m(\u001b[0m\u001b[1;34m\"list of list:\"\u001b[0m\u001b[1;33m,\u001b[0m\u001b[0mlist\u001b[0m\u001b[1;33m(\u001b[0m\u001b[0mlist\u001b[0m\u001b[1;33m)\u001b[0m\u001b[1;33m)\u001b[0m\u001b[1;33m\u001b[0m\u001b[1;33m\u001b[0m\u001b[0m\n\u001b[0m",
      "\u001b[1;31mTypeError\u001b[0m: 'list' object is not callable"
     ]
    }
   ],
   "source": [
    "list=[1,2,3,4,7]\n",
    "print(\"list of list:\",list(list))"
   ]
  },
  {
   "cell_type": "code",
   "execution_count": null,
   "id": "8b84d93c",
   "metadata": {},
   "outputs": [],
   "source": []
  }
 ],
 "metadata": {
  "kernelspec": {
   "display_name": "Python 3 (ipykernel)",
   "language": "python",
   "name": "python3"
  },
  "language_info": {
   "codemirror_mode": {
    "name": "ipython",
    "version": 3
   },
   "file_extension": ".py",
   "mimetype": "text/x-python",
   "name": "python",
   "nbconvert_exporter": "python",
   "pygments_lexer": "ipython3",
   "version": "3.9.7"
  }
 },
 "nbformat": 4,
 "nbformat_minor": 5
}
