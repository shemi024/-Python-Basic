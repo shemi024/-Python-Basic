{
 "cells": [
  {
   "cell_type": "code",
   "execution_count": 2,
   "id": "6bd29e83",
   "metadata": {},
   "outputs": [
    {
     "name": "stdout",
     "output_type": "stream",
     "text": [
      "enter the number5\n",
      "not prime..divisible by 2\n"
     ]
    }
   ],
   "source": [
    "n=int(input(\"enter the number\"))\n",
    "for div in range(2,n):\n",
    "    if n & div == 0:\n",
    "        print(\"not prime..divisible by\",div)\n",
    "        break\n",
    "else:\n",
    "    print(\"prime\")"
   ]
  },
  {
   "cell_type": "code",
   "execution_count": 4,
   "id": "b91ecb0f",
   "metadata": {},
   "outputs": [
    {
     "name": "stdout",
     "output_type": "stream",
     "text": [
      "enter lower range:23\n",
      "enter upper range:67\n",
      "prime numbers between 23 and 67 are:\n",
      "23\n",
      "29\n",
      "31\n",
      "37\n",
      "41\n",
      "43\n",
      "47\n",
      "53\n",
      "59\n",
      "61\n",
      "67\n"
     ]
    }
   ],
   "source": [
    "lower= int(input(\"enter lower range:\"))\n",
    "upper= int(input(\"enter upper range:\"))\n",
    "print(\"prime numbers between\",lower,\"and\",upper,\"are:\")\n",
    "for num in range(lower,upper +1):\n",
    "    # prime numbers are greater than 1\n",
    "    if num >1:\n",
    "        for i in range(2,num):\n",
    "            if(num % i) == 0:\n",
    "                break\n",
    "        else:\n",
    "            print(num)"
   ]
  },
  {
   "cell_type": "code",
   "execution_count": 5,
   "id": "3fefb8ca",
   "metadata": {},
   "outputs": [
    {
     "name": "stdout",
     "output_type": "stream",
     "text": [
      "not prime...divisible by 3\n"
     ]
    }
   ],
   "source": [
    "# while with else\n",
    "n=9\n",
    "i=2\n",
    "while i < n:\n",
    "    if(n % i ==0):\n",
    "        print('not prime...divisible by',i)\n",
    "        break\n",
    "    i = i + 1\n",
    "else:\n",
    "    print(\"number is prime\")"
   ]
  },
  {
   "cell_type": "code",
   "execution_count": 6,
   "id": "4a639b1b",
   "metadata": {},
   "outputs": [
    {
     "name": "stdout",
     "output_type": "stream",
     "text": [
      "Hello,shemi.Good morning!\n"
     ]
    }
   ],
   "source": [
    "# function\n",
    "\n",
    "def greet(name):\n",
    "    \"\"\"This function greets to \n",
    "    the person passed in as\n",
    "    a parameter\"\"\"\n",
    "    print(\"Hello,\"+name+\".Good morning!\")\n",
    "greet('shemi')"
   ]
  },
  {
   "cell_type": "code",
   "execution_count": 7,
   "id": "e5e500f2",
   "metadata": {},
   "outputs": [
    {
     "name": "stdout",
     "output_type": "stream",
     "text": [
      "This function greets to \n",
      "    the person passed in as\n",
      "    a parameter\n"
     ]
    }
   ],
   "source": [
    "print(greet.__doc__)"
   ]
  },
  {
   "cell_type": "code",
   "execution_count": 8,
   "id": "37d0e7de",
   "metadata": {},
   "outputs": [
    {
     "name": "stdout",
     "output_type": "stream",
     "text": [
      "2\n",
      "4\n"
     ]
    }
   ],
   "source": [
    "def absolute_value(num):\n",
    "    \"\"\"This function returns the absolute\n",
    "    value of the entered number\"\"\"\n",
    "    if num>=0:\n",
    "        return num\n",
    "    else:\n",
    "        return -num\n",
    "print(absolute_value(2))\n",
    "print(absolute_value(-4))\n"
   ]
  },
  {
   "cell_type": "code",
   "execution_count": 9,
   "id": "0f0acc2b",
   "metadata": {},
   "outputs": [
    {
     "name": "stdout",
     "output_type": "stream",
     "text": [
      "value inside function: 10\n",
      "value outside function: 30\n"
     ]
    }
   ],
   "source": [
    "def my_func():\n",
    "    x=10\n",
    "    print(\"value inside function:\",x)\n",
    "x=30\n",
    "my_func()\n",
    "print(\"value outside function:\",x)"
   ]
  },
  {
   "cell_type": "code",
   "execution_count": 11,
   "id": "35c4c8b8",
   "metadata": {},
   "outputs": [
    {
     "name": "stdout",
     "output_type": "stream",
     "text": [
      "The sum is 11\n"
     ]
    }
   ],
   "source": [
    "def add_numbers(x,y):\n",
    "    sum=x+y\n",
    "    return sum\n",
    "num1=5\n",
    "num2=6\n",
    "print(\"The sum is\",add_numbers(num1,num2))"
   ]
  },
  {
   "cell_type": "code",
   "execution_count": 14,
   "id": "1b94ca26",
   "metadata": {},
   "outputs": [
    {
     "name": "stdout",
     "output_type": "stream",
     "text": [
      "Hello kate,Good morning!\n",
      "Hello Bruce,How do you do?\n"
     ]
    }
   ],
   "source": [
    "def greet(name,msg=\"Good morning!\"):\n",
    "    \"\"\"This function greets to\n",
    "    the person with the provided message.\n",
    "    if the message is not privided,\"\"\"\n",
    "    print(\"Hello\",name + ','+msg)\n",
    "greet(\"kate\")\n",
    "greet(\"Bruce\",\"How do you do?\")\n",
    "    "
   ]
  },
  {
   "cell_type": "code",
   "execution_count": 15,
   "id": "14cccc99",
   "metadata": {},
   "outputs": [
    {
     "name": "stdout",
     "output_type": "stream",
     "text": [
      "Hello kate,Good morning!\n",
      "Hello Bruce,How do you do?\n",
      "Hello tom,what are you doing?\n",
      "Hello timi?,what happend\n"
     ]
    }
   ],
   "source": [
    "def greet(name,msg=\"Good morning!\"):\n",
    "    \"\"\"This function greets to\n",
    "    the person with the provided message.\n",
    "    if the message is not privided,\"\"\"\n",
    "    print(\"Hello\",name + ','+msg)\n",
    "greet(\"kate\")\n",
    "greet(\"Bruce\",\"How do you do?\")\n",
    "greet(name=\"tom\",msg=\"what are you doing?\")\n",
    "greet(msg=\"what happend\",name=\"timi?\")\n"
   ]
  },
  {
   "cell_type": "code",
   "execution_count": 17,
   "id": "1c1ce47e",
   "metadata": {},
   "outputs": [
    {
     "ename": "SyntaxError",
     "evalue": "positional argument follows keyword argument (Temp/ipykernel_3820/354717703.py, line 1)",
     "output_type": "error",
     "traceback": [
      "\u001b[1;36m  File \u001b[1;32m\"C:\\Users\\91999\\AppData\\Local\\Temp/ipykernel_3820/354717703.py\"\u001b[1;36m, line \u001b[1;32m1\u001b[0m\n\u001b[1;33m    greet(name=\"name\",\"what happend\")\u001b[0m\n\u001b[1;37m                                    ^\u001b[0m\n\u001b[1;31mSyntaxError\u001b[0m\u001b[1;31m:\u001b[0m positional argument follows keyword argument\n"
     ]
    }
   ],
   "source": [
    "greet(name=\"name\",\"what happend\")"
   ]
  },
  {
   "cell_type": "code",
   "execution_count": 25,
   "id": "ebd44fa2",
   "metadata": {},
   "outputs": [
    {
     "name": "stdout",
     "output_type": "stream",
     "text": [
      "The factorial of 67 is 36471110918188685288249859096605464427167635314049524593701628500267962436943872000000000000000\n"
     ]
    }
   ],
   "source": [
    "# recursion\n",
    "\n",
    "def factorial(x):\n",
    "    \"\"\"This is arecursive fumction\n",
    "    to find the factorial of an integer\"\"\"\n",
    "    if x==1:\n",
    "        return 1\n",
    "    else:\n",
    "        return(x * factorial(x-1))\n",
    "    num=3\n",
    "print(\"The factorial of\",num, \"is\",factorial(num))"
   ]
  },
  {
   "cell_type": "code",
   "execution_count": 30,
   "id": "9629f4ee",
   "metadata": {},
   "outputs": [
    {
     "name": "stdout",
     "output_type": "stream",
     "text": [
      "     April 2000\n",
      "Mo Tu We Th Fr Sa Su\n",
      "                1  2\n",
      " 3  4  5  6  7  8  9\n",
      "10 11 12 13 14 15 16\n",
      "17 18 19 20 21 22 23\n",
      "24 25 26 27 28 29 30\n",
      "\n"
     ]
    }
   ],
   "source": [
    "import  calendar\n",
    "yy=2000\n",
    "mm=4\n",
    "print(calendar.month(yy,mm))"
   ]
  },
  {
   "cell_type": "code",
   "execution_count": 57,
   "id": "873e312e",
   "metadata": {},
   "outputs": [
    {
     "name": "stdout",
     "output_type": "stream",
     "text": [
      "100\n"
     ]
    }
   ],
   "source": [
    "a=100\n",
    "b=13\n",
    "c=11\n",
    "print(max(a, b, c))"
   ]
  },
  {
   "cell_type": "code",
   "execution_count": 54,
   "id": "a6d46c3b",
   "metadata": {},
   "outputs": [
    {
     "name": "stdout",
     "output_type": "stream",
     "text": [
      "45\n"
     ]
    }
   ],
   "source": [
    "num1=12\n",
    "num2=24\n",
    "num3=45\n",
    "print(max(num1,num2,num3))"
   ]
  },
  {
   "cell_type": "code",
   "execution_count": 66,
   "id": "cabecc2e",
   "metadata": {},
   "outputs": [
    {
     "name": "stdout",
     "output_type": "stream",
     "text": [
      "name: shemi age: 21\n"
     ]
    }
   ],
   "source": [
    "def function(name,age):\n",
    "    \"\"\"the function thst can\n",
    "    accept two arguments,\"\"\"\n",
    "    print(\"name:\",name,\"age:\",age)\n",
    "function('shemi','21')\n",
    " "
   ]
  },
  {
   "cell_type": "code",
   "execution_count": 67,
   "id": "a240213b",
   "metadata": {},
   "outputs": [
    {
     "name": "stdout",
     "output_type": "stream",
     "text": [
      "name: shemi, salary: 9000\n"
     ]
    }
   ],
   "source": [
    "def showEmployee(name,salary=\"9000\"):\n",
    "    \"\"\"this function accept\n",
    "    employee name and salary\"\"\"\n",
    "    print(\"name:\",name+ ',',\"salary:\",salary)\n",
    "showEmployee('shemi')"
   ]
  },
  {
   "cell_type": "code",
   "execution_count": 71,
   "id": "1be3c917",
   "metadata": {},
   "outputs": [
    {
     "name": "stdout",
     "output_type": "stream",
     "text": [
      "a 3, b: 12\n"
     ]
    }
   ],
   "source": [
    " def calculation(a,b=12):\n",
    "        \"\"\"this function accept\n",
    "        two variable and calculate \n",
    "        the addition and subtraction\"\"\"\n",
    "        print(\"a\",a+ ',',\"b:\",b)\n",
    "calculation('3')"
   ]
  },
  {
   "cell_type": "code",
   "execution_count": 2,
   "id": "de30bff7",
   "metadata": {},
   "outputs": [
    {
     "name": "stdout",
     "output_type": "stream",
     "text": [
      "the addition is 54 and the subtraction is 14\n"
     ]
    }
   ],
   "source": [
    "def calculation(a,b):\n",
    "    return print(\"the addition is\",a+b,\"and the subtraction is\",a-b)\n",
    "calculation(34,20)"
   ]
  },
  {
   "cell_type": "code",
   "execution_count": 5,
   "id": "e27d0b13",
   "metadata": {},
   "outputs": [
    {
     "name": "stdout",
     "output_type": "stream",
     "text": [
      "fibnocci series:\n",
      "0\n",
      "1\n",
      "1\n",
      "2\n",
      "3\n",
      "5\n",
      "8\n",
      "13\n",
      "21\n",
      "34\n"
     ]
    }
   ],
   "source": [
    "# fibonacci\n",
    "def fibnocci(x):\n",
    "    if x <= 1:\n",
    "        return x\n",
    "    else:\n",
    "        return (fibnocci(x-1) + fibnocci(x - 2))\n",
    "nterms = 10\n",
    "if nterms <= 0:\n",
    "    print(\"enter value:\")\n",
    "else:\n",
    "    print(\"fibnocci series:\")\n",
    "    for i in range(nterms):\n",
    "        print(fibnocci(i))"
   ]
  },
  {
   "cell_type": "code",
   "execution_count": 6,
   "id": "f27a6764",
   "metadata": {},
   "outputs": [
    {
     "name": "stdout",
     "output_type": "stream",
     "text": [
      "factorial if 3 is 6\n"
     ]
    }
   ],
   "source": [
    "# factorial\n",
    "def factorial(x):\n",
    "    \"\"\"this return to find \n",
    "    factorial of an integer\"\"\"\n",
    "    if x == 1:\n",
    "        return 1\n",
    "    else:\n",
    "        return(x * factorial(x -1))\n",
    "num = 3\n",
    "print(\"factorial if\",num,\"is\",factorial(num))"
   ]
  },
  {
   "cell_type": "code",
   "execution_count": 7,
   "id": "cc9524de",
   "metadata": {},
   "outputs": [
    {
     "name": "stdout",
     "output_type": "stream",
     "text": [
      "enter number:507\n",
      "not\n"
     ]
    }
   ],
   "source": [
    "# armstrong\n",
    "sum=0\n",
    "def armstrong(num):\n",
    "    global sum\n",
    "    if(num!=0):\n",
    "        sum+=pow(num%10,3)\n",
    "        armstrong(num//10)\n",
    "    return sum\n",
    "num=int(input(\"enter number:\"))\n",
    "if(armstrong(num)==num):\n",
    "    print(\"armstrong\")\n",
    "else:\n",
    "    print(\"not\")"
   ]
  },
  {
   "cell_type": "code",
   "execution_count": 10,
   "id": "6de3c0de",
   "metadata": {},
   "outputs": [
    {
     "name": "stdout",
     "output_type": "stream",
     "text": [
      "palindrom\n"
     ]
    }
   ],
   "source": [
    "# palindrom\n",
    "def ispalindrom(x):\n",
    "    return x ==x[::-1]\n",
    "x='malayalam'\n",
    "result = ispalindrom(x)\n",
    "if result:\n",
    "    print(\"palindrom\")\n",
    "else:\n",
    "    print(\"not\")"
   ]
  },
  {
   "cell_type": "code",
   "execution_count": null,
   "id": "9634f1c0",
   "metadata": {},
   "outputs": [],
   "source": []
  }
 ],
 "metadata": {
  "kernelspec": {
   "display_name": "Python 3 (ipykernel)",
   "language": "python",
   "name": "python3"
  },
  "language_info": {
   "codemirror_mode": {
    "name": "ipython",
    "version": 3
   },
   "file_extension": ".py",
   "mimetype": "text/x-python",
   "name": "python",
   "nbconvert_exporter": "python",
   "pygments_lexer": "ipython3",
   "version": "3.9.7"
  }
 },
 "nbformat": 4,
 "nbformat_minor": 5
}
