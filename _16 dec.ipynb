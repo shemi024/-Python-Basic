{
 "cells": [
  {
   "cell_type": "code",
   "execution_count": 1,
   "id": "c818e6db",
   "metadata": {},
   "outputs": [
    {
     "name": "stdout",
     "output_type": "stream",
     "text": [
      "2+3j\n",
      "(5, 0, 10)\n"
     ]
    },
    {
     "ename": "AttributeError",
     "evalue": "'complexNumber' object has no attribute 'attr'",
     "output_type": "error",
     "traceback": [
      "\u001b[1;31m---------------------------------------------------------------------------\u001b[0m",
      "\u001b[1;31mAttributeError\u001b[0m                            Traceback (most recent call last)",
      "\u001b[1;32m~\\AppData\\Local\\Temp/ipykernel_12396/3984499622.py\u001b[0m in \u001b[0;36m<module>\u001b[1;34m\u001b[0m\n\u001b[0;32m     10\u001b[0m \u001b[0mnum2\u001b[0m\u001b[1;33m.\u001b[0m\u001b[0mattr\u001b[0m \u001b[1;33m=\u001b[0m\u001b[1;36m10\u001b[0m\u001b[1;33m\u001b[0m\u001b[1;33m\u001b[0m\u001b[0m\n\u001b[0;32m     11\u001b[0m \u001b[0mprint\u001b[0m\u001b[1;33m(\u001b[0m\u001b[1;33m(\u001b[0m\u001b[0mnum2\u001b[0m\u001b[1;33m.\u001b[0m\u001b[0mreal\u001b[0m\u001b[1;33m,\u001b[0m\u001b[0mnum2\u001b[0m\u001b[1;33m.\u001b[0m\u001b[0mimag\u001b[0m\u001b[1;33m,\u001b[0m\u001b[0mnum2\u001b[0m\u001b[1;33m.\u001b[0m\u001b[0mattr\u001b[0m\u001b[1;33m)\u001b[0m\u001b[1;33m)\u001b[0m\u001b[1;33m\u001b[0m\u001b[1;33m\u001b[0m\u001b[0m\n\u001b[1;32m---> 12\u001b[1;33m \u001b[0mprint\u001b[0m\u001b[1;33m(\u001b[0m\u001b[0mnum1\u001b[0m\u001b[1;33m.\u001b[0m\u001b[0mattr\u001b[0m\u001b[1;33m)\u001b[0m\u001b[1;33m\u001b[0m\u001b[1;33m\u001b[0m\u001b[0m\n\u001b[0m",
      "\u001b[1;31mAttributeError\u001b[0m: 'complexNumber' object has no attribute 'attr'"
     ]
    }
   ],
   "source": [
    "class complexNumber:\n",
    "    def __init__(self,r=0,i=0):\n",
    "        self.real=r\n",
    "        self.imag=i\n",
    "    def get_data(self):\n",
    "        print(f'{self.real}+{self.imag}j')\n",
    "num1=complexNumber(2,3)\n",
    "num1.get_data()\n",
    "num2 =complexNumber(5)\n",
    "num2.attr =10\n",
    "print((num2.real,num2.imag,num2.attr))\n",
    "print(num1.attr)"
   ]
  },
  {
   "cell_type": "code",
   "execution_count": 2,
   "id": "457d9778",
   "metadata": {},
   "outputs": [
    {
     "name": "stdout",
     "output_type": "stream",
     "text": [
      "2+3j\n",
      "(5, 0, 10)\n"
     ]
    },
    {
     "ename": "AttributeError",
     "evalue": "'complexNumber' object has no attribute 'imag'",
     "output_type": "error",
     "traceback": [
      "\u001b[1;31m---------------------------------------------------------------------------\u001b[0m",
      "\u001b[1;31mAttributeError\u001b[0m                            Traceback (most recent call last)",
      "\u001b[1;32m~\\AppData\\Local\\Temp/ipykernel_12396/2636631699.py\u001b[0m in \u001b[0;36m<module>\u001b[1;34m\u001b[0m\n\u001b[0;32m     11\u001b[0m \u001b[0mprint\u001b[0m\u001b[1;33m(\u001b[0m\u001b[1;33m(\u001b[0m\u001b[0mnum2\u001b[0m\u001b[1;33m.\u001b[0m\u001b[0mreal\u001b[0m\u001b[1;33m,\u001b[0m\u001b[0mnum2\u001b[0m\u001b[1;33m.\u001b[0m\u001b[0mimag\u001b[0m\u001b[1;33m,\u001b[0m\u001b[0mnum2\u001b[0m\u001b[1;33m.\u001b[0m\u001b[0mattr\u001b[0m\u001b[1;33m)\u001b[0m\u001b[1;33m)\u001b[0m\u001b[1;33m\u001b[0m\u001b[1;33m\u001b[0m\u001b[0m\n\u001b[0;32m     12\u001b[0m \u001b[1;32mdel\u001b[0m \u001b[0mnum1\u001b[0m\u001b[1;33m.\u001b[0m\u001b[0mimag\u001b[0m\u001b[1;33m\u001b[0m\u001b[1;33m\u001b[0m\u001b[0m\n\u001b[1;32m---> 13\u001b[1;33m \u001b[0mnum1\u001b[0m\u001b[1;33m.\u001b[0m\u001b[0mget_data\u001b[0m\u001b[1;33m(\u001b[0m\u001b[1;33m)\u001b[0m\u001b[1;33m\u001b[0m\u001b[1;33m\u001b[0m\u001b[0m\n\u001b[0m",
      "\u001b[1;32m~\\AppData\\Local\\Temp/ipykernel_12396/2636631699.py\u001b[0m in \u001b[0;36mget_data\u001b[1;34m(self)\u001b[0m\n\u001b[0;32m      4\u001b[0m         \u001b[0mself\u001b[0m\u001b[1;33m.\u001b[0m\u001b[0mimag\u001b[0m\u001b[1;33m=\u001b[0m\u001b[0mi\u001b[0m\u001b[1;33m\u001b[0m\u001b[1;33m\u001b[0m\u001b[0m\n\u001b[0;32m      5\u001b[0m     \u001b[1;32mdef\u001b[0m \u001b[0mget_data\u001b[0m\u001b[1;33m(\u001b[0m\u001b[0mself\u001b[0m\u001b[1;33m)\u001b[0m\u001b[1;33m:\u001b[0m\u001b[1;33m\u001b[0m\u001b[1;33m\u001b[0m\u001b[0m\n\u001b[1;32m----> 6\u001b[1;33m         \u001b[0mprint\u001b[0m\u001b[1;33m(\u001b[0m\u001b[1;34mf'{self.real}+{self.imag}j'\u001b[0m\u001b[1;33m)\u001b[0m\u001b[1;33m\u001b[0m\u001b[1;33m\u001b[0m\u001b[0m\n\u001b[0m\u001b[0;32m      7\u001b[0m \u001b[0mnum1\u001b[0m\u001b[1;33m=\u001b[0m\u001b[0mcomplexNumber\u001b[0m\u001b[1;33m(\u001b[0m\u001b[1;36m2\u001b[0m\u001b[1;33m,\u001b[0m\u001b[1;36m3\u001b[0m\u001b[1;33m)\u001b[0m\u001b[1;33m\u001b[0m\u001b[1;33m\u001b[0m\u001b[0m\n\u001b[0;32m      8\u001b[0m \u001b[0mnum1\u001b[0m\u001b[1;33m.\u001b[0m\u001b[0mget_data\u001b[0m\u001b[1;33m(\u001b[0m\u001b[1;33m)\u001b[0m\u001b[1;33m\u001b[0m\u001b[1;33m\u001b[0m\u001b[0m\n",
      "\u001b[1;31mAttributeError\u001b[0m: 'complexNumber' object has no attribute 'imag'"
     ]
    }
   ],
   "source": [
    "class complexNumber:\n",
    "    def __init__(self,r=0,i=0):\n",
    "        self.real=r\n",
    "        self.imag=i\n",
    "    def get_data(self):\n",
    "        print(f'{self.real}+{self.imag}j')\n",
    "num1=complexNumber(2,3)\n",
    "num1.get_data()\n",
    "num2 =complexNumber(5)\n",
    "num2.attr =10\n",
    "print((num2.real,num2.imag,num2.attr))\n",
    "del num1.imag\n",
    "num1.get_data()"
   ]
  },
  {
   "cell_type": "code",
   "execution_count": 3,
   "id": "6137c5ee",
   "metadata": {},
   "outputs": [
    {
     "ename": "AttributeError",
     "evalue": "'complexNumber' object has no attribute 'get_dat'",
     "output_type": "error",
     "traceback": [
      "\u001b[1;31m---------------------------------------------------------------------------\u001b[0m",
      "\u001b[1;31mAttributeError\u001b[0m                            Traceback (most recent call last)",
      "\u001b[1;32m~\\AppData\\Local\\Temp/ipykernel_12396/1737973023.py\u001b[0m in \u001b[0;36m<module>\u001b[1;34m\u001b[0m\n\u001b[0;32m      1\u001b[0m \u001b[1;32mdel\u001b[0m \u001b[0mcomplexNumber\u001b[0m\u001b[1;33m.\u001b[0m\u001b[0mget_data\u001b[0m\u001b[1;33m\u001b[0m\u001b[1;33m\u001b[0m\u001b[0m\n\u001b[1;32m----> 2\u001b[1;33m \u001b[0mnum1\u001b[0m\u001b[1;33m.\u001b[0m\u001b[0mget_dat\u001b[0m\u001b[1;33m(\u001b[0m\u001b[1;33m)\u001b[0m\u001b[1;33m\u001b[0m\u001b[1;33m\u001b[0m\u001b[0m\n\u001b[0m",
      "\u001b[1;31mAttributeError\u001b[0m: 'complexNumber' object has no attribute 'get_dat'"
     ]
    }
   ],
   "source": [
    "del complexNumber.get_data\n",
    "num1.get_dat()"
   ]
  },
  {
   "cell_type": "code",
   "execution_count": 4,
   "id": "0af6950a",
   "metadata": {},
   "outputs": [
    {
     "name": "stdout",
     "output_type": "stream",
     "text": [
      "ready\n",
      "bike have 2 weel\n",
      "vehicle\n",
      "bus has 4 weel\n",
      "many weel in train\n"
     ]
    }
   ],
   "source": [
    "class vehicle:\n",
    "    def __init__(self):\n",
    "        print(\"ready\")\n",
    "    def car(self):\n",
    "        print(\"vehicle\")\n",
    "class bike(vehicle):\n",
    "    def __init__(self):\n",
    "        super(). __init__() \n",
    "        print(\"bike have 2 weel\")\n",
    "    def bus(self):\n",
    "        print(\"bus has 4 weel\")\n",
    "    def train(self):\n",
    "        print(\"many weel in train\")\n",
    "p=bike()\n",
    "p.car()\n",
    "p.bus()\n",
    "p.train()\n"
   ]
  },
  {
   "cell_type": "code",
   "execution_count": 5,
   "id": "8a7eb50a",
   "metadata": {},
   "outputs": [
    {
     "data": {
      "text/plain": [
       "True"
      ]
     },
     "execution_count": 5,
     "metadata": {},
     "output_type": "execute_result"
    }
   ],
   "source": [
    "isinstance(p,bike)"
   ]
  },
  {
   "cell_type": "code",
   "execution_count": 6,
   "id": "29064b4d",
   "metadata": {},
   "outputs": [
    {
     "data": {
      "text/plain": [
       "True"
      ]
     },
     "execution_count": 6,
     "metadata": {},
     "output_type": "execute_result"
    }
   ],
   "source": [
    "isinstance(p,vehicle)"
   ]
  },
  {
   "cell_type": "code",
   "execution_count": 7,
   "id": "3c6f2e2c",
   "metadata": {},
   "outputs": [
    {
     "data": {
      "text/plain": [
       "False"
      ]
     },
     "execution_count": 7,
     "metadata": {},
     "output_type": "execute_result"
    }
   ],
   "source": [
    "isinstance(p,int)"
   ]
  },
  {
   "cell_type": "code",
   "execution_count": 8,
   "id": "56c7bbe1",
   "metadata": {},
   "outputs": [
    {
     "data": {
      "text/plain": [
       "True"
      ]
     },
     "execution_count": 8,
     "metadata": {},
     "output_type": "execute_result"
    }
   ],
   "source": [
    "isinstance(p,object)"
   ]
  },
  {
   "cell_type": "code",
   "execution_count": 9,
   "id": "d5474a41",
   "metadata": {},
   "outputs": [
    {
     "data": {
      "text/plain": [
       "False"
      ]
     },
     "execution_count": 9,
     "metadata": {},
     "output_type": "execute_result"
    }
   ],
   "source": [
    "issubclass(vehicle,bike)"
   ]
  },
  {
   "cell_type": "code",
   "execution_count": 10,
   "id": "74a9faa4",
   "metadata": {},
   "outputs": [
    {
     "data": {
      "text/plain": [
       "True"
      ]
     },
     "execution_count": 10,
     "metadata": {},
     "output_type": "execute_result"
    }
   ],
   "source": [
    "issubclass(bike,vehicle)"
   ]
  },
  {
   "cell_type": "code",
   "execution_count": 21,
   "id": "0bf6bca0",
   "metadata": {},
   "outputs": [
    {
     "data": {
      "text/plain": [
       "True"
      ]
     },
     "execution_count": 21,
     "metadata": {},
     "output_type": "execute_result"
    }
   ],
   "source": [
    "class vehicle:\n",
    "    def __init__(self,seat,wheel):\n",
    "        self.seat=seat\n",
    "        self.wheel=wheel\n",
    "        \n",
    "class bus(vehicle):\n",
    "    pass\n",
    "        \n",
    "school_bus=bus(20,6)\n",
    "isinstance(school_bus,vehicle)\n",
    "\n",
    "\n",
    "\n",
    "\n"
   ]
  },
  {
   "cell_type": "code",
   "execution_count": 12,
   "id": "2eda3f05",
   "metadata": {},
   "outputs": [
    {
     "name": "stdout",
     "output_type": "stream",
     "text": [
      "ready\n",
      "bike have 2 weel\n",
      "vehicle\n",
      "cycle has 2 weel\n",
      "many weel in train\n"
     ]
    }
   ],
   "source": [
    "class vehicle:\n",
    "    def __init__(self):\n",
    "        print(\"ready\")\n",
    "    def car(self):\n",
    "        print(\"vehicle\")\n",
    "class bike(vehicle):\n",
    "    def __init__(self):\n",
    "        super(). __init__() \n",
    "        print(\"bike have 2 weel\")\n",
    "    def cycle(self):\n",
    "        print(\"cycle has 2 weel\")\n",
    "    def train(self):\n",
    "        print(\"many weel in train\")\n",
    "p=bike()\n",
    "p.car()\n",
    "p.cycle()\n",
    "p.train()\n",
    "\n"
   ]
  },
  {
   "cell_type": "code",
   "execution_count": 14,
   "id": "7b910180",
   "metadata": {},
   "outputs": [
    {
     "name": "stdout",
     "output_type": "stream",
     "text": [
      "name is nikkil and the roll_number is 19\n",
      " age is 21\n",
      " mark is 50\n"
     ]
    }
   ],
   "source": [
    "class student:\n",
    "    def __init__(self,name,roll_number,age,mark):\n",
    "        self.name=name\n",
    "        self.roll_number=roll_number\n",
    "        self.age= age\n",
    "        self.mark=mark\n",
    "        \n",
    "    def display(self):\n",
    "        return \"name is {} and the roll_number is {}\".format(self.name,self.roll_number)\n",
    "    def setAge(self):\n",
    "        return \" age is {}\".format(self.age)\n",
    "    def setmark(self):\n",
    "        return \" mark is {}\".format(self.mark)\n",
    "nikkil=student(\"nikkil\",19,21,50)\n",
    "print(nikkil.display())\n",
    "print(nikkil.setAge())\n",
    "print(nikkil.setmark())\n",
    "\n"
   ]
  },
  {
   "cell_type": "code",
   "execution_count": null,
   "id": "7cde820a",
   "metadata": {},
   "outputs": [
    {
     "name": "stdout",
     "output_type": "stream",
     "text": [
      "enter first number:3\n",
      "enter second number:4\n",
      "add\n",
      "mul\n",
      "div\n",
      "enter your choice:1\n",
      "7\n",
      "None\n",
      "add\n",
      "mul\n",
      "div\n"
     ]
    }
   ],
   "source": [
    "class calculator1:\n",
    "    def addition(self):\n",
    "        print(a + b)\n",
    "        \n",
    "class calculator2:\n",
    "    def multiplication(self):\n",
    "        print(a * b)\n",
    "class  calculator3(calculator1,calculator2) :\n",
    "    def division(self):\n",
    "        print(a / b)\n",
    "a = int(input(\"enter first number:\"))\n",
    "b = int(input(\"enter second number:\"))\n",
    "obj = calculator1(a,b)\n",
    "choice =1\n",
    "while choice !=0:\n",
    "    print(\"add\")\n",
    "    print(\"mul\")\n",
    "    print(\"div\")\n",
    "    choice = int(input(\"enter your choice:\"))\n",
    "    if choice ==1:\n",
    "        print(obj.addition())\n",
    "    elif choice ==2:\n",
    "        print(obj.multiplication())\n",
    "    elif choice ==3:\n",
    "        print(obj.division())\n",
    "    else:\n",
    "        print(\"invalid choice\")\n",
    "     \n",
    "        "
   ]
  },
  {
   "cell_type": "code",
   "execution_count": 2,
   "id": "9b60b13d",
   "metadata": {},
   "outputs": [
    {
     "name": "stdout",
     "output_type": "stream",
     "text": [
      "animal\n",
      "dog has domestic animal\n"
     ]
    }
   ],
   "source": [
    "class animal:\n",
    "    def __init__(self):\n",
    "        print(\"animal\")\n",
    "class dog(animal):\n",
    "    def __init__(self):\n",
    "        super().__init__()\n",
    "        print(\"dog has domestic animal\")\n",
    "class dogchild(dog):\n",
    "    pass\n",
    "a=dogchild()"
   ]
  },
  {
   "cell_type": "code",
   "execution_count": 3,
   "id": "34b25e8f",
   "metadata": {},
   "outputs": [
    {
     "name": "stdout",
     "output_type": "stream",
     "text": [
      "animal\n",
      "dog can speak\n"
     ]
    }
   ],
   "source": [
    "class animal:\n",
    "    def __init__(self):\n",
    "        print(\"animal\")\n",
    "    def speak(self):\n",
    "        print(\"dog can speak\")\n",
    "class dog(animal):\n",
    "    pass\n",
    "a=dog()\n",
    "a.speak()"
   ]
  },
  {
   "cell_type": "code",
   "execution_count": 1,
   "id": "ce84635a",
   "metadata": {},
   "outputs": [
    {
     "name": "stdout",
     "output_type": "stream",
     "text": [
      "enter the first value:20\n",
      "enetr the second value:100\n",
      "the addition value is: 120\n",
      "the multiplication value is: 2000\n",
      "the division value is: 0.2\n"
     ]
    }
   ],
   "source": [
    "# calculation using multilevel inheritance\n",
    "\n",
    "class calculator1:\n",
    "    def addition(self):\n",
    "        print(\"the addition value is:\",a + b)\n",
    "        \n",
    "class calculator2:\n",
    "    def multiplication(self):\n",
    "         print(\"the multiplication value is:\",a * b)\n",
    "class  calculator3(calculator1,calculator2) :\n",
    "    def division(self):\n",
    "         print(\"the division value is:\",a / b)\n",
    "         \n",
    "        \n",
    "a = int(input(\"enter the first value:\"))\n",
    "b = int(input(\"enetr the second value:\"))\n",
    "obj=calculator3()\n",
    "obj.addition()\n",
    "obj.multiplication()\n",
    "obj.division()\n",
    " "
   ]
  },
  {
   "cell_type": "code",
   "execution_count": null,
   "id": "da1d7603",
   "metadata": {},
   "outputs": [],
   "source": []
  },
  {
   "cell_type": "code",
   "execution_count": null,
   "id": "e3f4babd",
   "metadata": {},
   "outputs": [],
   "source": []
  }
 ],
 "metadata": {
  "kernelspec": {
   "display_name": "Python 3 (ipykernel)",
   "language": "python",
   "name": "python3"
  },
  "language_info": {
   "codemirror_mode": {
    "name": "ipython",
    "version": 3
   },
   "file_extension": ".py",
   "mimetype": "text/x-python",
   "name": "python",
   "nbconvert_exporter": "python",
   "pygments_lexer": "ipython3",
   "version": "3.9.7"
  }
 },
 "nbformat": 4,
 "nbformat_minor": 5
}
