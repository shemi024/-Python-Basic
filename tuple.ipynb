{
 "cells": [
  {
   "cell_type": "code",
   "execution_count": 3,
   "id": "b06c4856",
   "metadata": {},
   "outputs": [
    {
     "name": "stdout",
     "output_type": "stream",
     "text": [
      "()\n"
     ]
    }
   ],
   "source": [
    "T=()\n",
    "print(T)\n"
   ]
  },
  {
   "cell_type": "code",
   "execution_count": 12,
   "id": "bf18fb57",
   "metadata": {},
   "outputs": [
    {
     "name": "stdout",
     "output_type": "stream",
     "text": [
      "(3,)\n"
     ]
    }
   ],
   "source": [
    "T=3,\n",
    "print(T)"
   ]
  },
  {
   "cell_type": "code",
   "execution_count": 5,
   "id": "f71b1c11",
   "metadata": {},
   "outputs": [
    {
     "name": "stdout",
     "output_type": "stream",
     "text": [
      "(100,)\n"
     ]
    }
   ],
   "source": [
    "T=(100,)\n",
    "print(T)"
   ]
  },
  {
   "cell_type": "code",
   "execution_count": 6,
   "id": "2236fc73",
   "metadata": {},
   "outputs": [
    {
     "name": "stdout",
     "output_type": "stream",
     "text": [
      "(1, 2, 3, 4, 5)\n"
     ]
    }
   ],
   "source": [
    "T=(1,2,3,4,5)\n",
    "print(T)"
   ]
  },
  {
   "cell_type": "code",
   "execution_count": 8,
   "id": "ca8dacb8",
   "metadata": {},
   "outputs": [
    {
     "name": "stdout",
     "output_type": "stream",
     "text": [
      "(1, 2, 3, 4, 5)\n"
     ]
    }
   ],
   "source": [
    "len(T)\n",
    "print(T)"
   ]
  },
  {
   "cell_type": "code",
   "execution_count": 9,
   "id": "b2e22ef2",
   "metadata": {},
   "outputs": [
    {
     "data": {
      "text/plain": [
       "5"
      ]
     },
     "execution_count": 9,
     "metadata": {},
     "output_type": "execute_result"
    }
   ],
   "source": [
    "T1=(10,20,30,(20,30,40),100)\n",
    "len(T1)"
   ]
  },
  {
   "cell_type": "code",
   "execution_count": 10,
   "id": "49d9ed9a",
   "metadata": {},
   "outputs": [
    {
     "data": {
      "text/plain": [
       "20"
      ]
     },
     "execution_count": 10,
     "metadata": {},
     "output_type": "execute_result"
    }
   ],
   "source": [
    "T1[1]"
   ]
  },
  {
   "cell_type": "code",
   "execution_count": 11,
   "id": "1246d254",
   "metadata": {},
   "outputs": [
    {
     "name": "stdout",
     "output_type": "stream",
     "text": [
      "('f', 'a', 't', 'h', 'i', 'm', 'a', ' ', 's', 'h', 'a', 'm', 'e', 'e', 'm', 'a')\n"
     ]
    }
   ],
   "source": [
    "t=tuple('fathima shameema')\n",
    "print(t)"
   ]
  },
  {
   "cell_type": "code",
   "execution_count": 17,
   "id": "87972da3",
   "metadata": {},
   "outputs": [
    {
     "name": "stdout",
     "output_type": "stream",
     "text": [
      "(100, 200, 300)\n"
     ]
    }
   ],
   "source": [
    "items=[100,200,300]\n",
    "T2=tuple(items)\n",
    "print(T2)\n"
   ]
  },
  {
   "cell_type": "code",
   "execution_count": 19,
   "id": "bda5cf7e",
   "metadata": {},
   "outputs": [
    {
     "name": "stdout",
     "output_type": "stream",
     "text": [
      "enter elementrahees\n",
      "('r', 'a', 'h', 'e', 'e', 's')\n"
     ]
    }
   ],
   "source": [
    "T1=tuple(input('enter element'))\n",
    "print(T1)"
   ]
  },
  {
   "cell_type": "code",
   "execution_count": 20,
   "id": "3f19072a",
   "metadata": {},
   "outputs": [
    {
     "name": "stdout",
     "output_type": "stream",
     "text": [
      "(2, 3, 30, 50, 'a', 'd', 'c')\n"
     ]
    }
   ],
   "source": [
    "t1=(2,3,30,50)\n",
    "t2=('a','d','c')\n",
    "t3=t1+t2\n",
    "print(t3)"
   ]
  },
  {
   "cell_type": "code",
   "execution_count": 21,
   "id": "410b54fb",
   "metadata": {},
   "outputs": [
    {
     "ename": "TypeError",
     "evalue": "can only concatenate tuple (not \"int\") to tuple",
     "output_type": "error",
     "traceback": [
      "\u001b[1;31m---------------------------------------------------------------------------\u001b[0m",
      "\u001b[1;31mTypeError\u001b[0m                                 Traceback (most recent call last)",
      "\u001b[1;32m~\\AppData\\Local\\Temp/ipykernel_1380/446044346.py\u001b[0m in \u001b[0;36m<module>\u001b[1;34m\u001b[0m\n\u001b[1;32m----> 1\u001b[1;33m \u001b[0mt1\u001b[0m\u001b[1;33m+\u001b[0m\u001b[1;36m20\u001b[0m\u001b[1;33m\u001b[0m\u001b[1;33m\u001b[0m\u001b[0m\n\u001b[0m\u001b[0;32m      2\u001b[0m \u001b[0mprint\u001b[0m\u001b[1;33m(\u001b[0m\u001b[0mt1\u001b[0m\u001b[1;33m)\u001b[0m\u001b[1;33m\u001b[0m\u001b[1;33m\u001b[0m\u001b[0m\n",
      "\u001b[1;31mTypeError\u001b[0m: can only concatenate tuple (not \"int\") to tuple"
     ]
    }
   ],
   "source": [
    "t1+20\n",
    "print(t1)"
   ]
  },
  {
   "cell_type": "code",
   "execution_count": 24,
   "id": "f44c7f35",
   "metadata": {},
   "outputs": [
    {
     "name": "stdout",
     "output_type": "stream",
     "text": [
      "(10, 20, 30, 40, 50)\n"
     ]
    }
   ],
   "source": [
    "t1=(10,20,30,40)\n",
    "t1=t1+(50,)\n",
    "print(t1)"
   ]
  },
  {
   "cell_type": "code",
   "execution_count": 26,
   "id": "de1fc4b7",
   "metadata": {},
   "outputs": [
    {
     "name": "stdout",
     "output_type": "stream",
     "text": [
      "('do', 'go', 'do', 'go', 'do', 'go', 'do', 'go', 'do', 'go', 'do', 'go')\n"
     ]
    }
   ],
   "source": [
    "t1=(\"do\",\"go\")\n",
    "t1=t1*6\n",
    "print(t1)"
   ]
  },
  {
   "cell_type": "code",
   "execution_count": 27,
   "id": "ffef8a15",
   "metadata": {},
   "outputs": [
    {
     "name": "stdout",
     "output_type": "stream",
     "text": [
      "()\n",
      "(20, 30, 40, 50, 60)\n",
      "(50, 60)\n",
      "(10, 20, 30, 40)\n",
      "(80, 70, 60, 50, 40, 30, 20, 10)\n",
      "(80, 60, 40, 20)\n",
      "(30, 50, 70)\n"
     ]
    }
   ],
   "source": [
    "data=(10,20,30,40,50,60,70,80)\n",
    "data2 = data[4:-4]\n",
    "print(data2)\n",
    "print(data[1:6])\n",
    "print(data[4:-2])\n",
    "print(data[-40:4])\n",
    "print(data[::-1])\n",
    "print(data[::-2])\n",
    "print(data[2:10:2])"
   ]
  },
  {
   "cell_type": "code",
   "execution_count": 28,
   "id": "e67569c7",
   "metadata": {},
   "outputs": [
    {
     "data": {
      "text/plain": [
       "(15, 20, 8, 15, 20, 8, 15, 20, 8, 15, 20, 8)"
      ]
     },
     "execution_count": 28,
     "metadata": {},
     "output_type": "execute_result"
    }
   ],
   "source": [
    "tp1=(11,12,15,20,8,9,10)\n",
    "seql=tp1[::2]\n",
    "seql=tp1[5::2]\n",
    "tp1[2:5]*4\n"
   ]
  },
  {
   "cell_type": "code",
   "execution_count": null,
   "id": "52b090ea",
   "metadata": {},
   "outputs": [],
   "source": []
  }
 ],
 "metadata": {
  "kernelspec": {
   "display_name": "Python 3 (ipykernel)",
   "language": "python",
   "name": "python3"
  },
  "language_info": {
   "codemirror_mode": {
    "name": "ipython",
    "version": 3
   },
   "file_extension": ".py",
   "mimetype": "text/x-python",
   "name": "python",
   "nbconvert_exporter": "python",
   "pygments_lexer": "ipython3",
   "version": "3.9.7"
  }
 },
 "nbformat": 4,
 "nbformat_minor": 5
}
