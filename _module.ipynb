{
 "cells": [
  {
   "cell_type": "code",
   "execution_count": 1,
   "id": "e737df72",
   "metadata": {},
   "outputs": [
    {
     "name": "stdout",
     "output_type": "stream",
     "text": [
      "enter the number:5\n",
      "square root of 5 is: 2.23606797749979\n"
     ]
    }
   ],
   "source": [
    "import math\n",
    "x=int(input(\"enter the number:\"))\n",
    "print(\"square root of\",x,\"is:\",math.sqrt(x))"
   ]
  },
  {
   "cell_type": "code",
   "execution_count": 3,
   "id": "2b08a12d",
   "metadata": {},
   "outputs": [
    {
     "name": "stdout",
     "output_type": "stream",
     "text": [
      "enter the number:8\n",
      "factorial of  8 is: 40320\n"
     ]
    }
   ],
   "source": [
    "import math\n",
    "x=int(input(\"enter the number:\"))\n",
    "print(\"factorial of, \",x,\"is:\",math.factorial(x))"
   ]
  },
  {
   "cell_type": "code",
   "execution_count": 13,
   "id": "a797c41a",
   "metadata": {},
   "outputs": [
    {
     "name": "stdout",
     "output_type": "stream",
     "text": [
      "Today date is: 2021-12-15\n"
     ]
    }
   ],
   "source": [
    "from datetime import date\n",
    "today = date.today()\n",
    "print(\"Today date is:\",today)"
   ]
  },
  {
   "cell_type": "code",
   "execution_count": 2,
   "id": "fea550a3",
   "metadata": {},
   "outputs": [
    {
     "name": "stdout",
     "output_type": "stream",
     "text": [
      "highest value: 9\n",
      "lowest value: 3\n"
     ]
    }
   ],
   "source": [
    "# low and high\n",
    "def high_and_low():\n",
    "    number=[3,5,7,9]\n",
    "    print(\"highest value:\",max(number))\n",
    "    print(\"lowest value:\",min(number))\n",
    "high_and_low()"
   ]
  },
  {
   "cell_type": "code",
   "execution_count": 4,
   "id": "1a0a7ba7",
   "metadata": {},
   "outputs": [
    {
     "name": "stdout",
     "output_type": "stream",
     "text": [
      "the absolute values is: [2, 5, 6, 7]\n"
     ]
    }
   ],
   "source": [
    "# absolute value\n",
    "def abs1():\n",
    "    number=[2,5,6,7]\n",
    "    print(\"the absolute values is:\",number)\n",
    "abs1()"
   ]
  },
  {
   "cell_type": "code",
   "execution_count": 6,
   "id": "44a46875",
   "metadata": {},
   "outputs": [
    {
     "name": "stdout",
     "output_type": "stream",
     "text": [
      "64\n"
     ]
    }
   ],
   "source": [
    "#power of 4 \n",
    "def pow1():\n",
    "    print(\"The value of 4**3 is : \", end=\"\")\n",
    "print(pow(4, 3))"
   ]
  },
  {
   "cell_type": "code",
   "execution_count": 3,
   "id": "a5f442f0",
   "metadata": {},
   "outputs": [
    {
     "name": "stdout",
     "output_type": "stream",
     "text": [
      "3\n"
     ]
    }
   ],
   "source": [
    "# divisible\n",
    "double=(lambda x:x//2)\n",
    "print(double(6))"
   ]
  },
  {
   "cell_type": "code",
   "execution_count": 2,
   "id": "132cb6cd",
   "metadata": {},
   "outputs": [
    {
     "name": "stdout",
     "output_type": "stream",
     "text": [
      "[1, 4, 9, 16, 25, 36, 49, 64]\n"
     ]
    }
   ],
   "source": [
    "# square of list\n",
    "my_list = [1, 2, 3, 4, 5, 6, 7, 8] \n",
    "print(list(map(lambda x:x*x, my_list))) \n"
   ]
  },
  {
   "cell_type": "code",
   "execution_count": null,
   "id": "3f569901",
   "metadata": {},
   "outputs": [],
   "source": []
  }
 ],
 "metadata": {
  "kernelspec": {
   "display_name": "Python 3 (ipykernel)",
   "language": "python",
   "name": "python3"
  },
  "language_info": {
   "codemirror_mode": {
    "name": "ipython",
    "version": 3
   },
   "file_extension": ".py",
   "mimetype": "text/x-python",
   "name": "python",
   "nbconvert_exporter": "python",
   "pygments_lexer": "ipython3",
   "version": "3.9.7"
  }
 },
 "nbformat": 4,
 "nbformat_minor": 5
}
