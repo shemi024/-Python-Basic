{
 "cells": [
  {
   "cell_type": "code",
   "execution_count": 10,
   "id": "99daaf7a",
   "metadata": {},
   "outputs": [
    {
     "name": "stdout",
     "output_type": "stream",
     "text": [
      "first character is  i\n"
     ]
    }
   ],
   "source": [
    "name=\"i dont give a dam\"\n",
    "print( 'first character is ',name[0])"
   ]
  },
  {
   "cell_type": "code",
   "execution_count": 8,
   "id": "ada52a0c",
   "metadata": {},
   "outputs": [
    {
     "name": "stdout",
     "output_type": "stream",
     "text": [
      "second character is o\n"
     ]
    }
   ],
   "source": [
    "print('second character is',name[3])"
   ]
  },
  {
   "cell_type": "code",
   "execution_count": 2,
   "id": "b5fa73ac",
   "metadata": {},
   "outputs": [
    {
     "ename": "NameError",
     "evalue": "name 'name' is not defined",
     "output_type": "error",
     "traceback": [
      "\u001b[1;31m---------------------------------------------------------------------------\u001b[0m",
      "\u001b[1;31mNameError\u001b[0m                                 Traceback (most recent call last)",
      "\u001b[1;32m~\\AppData\\Local\\Temp/ipykernel_6248/1863918763.py\u001b[0m in \u001b[0;36m<module>\u001b[1;34m\u001b[0m\n\u001b[1;32m----> 1\u001b[1;33m \u001b[0mprint\u001b[0m\u001b[1;33m(\u001b[0m\u001b[1;34m'last character is '\u001b[0m\u001b[1;33m,\u001b[0m\u001b[0mname\u001b[0m\u001b[1;33m[\u001b[0m\u001b[1;33m-\u001b[0m\u001b[1;36m1\u001b[0m\u001b[1;33m]\u001b[0m\u001b[1;33m)\u001b[0m\u001b[1;33m\u001b[0m\u001b[1;33m\u001b[0m\u001b[0m\n\u001b[0m",
      "\u001b[1;31mNameError\u001b[0m: name 'name' is not defined"
     ]
    }
   ],
   "source": [
    "print('last character is ',name[-1])"
   ]
  },
  {
   "cell_type": "markdown",
   "id": "76e74bcc",
   "metadata": {},
   "source": []
  },
  {
   "cell_type": "code",
   "execution_count": 12,
   "id": "bc4c331e",
   "metadata": {},
   "outputs": [
    {
     "name": "stdout",
     "output_type": "stream",
     "text": [
      "s <class 'str'>\n"
     ]
    }
   ],
   "source": [
    "name= \"shameema\"\n",
    "print(name[0], type(name))"
   ]
  },
  {
   "cell_type": "code",
   "execution_count": 13,
   "id": "cc96cddd",
   "metadata": {},
   "outputs": [
    {
     "name": "stdout",
     "output_type": "stream",
     "text": [
      "s <class 'str'>\n"
     ]
    }
   ],
   "source": [
    "print(name[0], type(name[0]))"
   ]
  },
  {
   "cell_type": "code",
   "execution_count": 15,
   "id": "3c6a47ef",
   "metadata": {},
   "outputs": [
    {
     "name": "stdout",
     "output_type": "stream",
     "text": [
      "first 5 character are :  fathi\n"
     ]
    }
   ],
   "source": [
    "name= \"fathima shameema\"\n",
    "print('first 5 character are : ' ,name[:5])"
   ]
  },
  {
   "cell_type": "code",
   "execution_count": 16,
   "id": "b65a776c",
   "metadata": {},
   "outputs": [
    {
     "name": "stdout",
     "output_type": "stream",
     "text": [
      "string excluding first 5 character :  ma shameema\n"
     ]
    }
   ],
   "source": [
    "print('string excluding first 5 character : ',name[5:])"
   ]
  },
  {
   "cell_type": "code",
   "execution_count": 17,
   "id": "2e81d8d5",
   "metadata": {},
   "outputs": [
    {
     "name": "stdout",
     "output_type": "stream",
     "text": [
      "3rd to 8th character:  hima \n"
     ]
    }
   ],
   "source": [
    "print('3rd to 8th character: ',name[3:8])"
   ]
  },
  {
   "cell_type": "code",
   "execution_count": 18,
   "id": "f2f29b89",
   "metadata": {},
   "outputs": [
    {
     "name": "stdout",
     "output_type": "stream",
     "text": [
      "fathimashameema\n"
     ]
    }
   ],
   "source": [
    "firstname=\"fathima\"\n",
    "lastname=\"shameema\"\n",
    "fullname=firstname+lastname\n",
    "print(fullname)"
   ]
  },
  {
   "cell_type": "code",
   "execution_count": 30,
   "id": "c98f19c3",
   "metadata": {},
   "outputs": [
    {
     "name": "stdout",
     "output_type": "stream",
     "text": [
      "hellohellohellohellohellohello\n"
     ]
    }
   ],
   "source": [
    "word='hello'\n",
    "echo=word*6\n",
    "print(echo)"
   ]
  },
  {
   "cell_type": "code",
   "execution_count": 2,
   "id": "b99b87a3",
   "metadata": {},
   "outputs": [
    {
     "name": "stdout",
     "output_type": "stream",
     "text": [
      "s\n",
      "h\n",
      "a\n",
      "m\n",
      "e\n",
      "e\n",
      "m\n",
      "a\n"
     ]
    }
   ],
   "source": [
    "word='shameema'\n",
    "for c in word:\n",
    "    print(c)"
   ]
  },
  {
   "cell_type": "code",
   "execution_count": 5,
   "id": "b90f3062",
   "metadata": {},
   "outputs": [
    {
     "name": "stdout",
     "output_type": "stream",
     "text": [
      "character a occured 1 number of times\n",
      "character a occured 2 number of times\n"
     ]
    }
   ],
   "source": [
    "word = 'shameema'\n",
    "count = 0\n",
    "for c in word:\n",
    "    if c == 'a':\n",
    "        count = count + 1\n",
    "        print('character a occured', count,'number of times')"
   ]
  },
  {
   "cell_type": "markdown",
   "id": "064d2e5b",
   "metadata": {},
   "source": [
    "\n",
    "\n"
   ]
  },
  {
   "cell_type": "markdown",
   "id": "a8f4fe04",
   "metadata": {},
   "source": []
  },
  {
   "cell_type": "code",
   "execution_count": 6,
   "id": "7ccbb999",
   "metadata": {},
   "outputs": [
    {
     "name": "stdout",
     "output_type": "stream",
     "text": [
      "enter your name:shameema\n",
      "shameema\n"
     ]
    }
   ],
   "source": [
    "name=str(input(\"enter your name:\"))\n",
    "print(name)"
   ]
  },
  {
   "cell_type": "code",
   "execution_count": 7,
   "id": "cfdff46b",
   "metadata": {},
   "outputs": [
    {
     "name": "stdout",
     "output_type": "stream",
     "text": [
      "first character is s\n"
     ]
    }
   ],
   "source": [
    "print(\"first character is\",name[0] )"
   ]
  },
  {
   "cell_type": "code",
   "execution_count": 8,
   "id": "55820c8c",
   "metadata": {},
   "outputs": [
    {
     "name": "stdout",
     "output_type": "stream",
     "text": [
      "second character is  a\n"
     ]
    }
   ],
   "source": [
    "print(\"second character is \",name[2])"
   ]
  },
  {
   "cell_type": "code",
   "execution_count": 9,
   "id": "38b11a9e",
   "metadata": {},
   "outputs": [
    {
     "name": "stdout",
     "output_type": "stream",
     "text": [
      "last character is  a\n"
     ]
    }
   ],
   "source": [
    "print(\"last character is \",name[-1])"
   ]
  },
  {
   "cell_type": "code",
   "execution_count": 10,
   "id": "40ff4a36",
   "metadata": {},
   "outputs": [
    {
     "name": "stdout",
     "output_type": "stream",
     "text": [
      "s <class 'str'>\n"
     ]
    }
   ],
   "source": [
    "print(name[0], type(name))\n"
   ]
  },
  {
   "cell_type": "code",
   "execution_count": 11,
   "id": "bc755b6d",
   "metadata": {},
   "outputs": [
    {
     "name": "stdout",
     "output_type": "stream",
     "text": [
      "s <class 'str'>\n"
     ]
    }
   ],
   "source": [
    "print(name[0], type(name[0]))"
   ]
  },
  {
   "cell_type": "code",
   "execution_count": 12,
   "id": "34807f92",
   "metadata": {},
   "outputs": [
    {
     "name": "stdout",
     "output_type": "stream",
     "text": [
      "first 5 character are :  shame\n"
     ]
    }
   ],
   "source": [
    "print('first 5 character are : ' ,name[:5])"
   ]
  },
  {
   "cell_type": "code",
   "execution_count": 13,
   "id": "5dfc83e1",
   "metadata": {},
   "outputs": [
    {
     "name": "stdout",
     "output_type": "stream",
     "text": [
      "first 2 character are :  sh\n"
     ]
    }
   ],
   "source": [
    "print('first 2 character are : ' ,name[:2])"
   ]
  },
  {
   "cell_type": "code",
   "execution_count": 14,
   "id": "94b1b2dc",
   "metadata": {},
   "outputs": [
    {
     "name": "stdout",
     "output_type": "stream",
     "text": [
      "first 5 character are :  ema\n"
     ]
    }
   ],
   "source": [
    "print('first 5 character are : ' ,name[5:8])"
   ]
  },
  {
   "cell_type": "code",
   "execution_count": 18,
   "id": "9fc8f8ec",
   "metadata": {},
   "outputs": [
    {
     "name": "stdout",
     "output_type": "stream",
     "text": [
      "shameema\n"
     ]
    }
   ],
   "source": [
    "firstname=\"sham\"\n",
    "secondname=\"eema\"\n",
    "fullname=firstname+secondname\n",
    "print(fullname)"
   ]
  },
  {
   "cell_type": "code",
   "execution_count": 19,
   "id": "a2bd2a1d",
   "metadata": {},
   "outputs": [
    {
     "name": "stdout",
     "output_type": "stream",
     "text": [
      "shameemashameemashameemashameemashameema\n"
     ]
    }
   ],
   "source": [
    "name='shameema'\n",
    "echo=name*5\n",
    "print(echo)"
   ]
  },
  {
   "cell_type": "code",
   "execution_count": 20,
   "id": "5dfc5f0e",
   "metadata": {},
   "outputs": [
    {
     "name": "stdout",
     "output_type": "stream",
     "text": [
      "character a occured 1 number of times\n",
      "character a occured 2 number of times\n"
     ]
    }
   ],
   "source": [
    "name='shameema'\n",
    "count=0\n",
    "for c in name:\n",
    "    if c == 'a':\n",
    "        count = count + 1\n",
    "        print('character a occured', count,'number of times')"
   ]
  },
  {
   "cell_type": "code",
   "execution_count": 22,
   "id": "2dd0ee5c",
   "metadata": {},
   "outputs": [
    {
     "name": "stdout",
     "output_type": "stream",
     "text": [
      "enter the stringshameema\n"
     ]
    }
   ],
   "source": [
    "name=str(input(\"enter the string\"))\n"
   ]
  },
  {
   "cell_type": "code",
   "execution_count": 30,
   "id": "7ebe1f5e",
   "metadata": {},
   "outputs": [
    {
     "name": "stdout",
     "output_type": "stream",
     "text": [
      "enter a string:shami\n",
      "length of string is: 5\n"
     ]
    }
   ],
   "source": [
    "name=str(input(\"enter a string:\"))\n",
    "print(\"length of string is:\",len(name))"
   ]
  },
  {
   "cell_type": "code",
   "execution_count": 40,
   "id": "b42dd77c",
   "metadata": {},
   "outputs": [
    {
     "name": "stdout",
     "output_type": "stream",
     "text": [
      "enter a string:sgahan\n",
      "length of string is: 6\n"
     ]
    }
   ],
   "source": [
    "word=str(input(\"enter a string:\"))\n",
    "count = 0\n",
    "for i in word:\n",
    "        count =count + 1\n",
    "print(\"length of string is:\",count)"
   ]
  },
  {
   "cell_type": "raw",
   "id": "e12f1f54",
   "metadata": {},
   "source": []
  },
  {
   "cell_type": "code",
   "execution_count": 1,
   "id": "939c4e76",
   "metadata": {},
   "outputs": [
    {
     "name": "stdout",
     "output_type": "stream",
     "text": [
      " \n"
     ]
    }
   ],
   "source": [
    "string=\"shameema fathima\"\n",
    "print(string[0-8])"
   ]
  },
  {
   "cell_type": "code",
   "execution_count": null,
   "id": "f65a99eb",
   "metadata": {},
   "outputs": [],
   "source": []
  },
  {
   "cell_type": "code",
   "execution_count": 44,
   "id": "4b68fdd9",
   "metadata": {},
   "outputs": [
    {
     "name": "stdout",
     "output_type": "stream",
     "text": [
      " \n"
     ]
    }
   ],
   "source": [
    "string='shameema fathima'\n",
    "print(string[0-8])"
   ]
  },
  {
   "cell_type": "code",
   "execution_count": null,
   "id": "c27dc14c",
   "metadata": {},
   "outputs": [],
   "source": []
  },
  {
   "cell_type": "code",
   "execution_count": null,
   "id": "bf1b71d6",
   "metadata": {},
   "outputs": [],
   "source": []
  }
 ],
 "metadata": {
  "kernelspec": {
   "display_name": "Python 3 (ipykernel)",
   "language": "python",
   "name": "python3"
  },
  "language_info": {
   "codemirror_mode": {
    "name": "ipython",
    "version": 3
   },
   "file_extension": ".py",
   "mimetype": "text/x-python",
   "name": "python",
   "nbconvert_exporter": "python",
   "pygments_lexer": "ipython3",
   "version": "3.9.7"
  }
 },
 "nbformat": 4,
 "nbformat_minor": 5
}
