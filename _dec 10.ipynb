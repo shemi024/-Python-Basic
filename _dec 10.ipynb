{
 "cells": [
  {
   "cell_type": "code",
   "execution_count": 1,
   "id": "26100a72",
   "metadata": {},
   "outputs": [
    {
     "name": "stdout",
     "output_type": "stream",
     "text": [
      "4 is a positive number.\n",
      "this is always printed.\n"
     ]
    }
   ],
   "source": [
    "num =4\n",
    "if num >0:\n",
    "    print(num, \"is a positive number.\")\n",
    "print(\"this is always printed.\")"
   ]
  },
  {
   "cell_type": "code",
   "execution_count": 2,
   "id": "ecb8738a",
   "metadata": {},
   "outputs": [
    {
     "name": "stdout",
     "output_type": "stream",
     "text": [
      "1505,1540,1575,1610,1645,1680,1715,1750,1785,1820,1855,1890,1925,1960,1995,2030,2065,2100,2135,2170,2205,2240,2275,2310,2345,2380,2415,2450,2485,2520,2555,2590,2625,2660,2695\n"
     ]
    }
   ],
   "source": [
    "n1=[]\n",
    "for n in range (1500,2701):\n",
    "    if(n%7==0) and (n%5==0):\n",
    "        n1.append(str(n))\n",
    "print(\",\".join(n1))"
   ]
  },
  {
   "cell_type": "code",
   "execution_count": 3,
   "id": "dd94a60c",
   "metadata": {},
   "outputs": [
    {
     "name": "stdout",
     "output_type": "stream",
     "text": [
      "this is also always printed.\n"
     ]
    }
   ],
   "source": [
    "num = -1\n",
    "if num>0:\n",
    "    print(num, \"is a positive number.\")\n",
    "print(\"this is also always printed.\")"
   ]
  },
  {
   "cell_type": "code",
   "execution_count": 4,
   "id": "aae03654",
   "metadata": {},
   "outputs": [
    {
     "name": "stdout",
     "output_type": "stream",
     "text": [
      "discount amount : 100.0\n"
     ]
    }
   ],
   "source": [
    "amt = 1000\n",
    "if(amt>0):\n",
    "    if amt <= 1000:\n",
    "        disc = amt*0.10\n",
    "    else:\n",
    "        disc=0.5 * amt\n",
    "    print(\"discount amount :\",disc)\n",
    "else:\n",
    "    print(\"invalid discount amount\")\n",
    "\n",
    "    "
   ]
  },
  {
   "cell_type": "code",
   "execution_count": 5,
   "id": "03df8fda",
   "metadata": {},
   "outputs": [
    {
     "name": "stdout",
     "output_type": "stream",
     "text": [
      "discount amount : 900.0\n"
     ]
    }
   ],
   "source": [
    "# discount\n",
    "amt = 1000\n",
    "if(amt>0):\n",
    "    amt <= 1000\n",
    "    disc = amt*0.10\n",
    "    disc = amt - disc\n",
    "print(\"discount amount :\",disc)"
   ]
  },
  {
   "cell_type": "code",
   "execution_count": null,
   "id": "18f55919",
   "metadata": {},
   "outputs": [],
   "source": [
    "num=int(input(\"enter a number:\"))\n",
    "num == 0\n",
    "if (num %5 == 0):\n",
    "     print(\"number is multiplication of 5\")\n",
    "else:\n",
    "    print(\"the given number not mulication of 5\")"
   ]
  },
  {
   "cell_type": "code",
   "execution_count": null,
   "id": "2972e0bc",
   "metadata": {},
   "outputs": [],
   "source": [
    "num=int(input(\"enter a your age:\"))\n",
    "if (num < 18):\n",
    "    print(\"you can't vote\")\n",
    "elif(num>=18 and num>=25):\n",
    "    print(\"you can caste your vote and contest an election\")\n",
    "else:\n",
    "    print(\"you can vote\")"
   ]
  },
  {
   "cell_type": "code",
   "execution_count": null,
   "id": "c957a2fc",
   "metadata": {},
   "outputs": [],
   "source": [
    "year=int(input(\"enter a year:\"))\n",
    "if (year % 4) == 0:\n",
    "    if(year % 100) ==0:\n",
    "        if(year % 400) ==0:\n",
    "            print(year , \"is a leap year\")\n",
    "        else:\n",
    "            print(year , \"is not a leap year\")\n",
    "    else:\n",
    "        print(year , \"is a leap year\")\n",
    "else:\n",
    "    print(year,\"is not a leap year\")"
   ]
  },
  {
   "cell_type": "code",
   "execution_count": null,
   "id": "3838eb18",
   "metadata": {},
   "outputs": [],
   "source": [
    "year=int(input(\"enter a year:\"))\n",
    "if ((year % 4) == 0 and (year % 100) !=0) or ((year % 100) ==0 and (year % 400) ==0 ):\n",
    "    print(year,\"is a leap year\")\n",
    "else:\n",
    "    print(year,\"is not a leap year\")\n",
    " "
   ]
  },
  {
   "cell_type": "code",
   "execution_count": null,
   "id": "c0dea605",
   "metadata": {},
   "outputs": [],
   "source": [
    "num = int(input(\"enter a number\"))\n",
    "digits = 0\n",
    "while (num !=0):\n",
    "    num = num // 10;\n",
    "#     print(\"num =\", num)\n",
    "    digits = digits + 1\n",
    "print(\"number of digit =\",digits)"
   ]
  },
  {
   "cell_type": "code",
   "execution_count": null,
   "id": "002398e8",
   "metadata": {},
   "outputs": [],
   "source": [
    "num=int(input(\"enter a number:\"))\n",
    "flag = True\n",
    "p=2\n",
    "while(p<num):\n",
    "    if(num%p==0):\n",
    "        flag = False\n",
    "        p=p+1\n",
    "if(flag==True):\n",
    "    print(\"prime\")\n",
    "else:\n",
    "    print(\"not prime\")"
   ]
  },
  {
   "cell_type": "code",
   "execution_count": 1,
   "id": "7cbaab4d",
   "metadata": {},
   "outputs": [
    {
     "name": "stdout",
     "output_type": "stream",
     "text": [
      "enter the number6\n",
      "not prime\n"
     ]
    }
   ],
   "source": [
    "# prime\n",
    "\n",
    "n= int(input(\"enter the number\"))\n",
    "div =2\n",
    "flag= True\n",
    "while div <n:\n",
    "    if n % div ==0:\n",
    "        flag = False\n",
    "    div = div + 1\n",
    "if flag == True:\n",
    "    print(\"prime\")\n",
    "else:\n",
    "    print(\"not prime\")"
   ]
  },
  {
   "cell_type": "code",
   "execution_count": 2,
   "id": "e996cd3e",
   "metadata": {},
   "outputs": [
    {
     "name": "stdout",
     "output_type": "stream",
     "text": [
      "enter a number:7\n"
     ]
    }
   ],
   "source": [
    "# multiplication of 7 and 5\n",
    "num=int(input(\"enter a number:\"))\n",
    "if(num % 7 == 0):\n",
    "    if(num % 5 == 0):\n",
    "        for num in range (1500,2700):\n",
    "            print(\"number is multilication of 7 \")\n",
    "else:\n",
    "    print(\"not multiplication\")"
   ]
  },
  {
   "cell_type": "code",
   "execution_count": 3,
   "id": "f5febfba",
   "metadata": {},
   "outputs": [
    {
     "name": "stdout",
     "output_type": "stream",
     "text": [
      "*\r\n",
      "**\r\n",
      "***\r\n",
      "****\r\n",
      "*****\r\n",
      "****\r\n",
      "***\r\n",
      "**\r\n",
      "*\r\n",
      "\r\n"
     ]
    }
   ],
   "source": [
    "# star\n",
    "rows = 5\n",
    "for i in range (0,rows):\n",
    "    for j in range (0,i +1):\n",
    "        print(\"*\",end='')\n",
    "    print(\"\\r\")\n",
    "for i in range(rows, 0,-1):\n",
    "    for j in range (0,i -1):\n",
    "        print(\"*\",end='')\n",
    "    print(\"\\r\")"
   ]
  },
  {
   "cell_type": "code",
   "execution_count": 16,
   "id": "ffcd593d",
   "metadata": {},
   "outputs": [
    {
     "name": "stdout",
     "output_type": "stream",
     "text": [
      "Number of even num : 4\n",
      "Number of odd num : 5\n"
     ]
    }
   ],
   "source": [
    "# count the even or odd element\n",
    "\n",
    "num=(1,2,3,4,5,6,7,8,9)\n",
    "count_odd = 0\n",
    "count_even = 0\n",
    "for x in num:\n",
    "        if not x % 2:\n",
    "             count_even+=1\n",
    "        else:\n",
    "            count_odd+=1\n",
    "print(\"Number of even num :\",count_even)\n",
    "print(\"Number of odd num :\",count_odd)\n"
   ]
  },
  {
   "cell_type": "code",
   "execution_count": 14,
   "id": "5732a15c",
   "metadata": {},
   "outputs": [
    {
     "ename": "TypeError",
     "evalue": "not all arguments converted during string formatting",
     "output_type": "error",
     "traceback": [
      "\u001b[1;31m---------------------------------------------------------------------------\u001b[0m",
      "\u001b[1;31mTypeError\u001b[0m                                 Traceback (most recent call last)",
      "\u001b[1;32m~\\AppData\\Local\\Temp/ipykernel_6984/2298230774.py\u001b[0m in \u001b[0;36m<module>\u001b[1;34m\u001b[0m\n\u001b[0;32m      3\u001b[0m \u001b[0mcount_even\u001b[0m \u001b[1;33m=\u001b[0m \u001b[1;36m0\u001b[0m\u001b[1;33m\u001b[0m\u001b[1;33m\u001b[0m\u001b[0m\n\u001b[0;32m      4\u001b[0m \u001b[1;32mfor\u001b[0m \u001b[0mx\u001b[0m \u001b[1;32min\u001b[0m \u001b[0mnum\u001b[0m\u001b[1;33m:\u001b[0m\u001b[1;33m\u001b[0m\u001b[1;33m\u001b[0m\u001b[0m\n\u001b[1;32m----> 5\u001b[1;33m         \u001b[1;32mif\u001b[0m \u001b[1;32mnot\u001b[0m \u001b[0mx\u001b[0m \u001b[1;33m%\u001b[0m \u001b[1;36m2\u001b[0m\u001b[1;33m:\u001b[0m\u001b[1;33m\u001b[0m\u001b[1;33m\u001b[0m\u001b[0m\n\u001b[0m\u001b[0;32m      6\u001b[0m             \u001b[0mcount_even\u001b[0m\u001b[1;33m+=\u001b[0m\u001b[1;36m1\u001b[0m\u001b[1;33m\u001b[0m\u001b[1;33m\u001b[0m\u001b[0m\n\u001b[0;32m      7\u001b[0m \u001b[1;33m\u001b[0m\u001b[0m\n",
      "\u001b[1;31mTypeError\u001b[0m: not all arguments converted during string formatting"
     ]
    }
   ],
   "source": [
    "n1=[]\n",
    "count_odd = 0\n",
    "count_even = 0\n",
    "for x in num:\n",
    "        if not x % 2:\n",
    "            count_even+=1\n",
    "           \n",
    "        else:\n",
    "            count_odd+=1\n",
    "            n1.append(list(n))\n",
    "print(\"Number of even num :\",count_even)\n",
    "print(\"Number of odd num :\",count_odd)"
   ]
  },
  {
   "cell_type": "code",
   "execution_count": null,
   "id": "89a46f4c",
   "metadata": {},
   "outputs": [],
   "source": []
  }
 ],
 "metadata": {
  "kernelspec": {
   "display_name": "Python 3 (ipykernel)",
   "language": "python",
   "name": "python3"
  },
  "language_info": {
   "codemirror_mode": {
    "name": "ipython",
    "version": 3
   },
   "file_extension": ".py",
   "mimetype": "text/x-python",
   "name": "python",
   "nbconvert_exporter": "python",
   "pygments_lexer": "ipython3",
   "version": "3.9.7"
  }
 },
 "nbformat": 4,
 "nbformat_minor": 5
}
