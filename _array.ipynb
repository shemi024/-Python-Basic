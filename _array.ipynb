{
 "cells": [
  {
   "cell_type": "code",
   "execution_count": 2,
   "id": "ed921a5d",
   "metadata": {},
   "outputs": [
    {
     "name": "stdout",
     "output_type": "stream",
     "text": [
      "[1, 3, 4, 5, 6]\n",
      "1 3 4 5 6\n"
     ]
    }
   ],
   "source": [
    "a=[1,3,4,5,6]\n",
    "print(a)\n",
    "print(a[0],a[1],a[2],a[3],a[4])"
   ]
  },
  {
   "cell_type": "code",
   "execution_count": 3,
   "id": "f5ed3527",
   "metadata": {},
   "outputs": [
    {
     "name": "stdout",
     "output_type": "stream",
     "text": [
      "1\n",
      "3\n",
      "5\n",
      "7\n",
      "9\n",
      "Access first three items individually\n",
      "1\n",
      "3\n",
      "5\n",
      "7\n",
      "9\n"
     ]
    }
   ],
   "source": [
    "from array import *\n",
    "array_num = array('i', [1,3,5,7,9])\n",
    "for i in array_num:\n",
    "    print(i)\n",
    "print(\"Access first three items individually\")\n",
    "print(array_num[0])\n",
    "print(array_num[1])\n",
    "print(array_num[2])\n",
    "print(array_num[3])\n",
    "print(array_num[4])\n",
    " "
   ]
  },
  {
   "cell_type": "code",
   "execution_count": 62,
   "id": "c5d3ebec",
   "metadata": {},
   "outputs": [
    {
     "name": "stdout",
     "output_type": "stream",
     "text": [
      "original array: [56, 7, 8, 9]\n",
      "reversed array:\n",
      "[9, 8, 7, 56]\n",
      "[9, 8, 7, 56]\n",
      "[9, 8, 7, 56]\n",
      "[9, 8, 7, 56]\n"
     ]
    }
   ],
   "source": [
    "a=[56,7,8,9]\n",
    "print(\"original array:\",a)\n",
    "print(\"reversed array:\")\n",
    "for i in range(len(a)):\n",
    "    print(a[::-1])"
   ]
  },
  {
   "cell_type": "code",
   "execution_count": 10,
   "id": "5d8b135e",
   "metadata": {
    "scrolled": true
   },
   "outputs": [
    {
     "name": "stdout",
     "output_type": "stream",
     "text": [
      "array element is: [1, 2, 3, 4]\n",
      "reversed array is: [4, 3, 2, 1]\n"
     ]
    }
   ],
   "source": [
    "from array import*\n",
    "a=([1,2,3,4])\n",
    "print(\"array element is:\",a)\n",
    "arr=a[::-1]\n",
    "print(\"reversed array is:\",arr)"
   ]
  },
  {
   "cell_type": "code",
   "execution_count": 23,
   "id": "6472dbd1",
   "metadata": {},
   "outputs": [
    {
     "name": "stdout",
     "output_type": "stream",
     "text": [
      "[array([1, 2, 3]), array([4, 5, 6])]\n"
     ]
    }
   ],
   "source": [
    "#array dividing\n",
    "import numpy as np\n",
    "a=np.array([1,2,3,4,5,6])\n",
    "newarry=np.array_split(a,2)\n",
    "print(newarry)"
   ]
  },
  {
   "cell_type": "code",
   "execution_count": 24,
   "id": "574e66f0",
   "metadata": {},
   "outputs": [
    {
     "name": "stdout",
     "output_type": "stream",
     "text": [
      "the avg is 45.0\n"
     ]
    }
   ],
   "source": [
    "#avg\n",
    "\n",
    "def cal_average(num):\n",
    "    sum_num=0\n",
    "    for t in num:\n",
    "        sum_num = sum_num + t\n",
    "    avg = sum_num / len(num)\n",
    "    return  avg\n",
    "print(\"the avg is\", cal_average([20,30,40,50,60,70]))"
   ]
  },
  {
   "cell_type": "code",
   "execution_count": 36,
   "id": "19743808",
   "metadata": {},
   "outputs": [
    {
     "name": "stdout",
     "output_type": "stream",
     "text": [
      "60\n"
     ]
    }
   ],
   "source": [
    "#second last large\n",
    "a=([1,2,3,4,60,50,200])\n",
    "new_arr =a\n",
    "new_arr.remove(max(new_arr))\n",
    "print(max(new_arr))"
   ]
  },
  {
   "cell_type": "code",
   "execution_count": 37,
   "id": "84f93cab",
   "metadata": {},
   "outputs": [
    {
     "name": "stdout",
     "output_type": "stream",
     "text": [
      "67\n"
     ]
    }
   ],
   "source": [
    "#largest valu\n",
    "a=[1,3,4,67,5,2]\n",
    "print(max(a))"
   ]
  },
  {
   "cell_type": "code",
   "execution_count": 38,
   "id": "07dd1cbb",
   "metadata": {},
   "outputs": [
    {
     "name": "stdout",
     "output_type": "stream",
     "text": [
      "1\n"
     ]
    }
   ],
   "source": [
    "#minimum \n",
    "a=[1,3,4,67,5,2]\n",
    "print(min(a))"
   ]
  },
  {
   "cell_type": "code",
   "execution_count": 39,
   "id": "c46e94df",
   "metadata": {},
   "outputs": [
    {
     "name": "stdout",
     "output_type": "stream",
     "text": [
      "prenst in the elemnt of an array is: [2, 3, 4, 6, 7, 8, 9, 0]\n"
     ]
    }
   ],
   "source": [
    "#present element in an array\n",
    "arry=[2,3,4,6,7,8,9,0]\n",
    "print(\"prenst in the elemnt of an array is:\",arry)"
   ]
  },
  {
   "cell_type": "code",
   "execution_count": 3,
   "id": "98f9855c",
   "metadata": {},
   "outputs": [],
   "source": [
    "def SplitArray(arr, n, k):\n",
    "    for i in range(0, k):\n",
    "        x = arr[0]\n",
    "        for j in range(0, n-1):\n",
    "            arr[j] = arr[j + 1]\n",
    "            arr[n-1] = x \n",
    "            arr = [15, 40, 15, 16, 50, 36]\n",
    "            n = len(arr)\n",
    "            position = 2\n",
    "            SplitArray(arr, n, position)\n",
    "            for i in range(0, n):\n",
    "                print(arr[i], end = ' ')\n"
   ]
  },
  {
   "cell_type": "code",
   "execution_count": 53,
   "id": "a156cfb7",
   "metadata": {},
   "outputs": [
    {
     "name": "stdout",
     "output_type": "stream",
     "text": [
      "[10, 20, 30, 40, 50]\n"
     ]
    }
   ],
   "source": [
    "#duplicate \n",
    " \n",
    "a= [10,20,30,40,50]\n",
    "newarry=a\n",
    "print(newarry)"
   ]
  },
  {
   "cell_type": "code",
   "execution_count": 18,
   "id": "82e52278",
   "metadata": {},
   "outputs": [
    {
     "name": "stdout",
     "output_type": "stream",
     "text": [
      "The array is : [31, 42, 13, 34, 85, 0, 99, 1, 3]\n",
      "The elements in odd positions are : \n",
      "42\n",
      "34\n",
      "0\n",
      "1\n",
      "The elements in even positions are : \n",
      "13\n",
      "34\n",
      "85\n",
      "0\n",
      "99\n",
      "1\n",
      "3\n"
     ]
    }
   ],
   "source": [
    "#odd or even posittion\n",
    "a= [31, 42, 13, 34, 85, 0, 99, 1, 3]\n",
    "print(\"The array is :\",a)\n",
    "print(\"The elements in odd positions are : \")\n",
    "for i in range(1, len(a), 2):\n",
    "    print(a[i])\n",
    "print(\"The elements in even positions are : \")\n",
    "for i in range(2, len(a), 1):\n",
    "    print(a[i])   \n"
   ]
  },
  {
   "cell_type": "code",
   "execution_count": 11,
   "id": "32a24833",
   "metadata": {},
   "outputs": [
    {
     "name": "stdout",
     "output_type": "stream",
     "text": [
      "[50, 9, 0, 2, 3, 7, 1]\n"
     ]
    }
   ],
   "source": [
    "#slicing\n",
    "arry = [1, 7, 3, 2, 0, 9, 50]\n",
    "print(arry[6::-1])"
   ]
  },
  {
   "cell_type": "code",
   "execution_count": 14,
   "id": "76cec4e4",
   "metadata": {},
   "outputs": [
    {
     "name": "stdout",
     "output_type": "stream",
     "text": [
      "[1, 2, 4]\n"
     ]
    }
   ],
   "source": [
    "#removal\n",
    "a=[1,2,4,5]\n",
    "a.pop(3)\n",
    "print(a)"
   ]
  },
  {
   "cell_type": "code",
   "execution_count": 22,
   "id": "6651e3bd",
   "metadata": {},
   "outputs": [
    {
     "name": "stdout",
     "output_type": "stream",
     "text": [
      "NumPy Array:[1 2 3]\n",
      "List: [1, 2, 3]\n"
     ]
    }
   ],
   "source": [
    "#converting array to list\n",
    "import numpy as np\n",
    "arr = np.array([1, 2, 3])\n",
    "print(f'NumPy Array:{arr}')\n",
    "\n",
    "list1 = arr.tolist()\n",
    "print(f'List: {list1}')"
   ]
  },
  {
   "cell_type": "code",
   "execution_count": 23,
   "id": "c2c05646",
   "metadata": {},
   "outputs": [
    {
     "name": "stdout",
     "output_type": "stream",
     "text": [
      "length od array is: 6\n"
     ]
    }
   ],
   "source": [
    "a=[1,2,34,5,6,7]\n",
    "print(\"length od array is:\",len(a))"
   ]
  },
  {
   "cell_type": "code",
   "execution_count": 24,
   "id": "958e150e",
   "metadata": {},
   "outputs": [
    {
     "name": "stdout",
     "output_type": "stream",
     "text": [
      "[2, 3, 4, 5, 11]\n"
     ]
    }
   ],
   "source": [
    "#adding element\n",
    "a=[2,3,4,5]\n",
    "a.append(11)\n",
    "print(a)"
   ]
  },
  {
   "cell_type": "code",
   "execution_count": 28,
   "id": "092dcf49",
   "metadata": {},
   "outputs": [
    {
     "ename": "SyntaxError",
     "evalue": "invalid syntax (Temp/ipykernel_13192/127195720.py, line 2)",
     "output_type": "error",
     "traceback": [
      "\u001b[1;36m  File \u001b[1;32m\"C:\\Users\\91999\\AppData\\Local\\Temp/ipykernel_13192/127195720.py\"\u001b[1;36m, line \u001b[1;32m2\u001b[0m\n\u001b[1;33m    a=[1 2 3 5 6]\u001b[0m\n\u001b[1;37m         ^\u001b[0m\n\u001b[1;31mSyntaxError\u001b[0m\u001b[1;31m:\u001b[0m invalid syntax\n"
     ]
    }
   ],
   "source": [
    "#adding element in second posi\n",
    "a=[1 2 3 5 6]\n",
    "a.insert(1,10)\n",
    "print(a)"
   ]
  },
  {
   "cell_type": "code",
   "execution_count": 8,
   "id": "21c09401",
   "metadata": {},
   "outputs": [
    {
     "name": "stdout",
     "output_type": "stream",
     "text": [
      "[1, 11, 2, 3]\n"
     ]
    }
   ],
   "source": [
    " \n",
    "arr =([1,2,3])\n",
    "#print(f'NumPy Array:{arr}')\n",
    "arr.insert(1,11)\n",
    "print(arr)"
   ]
  },
  {
   "cell_type": "code",
   "execution_count": null,
   "id": "c2a3f613",
   "metadata": {},
   "outputs": [],
   "source": []
  }
 ],
 "metadata": {
  "kernelspec": {
   "display_name": "Python 3 (ipykernel)",
   "language": "python",
   "name": "python3"
  },
  "language_info": {
   "codemirror_mode": {
    "name": "ipython",
    "version": 3
   },
   "file_extension": ".py",
   "mimetype": "text/x-python",
   "name": "python",
   "nbconvert_exporter": "python",
   "pygments_lexer": "ipython3",
   "version": "3.9.7"
  }
 },
 "nbformat": 4,
 "nbformat_minor": 5
}
