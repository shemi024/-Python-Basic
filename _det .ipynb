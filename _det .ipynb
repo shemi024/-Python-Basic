{
 "cells": [
  {
   "cell_type": "code",
   "execution_count": 1,
   "id": "c95a103a",
   "metadata": {},
   "outputs": [
    {
     "data": {
      "text/plain": [
       "{'shemi': 1, 'faru': 2, 'timi': 3}"
      ]
     },
     "execution_count": 1,
     "metadata": {},
     "output_type": "execute_result"
    }
   ],
   "source": [
    "dict={'shemi':1, 'faru':2 ,'timi':3}\n",
    "dict"
   ]
  },
  {
   "cell_type": "code",
   "execution_count": 4,
   "id": "d846857c",
   "metadata": {},
   "outputs": [
    {
     "data": {
      "text/plain": [
       "['faru', 'shemi', 'timi']"
      ]
     },
     "execution_count": 4,
     "metadata": {},
     "output_type": "execute_result"
    }
   ],
   "source": [
    "sorted(dict)"
   ]
  },
  {
   "cell_type": "code",
   "execution_count": 5,
   "id": "14d0af84",
   "metadata": {},
   "outputs": [
    {
     "name": "stdout",
     "output_type": "stream",
     "text": [
      "{'shemi': 1, 'faru': 2, 'timi': 3, 'age': 12}\n"
     ]
    }
   ],
   "source": [
    "dict['age']=12\n",
    "print(dict)"
   ]
  },
  {
   "cell_type": "code",
   "execution_count": 6,
   "id": "784550fa",
   "metadata": {},
   "outputs": [
    {
     "name": "stdout",
     "output_type": "stream",
     "text": [
      "None\n",
      "{'d': 6, 'c': 4, 'a': 10, 'b': 8}\n"
     ]
    }
   ],
   "source": [
    "def Merge(dict1, dict2):\n",
    "    return(dict2.update(dict1))\n",
    "     \n",
    "dict1 = {'a': 10, 'b': 8}\n",
    "dict2 = {'d': 6, 'c': 4}\n",
    "print(Merge(dict1, dict2))\n",
    "print(dict2)"
   ]
  },
  {
   "cell_type": "code",
   "execution_count": 10,
   "id": "f05d6ed7",
   "metadata": {},
   "outputs": [
    {
     "name": "stdout",
     "output_type": "stream",
     "text": [
      "enter the number1\n",
      "element not exist\n"
     ]
    }
   ],
   "source": [
    "#check element is exist\n",
    "\n",
    "dict={'fhh':1,'jdj':2,'dhj':3}\n",
    "number=int(input(\"enter the number\"))\n",
    "if (number in dict):\n",
    "    print(\"element is exist\")\n",
    "else:\n",
    "    print(\"element not exist\")"
   ]
  },
  {
   "cell_type": "code",
   "execution_count": null,
   "id": "319bf237",
   "metadata": {},
   "outputs": [],
   "source": []
  }
 ],
 "metadata": {
  "kernelspec": {
   "display_name": "Python 3 (ipykernel)",
   "language": "python",
   "name": "python3"
  },
  "language_info": {
   "codemirror_mode": {
    "name": "ipython",
    "version": 3
   },
   "file_extension": ".py",
   "mimetype": "text/x-python",
   "name": "python",
   "nbconvert_exporter": "python",
   "pygments_lexer": "ipython3",
   "version": "3.9.7"
  }
 },
 "nbformat": 4,
 "nbformat_minor": 5
}
