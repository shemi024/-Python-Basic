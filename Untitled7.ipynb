{
 "cells": [
  {
   "cell_type": "code",
   "execution_count": 1,
   "id": "b7dc36e8",
   "metadata": {},
   "outputs": [
    {
     "name": "stdout",
     "output_type": "stream",
     "text": [
      "enter nameanha azlin\n"
     ]
    }
   ],
   "source": [
    "\n",
    "name=str(input(\"enter name\"))"
   ]
  },
  {
   "cell_type": "code",
   "execution_count": 2,
   "id": "669dbbfb",
   "metadata": {},
   "outputs": [
    {
     "data": {
      "text/plain": [
       "'anha azlin'"
      ]
     },
     "execution_count": 2,
     "metadata": {},
     "output_type": "execute_result"
    }
   ],
   "source": [
    "str.lower(name)"
   ]
  },
  {
   "cell_type": "code",
   "execution_count": 3,
   "id": "abb6363d",
   "metadata": {},
   "outputs": [
    {
     "data": {
      "text/plain": [
       "'ANHA AZLIN'"
      ]
     },
     "execution_count": 3,
     "metadata": {},
     "output_type": "execute_result"
    }
   ],
   "source": [
    "str.upper(name)"
   ]
  },
  {
   "cell_type": "code",
   "execution_count": 4,
   "id": "5d6d0174",
   "metadata": {},
   "outputs": [
    {
     "data": {
      "text/plain": [
       "'ANHA AZLIN'"
      ]
     },
     "execution_count": 4,
     "metadata": {},
     "output_type": "execute_result"
    }
   ],
   "source": [
    "str.swapcase(name)"
   ]
  },
  {
   "cell_type": "code",
   "execution_count": 5,
   "id": "e5d58845",
   "metadata": {},
   "outputs": [
    {
     "data": {
      "text/plain": [
       "'Anha Azlin'"
      ]
     },
     "execution_count": 5,
     "metadata": {},
     "output_type": "execute_result"
    }
   ],
   "source": [
    "str.title(name)"
   ]
  },
  {
   "cell_type": "code",
   "execution_count": 6,
   "id": "5f883385",
   "metadata": {},
   "outputs": [
    {
     "data": {
      "text/plain": [
       "'Anha azlin'"
      ]
     },
     "execution_count": 6,
     "metadata": {},
     "output_type": "execute_result"
    }
   ],
   "source": [
    "str.capitalize(name)"
   ]
  },
  {
   "cell_type": "code",
   "execution_count": 8,
   "id": "a4fc788e",
   "metadata": {},
   "outputs": [
    {
     "name": "stdout",
     "output_type": "stream",
     "text": [
      "enter nameanha filza\n"
     ]
    }
   ],
   "source": [
    "name=str(input(\"enter name\"))"
   ]
  },
  {
   "cell_type": "code",
   "execution_count": 9,
   "id": "ed70a97d",
   "metadata": {},
   "outputs": [
    {
     "data": {
      "text/plain": [
       "'ANHA FILZA'"
      ]
     },
     "execution_count": 9,
     "metadata": {},
     "output_type": "execute_result"
    }
   ],
   "source": [
    "str.upper(name)"
   ]
  },
  {
   "cell_type": "code",
   "execution_count": 10,
   "id": "b23a18b3",
   "metadata": {},
   "outputs": [
    {
     "data": {
      "text/plain": [
       "'ANHA FILZA'"
      ]
     },
     "execution_count": 10,
     "metadata": {},
     "output_type": "execute_result"
    }
   ],
   "source": [
    "str.swapcase(name)"
   ]
  },
  {
   "cell_type": "code",
   "execution_count": 35,
   "id": "6373fc78",
   "metadata": {},
   "outputs": [
    {
     "name": "stdout",
     "output_type": "stream",
     "text": [
      "enter nameanha azlin\n"
     ]
    }
   ],
   "source": [
    "name=str(input(\"enter name\"))"
   ]
  },
  {
   "cell_type": "code",
   "execution_count": 37,
   "id": "5fbdfde5",
   "metadata": {},
   "outputs": [
    {
     "name": "stdout",
     "output_type": "stream",
     "text": [
      "enter a string:hy good morning\n",
      "largest word of a string is: morning\n",
      "smallest word of a string is: hy\n"
     ]
    }
   ],
   "source": [
    "# largest and smallest\n",
    "word=str(input(\"enter a string:\"))\n",
    "largest=max(word.split(),key=len)\n",
    "smallest=min(word.split(),key=len)\n",
    "print(\"largest word of a string is:\",largest)\n",
    "print(\"smallest word of a string is:\",smallest)\n"
   ]
  },
  {
   "cell_type": "code",
   "execution_count": 39,
   "id": "17b1a79b",
   "metadata": {},
   "outputs": [
    {
     "name": "stdout",
     "output_type": "stream",
     "text": [
      "Enter string:filza\n",
      "Number of vowels are:\n",
      "2\n"
     ]
    }
   ],
   "source": [
    "#vowels in a string\n",
    "string=str(input(\"Enter string:\"))\n",
    "vowels=0\n",
    "for i in string:\n",
    "      if(i=='a' or i=='e' or i=='i' or i=='o' or i=='u' or i=='A' or i=='E' or i=='I' or i=='O' or i=='U'):\n",
    "            vowels=vowels+1\n",
    "print(\"Number of vowels are:\")\n",
    "print(vowels)"
   ]
  },
  {
   "cell_type": "code",
   "execution_count": 60,
   "id": "7e4d1e6e",
   "metadata": {},
   "outputs": [
    {
     "name": "stdout",
     "output_type": "stream",
     "text": [
      "aha occured 2 time\n"
     ]
    }
   ],
   "source": [
    "#count substring\n",
    "mainstr = \"ahaahahhhahh\"\n",
    "substr = \"aha\"\n",
    "res = mainstr.count(substr)\n",
    "print(substr, 'occured',res,'time')"
   ]
  },
  {
   "cell_type": "code",
   "execution_count": null,
   "id": "ce95c550",
   "metadata": {},
   "outputs": [],
   "source": []
  },
  {
   "cell_type": "code",
   "execution_count": 67,
   "id": "718fc672",
   "metadata": {},
   "outputs": [
    {
     "name": "stdout",
     "output_type": "stream",
     "text": [
      "enter a string:shamsm faru nsbbssj\n",
      "word split of a string is: ['shamsm', 'faru', 'nsbbssj']\n"
     ]
    }
   ],
   "source": [
    "#slipt method\n",
    "word=str(input(\"enter a string:\"))\n",
    "word=(word.split())\n",
    "print(\"word split of a string is:\",word)\n",
    "\n"
   ]
  },
  {
   "cell_type": "code",
   "execution_count": 77,
   "id": "b6302f3c",
   "metadata": {},
   "outputs": [
    {
     "name": "stdout",
     "output_type": "stream",
     "text": [
      "enter nameanha\n",
      "a,n,h,a\n"
     ]
    }
   ],
   "source": [
    "name=str(input(\"enter name\"))\n",
    "name = \",\".join(name)\n",
    "print(name)"
   ]
  },
  {
   "cell_type": "code",
   "execution_count": 86,
   "id": "3b802ffc",
   "metadata": {},
   "outputs": [
    {
     "name": "stdout",
     "output_type": "stream",
     "text": [
      "joined numbers is: 234678113\n"
     ]
    }
   ],
   "source": [
    "number = [2,3,4,6,7,8,1,13]\n",
    "number=\"\".join(map(str,number))\n",
    "print(\"joined numbers is:\",number)"
   ]
  },
  {
   "cell_type": "code",
   "execution_count": 88,
   "id": "8d4a737f",
   "metadata": {},
   "outputs": [
    {
     "name": "stdout",
     "output_type": "stream",
     "text": [
      "shmeem\n"
     ]
    }
   ],
   "source": [
    "state =\"shameema\"\n",
    "print(state. replace('a',''))\n"
   ]
  },
  {
   "cell_type": "code",
   "execution_count": 89,
   "id": "3e8d8c8e",
   "metadata": {},
   "outputs": [
    {
     "name": "stdout",
     "output_type": "stream",
     "text": [
      "dlroW olleH\n"
     ]
    }
   ],
   "source": [
    "name= \"Hello World\"[::-1]\n",
    "print(name)"
   ]
  },
  {
   "cell_type": "code",
   "execution_count": 90,
   "id": "a4231483",
   "metadata": {},
   "outputs": [
    {
     "name": "stdout",
     "output_type": "stream",
     "text": [
      "87654321\n"
     ]
    }
   ],
   "source": [
    "number = \"12345678\"[::-1]\n",
    "print(number)"
   ]
  },
  {
   "cell_type": "code",
   "execution_count": 91,
   "id": "165505ab",
   "metadata": {},
   "outputs": [
    {
     "name": "stdout",
     "output_type": "stream",
     "text": [
      "include stdio.h\n"
     ]
    }
   ],
   "source": [
    "state =\"#include stdio.h\"\n",
    "print(state.replace ('#',''))"
   ]
  },
  {
   "cell_type": "code",
   "execution_count": 93,
   "id": "194864b7",
   "metadata": {},
   "outputs": [
    {
     "name": "stdout",
     "output_type": "stream",
     "text": [
      "{'Hello', 'world'}\n"
     ]
    }
   ],
   "source": [
    "str1 = \"Hello world its \"\n",
    "str2 = \"Hello world\"\n",
    "str1_words = set(str1.split())\n",
    "str2_words = set(str2.split())\n",
    "common = str1_words & str2_words\n",
    "print(common)"
   ]
  },
  {
   "cell_type": "code",
   "execution_count": null,
   "id": "2ba41140",
   "metadata": {},
   "outputs": [],
   "source": []
  }
 ],
 "metadata": {
  "kernelspec": {
   "display_name": "Python 3 (ipykernel)",
   "language": "python",
   "name": "python3"
  },
  "language_info": {
   "codemirror_mode": {
    "name": "ipython",
    "version": 3
   },
   "file_extension": ".py",
   "mimetype": "text/x-python",
   "name": "python",
   "nbconvert_exporter": "python",
   "pygments_lexer": "ipython3",
   "version": "3.9.7"
  }
 },
 "nbformat": 4,
 "nbformat_minor": 5
}
