{
 "cells": [
  {
   "cell_type": "code",
   "execution_count": 1,
   "id": "d0fc80a1",
   "metadata": {},
   "outputs": [
    {
     "name": "stdout",
     "output_type": "stream",
     "text": [
      "5\n"
     ]
    }
   ],
   "source": [
    "a=2\n",
    "b=3\n",
    "c=5\n",
    "if(a> b) and (a > c): print(a)\n",
    "elif(b > c) and (b > a):print(b)\n",
    "else:print(c)\n",
    "                        "
   ]
  },
  {
   "cell_type": "code",
   "execution_count": 2,
   "id": "77fddc82",
   "metadata": {},
   "outputs": [
    {
     "name": "stdout",
     "output_type": "stream",
     "text": [
      "negative\n"
     ]
    }
   ],
   "source": [
    "x=-10\n",
    "if (x >0):\n",
    "    print(\"positive numb\")\n",
    "elif (x==0):\n",
    "    print(\"zero\")\n",
    "else: print(\"negative\")"
   ]
  },
  {
   "cell_type": "code",
   "execution_count": 3,
   "id": "28357094",
   "metadata": {},
   "outputs": [
    {
     "name": "stdout",
     "output_type": "stream",
     "text": [
      "enter number:5\n",
      "odd number\n"
     ]
    }
   ],
   "source": [
    "num=int(input(\"enter number:\"))\n",
    "if (num % 2) ==0:\n",
    "    print(\"even\")\n",
    "else:\n",
    "    print(\"odd number\")"
   ]
  },
  {
   "cell_type": "code",
   "execution_count": 4,
   "id": "628155b0",
   "metadata": {},
   "outputs": [
    {
     "name": "stdout",
     "output_type": "stream",
     "text": [
      "enter a number6\n",
      "factorial of 6 is 1\n",
      "factorial of 6 is 2\n",
      "factorial of 6 is 6\n",
      "factorial of 6 is 24\n",
      "factorial of 6 is 120\n",
      "factorial of 6 is 720\n"
     ]
    }
   ],
   "source": [
    "num = int(input(\"enter a number\"))\n",
    "factorial = 1\n",
    "if num < 0:\n",
    "    print(\"factorial not exist negative\")\n",
    "elif num== 0:\n",
    "    print(\"factorial 0 is 1\")\n",
    "else:\n",
    "    for i in range(1,num+1):\n",
    "        factorial = factorial*i\n",
    "        print(\"factorial of\",num,\"is\",factorial)"
   ]
  },
  {
   "cell_type": "code",
   "execution_count": 5,
   "id": "dbd8dfb2",
   "metadata": {},
   "outputs": [
    {
     "name": "stdout",
     "output_type": "stream",
     "text": [
      "enter the range6\n",
      "fibonacci series:\n",
      "0\n",
      "1\n",
      "1\n",
      "2\n",
      "3\n",
      "5\n"
     ]
    }
   ],
   "source": [
    "num = int(input(\"enter the range\"))\n",
    "n1=0\n",
    "n2=1\n",
    "count=0\n",
    "if num < 0:\n",
    "    print(\"enter positive integer\")\n",
    "elif num == 0:\n",
    "    print(\"fibonacci series:\",num)\n",
    "    print(n1)\n",
    "else:\n",
    "    print(\"fibonacci series:\")\n",
    "    while count < num:\n",
    "        print(n1)\n",
    "        n=n1+n2\n",
    "        n1=n2\n",
    "        n2=n\n",
    "        count += 1\n",
    "    "
   ]
  },
  {
   "cell_type": "code",
   "execution_count": 6,
   "id": "5566feee",
   "metadata": {},
   "outputs": [
    {
     "name": "stdout",
     "output_type": "stream",
     "text": [
      "enter a number:5\n",
      "\n",
      "sum of the given number is: 1\n",
      "\n",
      "sum of the given number is: 3\n",
      "\n",
      "sum of the given number is: 6\n",
      "\n",
      "sum of the given number is: 10\n",
      "\n",
      "sum of the given number is: 15\n"
     ]
    }
   ],
   "source": [
    "n = int(input(\"enter a number:\"))\n",
    "sum = 0\n",
    "for i in range(1, n+1):\n",
    "    sum = sum + i\n",
    "    print(\"\\nsum of the given number is:\",sum)"
   ]
  },
  {
   "cell_type": "code",
   "execution_count": 7,
   "id": "b6f54478",
   "metadata": {},
   "outputs": [
    {
     "name": "stdout",
     "output_type": "stream",
     "text": [
      "enter a number:6\n",
      "6 is not a prime number\n"
     ]
    }
   ],
   "source": [
    "# prime or not\n",
    "num = int(input(\"enter a number:\"))\n",
    "flag = False\n",
    "if num > 1:\n",
    "    for i in range(2, num):\n",
    "        if (num % i) == 0:\n",
    "            flag = True\n",
    "            break\n",
    "if flag:\n",
    "    print(num,\"is not a prime number\")\n",
    "else:\n",
    "    print(num, \"is a prime number\")"
   ]
  },
  {
   "cell_type": "code",
   "execution_count": 8,
   "id": "bceb43da",
   "metadata": {},
   "outputs": [
    {
     "name": "stdout",
     "output_type": "stream",
     "text": [
      "enter a number5\n",
      "5 not armstrong\n"
     ]
    }
   ],
   "source": [
    "# give number is armstrong or not\n",
    "num = int(input(\"enter a number\"))\n",
    "sum = 0\n",
    "temp = num\n",
    "while temp>0:\n",
    "    digit = temp % 10\n",
    "    sum += digit ** 3\n",
    "    temp //=10\n",
    "if num == sum:\n",
    "        print(num,\"armstrong number\")\n",
    "else:\n",
    "    print(num,\"not armstrong\")"
   ]
  },
  {
   "cell_type": "code",
   "execution_count": 4,
   "id": "c2f31e75",
   "metadata": {},
   "outputs": [
    {
     "name": "stdout",
     "output_type": "stream",
     "text": [
      "the sum is  45\n"
     ]
    }
   ],
   "source": [
    "# total sum the list \n",
    "number = [1,2,3,4,5,6,7,8,9]\n",
    "totalsum=0\n",
    "for val in number:\n",
    "    totalsum= totalsum+val\n",
    "print(\"the sum is \",totalsum)"
   ]
  },
  {
   "cell_type": "code",
   "execution_count": null,
   "id": "d7e30dd3",
   "metadata": {},
   "outputs": [],
   "source": []
  }
 ],
 "metadata": {
  "kernelspec": {
   "display_name": "Python 3 (ipykernel)",
   "language": "python",
   "name": "python3"
  },
  "language_info": {
   "codemirror_mode": {
    "name": "ipython",
    "version": 3
   },
   "file_extension": ".py",
   "mimetype": "text/x-python",
   "name": "python",
   "nbconvert_exporter": "python",
   "pygments_lexer": "ipython3",
   "version": "3.9.7"
  }
 },
 "nbformat": 4,
 "nbformat_minor": 5
}
