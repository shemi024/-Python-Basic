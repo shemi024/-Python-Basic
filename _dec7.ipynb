{
 "cells": [
  {
   "cell_type": "code",
   "execution_count": 1,
   "id": "7cf23bc5",
   "metadata": {},
   "outputs": [
    {
     "data": {
      "text/plain": [
       "True"
      ]
     },
     "execution_count": 1,
     "metadata": {},
     "output_type": "execute_result"
    }
   ],
   "source": [
    "a=(10,20)\n",
    "b=(10,20)\n",
    "c=(20,10)\n",
    "a==b"
   ]
  },
  {
   "cell_type": "code",
   "execution_count": 2,
   "id": "a8ed9022",
   "metadata": {},
   "outputs": [
    {
     "data": {
      "text/plain": [
       "False"
      ]
     },
     "execution_count": 2,
     "metadata": {},
     "output_type": "execute_result"
    }
   ],
   "source": [
    "a==c\n"
   ]
  },
  {
   "cell_type": "code",
   "execution_count": 3,
   "id": "c0774fd8",
   "metadata": {},
   "outputs": [
    {
     "data": {
      "text/plain": [
       "True"
      ]
     },
     "execution_count": 3,
     "metadata": {},
     "output_type": "execute_result"
    }
   ],
   "source": [
    "d=(20.0,10.0)\n",
    "c==d"
   ]
  },
  {
   "cell_type": "code",
   "execution_count": 4,
   "id": "306a19af",
   "metadata": {},
   "outputs": [
    {
     "name": "stdout",
     "output_type": "stream",
     "text": [
      "(10, 20, 30)\n"
     ]
    }
   ],
   "source": [
    "t1=(10,20,30)\n",
    "print(t1)"
   ]
  },
  {
   "cell_type": "code",
   "execution_count": 7,
   "id": "a778d1eb",
   "metadata": {},
   "outputs": [
    {
     "ename": "SyntaxError",
     "evalue": "invalid syntax (Temp/ipykernel_9368/3327455212.py, line 1)",
     "output_type": "error",
     "traceback": [
      "\u001b[1;36m  File \u001b[1;32m\"C:\\Users\\91999\\AppData\\Local\\Temp/ipykernel_9368/3327455212.py\"\u001b[1;36m, line \u001b[1;32m1\u001b[0m\n\u001b[1;33m    det t1\u001b[0m\n\u001b[1;37m        ^\u001b[0m\n\u001b[1;31mSyntaxError\u001b[0m\u001b[1;31m:\u001b[0m invalid syntax\n"
     ]
    }
   ],
   "source": [
    "det t1\n",
    "print(t1)"
   ]
  },
  {
   "cell_type": "code",
   "execution_count": 8,
   "id": "69bc5153",
   "metadata": {},
   "outputs": [
    {
     "data": {
      "text/plain": [
       "700"
      ]
     },
     "execution_count": 8,
     "metadata": {},
     "output_type": "execute_result"
    }
   ],
   "source": [
    "salary=(1000,1500,800,700,1200)\n",
    "min(salary)"
   ]
  },
  {
   "cell_type": "code",
   "execution_count": 9,
   "id": "218830a1",
   "metadata": {},
   "outputs": [
    {
     "data": {
      "text/plain": [
       "'apple'"
      ]
     },
     "execution_count": 9,
     "metadata": {},
     "output_type": "execute_result"
    }
   ],
   "source": [
    "fruits=(\"mango\",\"pineapple\",\"apple\",\"carrot\")\n",
    "min(fruits)"
   ]
  },
  {
   "cell_type": "code",
   "execution_count": 10,
   "id": "cb08cfff",
   "metadata": {},
   "outputs": [
    {
     "ename": "TypeError",
     "evalue": "'<' not supported between instances of 'tuple' and 'int'",
     "output_type": "error",
     "traceback": [
      "\u001b[1;31m---------------------------------------------------------------------------\u001b[0m",
      "\u001b[1;31mTypeError\u001b[0m                                 Traceback (most recent call last)",
      "\u001b[1;32m~\\AppData\\Local\\Temp/ipykernel_9368/2196965548.py\u001b[0m in \u001b[0;36m<module>\u001b[1;34m\u001b[0m\n\u001b[0;32m      1\u001b[0m \u001b[0mt1\u001b[0m\u001b[1;33m=\u001b[0m\u001b[1;33m(\u001b[0m\u001b[1;36m10\u001b[0m\u001b[1;33m,\u001b[0m\u001b[1;36m20\u001b[0m\u001b[1;33m,\u001b[0m\u001b[1;36m30\u001b[0m\u001b[1;33m,\u001b[0m\u001b[1;33m(\u001b[0m\u001b[1;36m40\u001b[0m\u001b[1;33m,\u001b[0m\u001b[1;36m50\u001b[0m\u001b[1;33m)\u001b[0m\u001b[1;33m,\u001b[0m\u001b[1;36m90\u001b[0m\u001b[1;33m)\u001b[0m\u001b[1;33m\u001b[0m\u001b[1;33m\u001b[0m\u001b[0m\n\u001b[1;32m----> 2\u001b[1;33m \u001b[0mmin\u001b[0m\u001b[1;33m(\u001b[0m\u001b[0mt1\u001b[0m\u001b[1;33m)\u001b[0m\u001b[1;33m\u001b[0m\u001b[1;33m\u001b[0m\u001b[0m\n\u001b[0m",
      "\u001b[1;31mTypeError\u001b[0m: '<' not supported between instances of 'tuple' and 'int'"
     ]
    }
   ],
   "source": [
    "t1=(10,20,30,(40,50),90)\n",
    "min(t1)"
   ]
  },
  {
   "cell_type": "code",
   "execution_count": 12,
   "id": "08324753",
   "metadata": {},
   "outputs": [
    {
     "data": {
      "text/plain": [
       "2"
      ]
     },
     "execution_count": 12,
     "metadata": {},
     "output_type": "execute_result"
    }
   ],
   "source": [
    "salary.index(800)\n"
   ]
  },
  {
   "cell_type": "code",
   "execution_count": 13,
   "id": "9b0fb67f",
   "metadata": {},
   "outputs": [
    {
     "ename": "ValueError",
     "evalue": "tuple.index(x): x not in tuple",
     "output_type": "error",
     "traceback": [
      "\u001b[1;31m---------------------------------------------------------------------------\u001b[0m",
      "\u001b[1;31mValueError\u001b[0m                                Traceback (most recent call last)",
      "\u001b[1;32m~\\AppData\\Local\\Temp/ipykernel_9368/3510001239.py\u001b[0m in \u001b[0;36m<module>\u001b[1;34m\u001b[0m\n\u001b[1;32m----> 1\u001b[1;33m \u001b[0msalary\u001b[0m\u001b[1;33m.\u001b[0m\u001b[0mindex\u001b[0m\u001b[1;33m(\u001b[0m\u001b[1;36m5000\u001b[0m\u001b[1;33m)\u001b[0m\u001b[1;33m\u001b[0m\u001b[1;33m\u001b[0m\u001b[0m\n\u001b[0m",
      "\u001b[1;31mValueError\u001b[0m: tuple.index(x): x not in tuple"
     ]
    }
   ],
   "source": [
    "salary.index(5000)"
   ]
  },
  {
   "cell_type": "code",
   "execution_count": 14,
   "id": "2f481924",
   "metadata": {},
   "outputs": [
    {
     "data": {
      "text/plain": [
       "3"
      ]
     },
     "execution_count": 14,
     "metadata": {},
     "output_type": "execute_result"
    }
   ],
   "source": [
    "val=(10,20,30,20,10,60,80,20)\n",
    "val.count(20)"
   ]
  },
  {
   "cell_type": "code",
   "execution_count": 15,
   "id": "49bd7033",
   "metadata": {},
   "outputs": [
    {
     "data": {
      "text/plain": [
       "1"
      ]
     },
     "execution_count": 15,
     "metadata": {},
     "output_type": "execute_result"
    }
   ],
   "source": [
    "val.count(80)"
   ]
  },
  {
   "cell_type": "code",
   "execution_count": 16,
   "id": "5edae62a",
   "metadata": {},
   "outputs": [
    {
     "data": {
      "text/plain": [
       "0"
      ]
     },
     "execution_count": 16,
     "metadata": {},
     "output_type": "execute_result"
    }
   ],
   "source": [
    "val.count(100)"
   ]
  },
  {
   "cell_type": "code",
   "execution_count": 19,
   "id": "50ec463c",
   "metadata": {},
   "outputs": [
    {
     "name": "stdout",
     "output_type": "stream",
     "text": [
      "()\n"
     ]
    }
   ],
   "source": [
    "tup=tuple()\n",
    "print(tup)"
   ]
  },
  {
   "cell_type": "code",
   "execution_count": 20,
   "id": "34b0e027",
   "metadata": {},
   "outputs": [
    {
     "name": "stdout",
     "output_type": "stream",
     "text": [
      "('q', 'u', 'i', 'c', 'k', ' ', 'b', 'r', 'o', 'w', ' ', 'f', 'o', 'x')\n"
     ]
    }
   ],
   "source": [
    "tup=tuple(\"quick brow fox\")\n",
    "print(tup)"
   ]
  },
  {
   "cell_type": "code",
   "execution_count": 21,
   "id": "24ff5fef",
   "metadata": {},
   "outputs": [
    {
     "name": "stdout",
     "output_type": "stream",
     "text": [
      "(1, 20, 40)\n"
     ]
    }
   ],
   "source": [
    "tup=tuple([1,20,40])\n",
    "print(tup)"
   ]
  },
  {
   "cell_type": "code",
   "execution_count": 22,
   "id": "d3f4e3ec",
   "metadata": {},
   "outputs": [
    {
     "name": "stdout",
     "output_type": "stream",
     "text": [
      "(1, 2)\n"
     ]
    }
   ],
   "source": [
    "tup=tuple({1:\"one\",2:\"two\"})\n",
    "print(tup)"
   ]
  },
  {
   "cell_type": "code",
   "execution_count": 23,
   "id": "e359fcf6",
   "metadata": {},
   "outputs": [
    {
     "name": "stdout",
     "output_type": "stream",
     "text": [
      "(10, 30, 30)\n"
     ]
    }
   ],
   "source": [
    "val=(10,20,30)\n",
    "a,b,c=val\n",
    "b=30\n",
    "val=(a,b,c)\n",
    "print(val)"
   ]
  },
  {
   "cell_type": "code",
   "execution_count": 24,
   "id": "da7219c5",
   "metadata": {},
   "outputs": [
    {
     "name": "stdout",
     "output_type": "stream",
     "text": [
      "('rice', 'dosa', 'biryani', 'mushroom', 'paneer')\n"
     ]
    }
   ],
   "source": [
    "foods=(\"rice\",\"dosa\",\"idili\",\"mushroom\",\"paneer\")\n",
    "myfood=list(foods)\n",
    "myfood[2]=\"biryani\"\n",
    "food=tuple(myfood)\n",
    "print(food)"
   ]
  },
  {
   "cell_type": "code",
   "execution_count": 25,
   "id": "a595accb",
   "metadata": {},
   "outputs": [
    {
     "name": "stdout",
     "output_type": "stream",
     "text": [
      "(1, 2, 3, 4, 5, 7)\n"
     ]
    }
   ],
   "source": [
    "t=(1,2,3,4,5,7)\n",
    "print(t)"
   ]
  },
  {
   "cell_type": "code",
   "execution_count": 26,
   "id": "51ae14d0",
   "metadata": {},
   "outputs": [
    {
     "name": "stdout",
     "output_type": "stream",
     "text": [
      "(20,)\n"
     ]
    }
   ],
   "source": [
    "t=(20,)\n",
    "print(t)"
   ]
  },
  {
   "cell_type": "code",
   "execution_count": 36,
   "id": "b8f111fd",
   "metadata": {},
   "outputs": [
    {
     "ename": "TypeError",
     "evalue": "tuple expected at most 1 argument, got 2",
     "output_type": "error",
     "traceback": [
      "\u001b[1;31m---------------------------------------------------------------------------\u001b[0m",
      "\u001b[1;31mTypeError\u001b[0m                                 Traceback (most recent call last)",
      "\u001b[1;32m~\\AppData\\Local\\Temp/ipykernel_9368/2554479165.py\u001b[0m in \u001b[0;36m<module>\u001b[1;34m\u001b[0m\n\u001b[1;32m----> 1\u001b[1;33m \u001b[0mtup\u001b[0m\u001b[1;33m=\u001b[0m\u001b[0mtuple\u001b[0m\u001b[1;33m(\u001b[0m\u001b[1;34m\"shemi\"\u001b[0m\u001b[1;33m,\u001b[0m\u001b[1;33m[\u001b[0m\u001b[1;36m30\u001b[0m\u001b[1;33m,\u001b[0m\u001b[1;36m40\u001b[0m\u001b[1;33m]\u001b[0m\u001b[1;33m)\u001b[0m\u001b[1;33m\u001b[0m\u001b[1;33m\u001b[0m\u001b[0m\n\u001b[0m\u001b[0;32m      2\u001b[0m \u001b[0mprint\u001b[0m\u001b[1;33m(\u001b[0m\u001b[0mtup\u001b[0m\u001b[1;33m)\u001b[0m\u001b[1;33m\u001b[0m\u001b[1;33m\u001b[0m\u001b[0m\n",
      "\u001b[1;31mTypeError\u001b[0m: tuple expected at most 1 argument, got 2"
     ]
    }
   ],
   "source": [
    "tup=tuple(\"shemi\",[30,40])\n",
    "print(tup)"
   ]
  },
  {
   "cell_type": "code",
   "execution_count": 30,
   "id": "dc1b7ad2",
   "metadata": {},
   "outputs": [
    {
     "name": "stdout",
     "output_type": "stream",
     "text": [
      "(10, 500, 30)\n"
     ]
    }
   ],
   "source": [
    "val=(10,40,30)\n",
    "a,b,c=val\n",
    "b=500\n",
    "val=(a,b,c)\n",
    "print(val)"
   ]
  },
  {
   "cell_type": "code",
   "execution_count": 35,
   "id": "e953938e",
   "metadata": {},
   "outputs": [
    {
     "name": "stdout",
     "output_type": "stream",
     "text": [
      "('s', 'h', 'a', 'm', 'e', 'e', 'm', 'a')\n"
     ]
    }
   ],
   "source": [
    "tup=tuple(\"shameema\")\n",
    "print(tup)"
   ]
  },
  {
   "cell_type": "code",
   "execution_count": 40,
   "id": "b5c04ef2",
   "metadata": {},
   "outputs": [
    {
     "name": "stdout",
     "output_type": "stream",
     "text": [
      "I LOVE INDIAI LOVE INDIAI LOVE INDIAI LOVE INDIAI LOVE INDIAI LOVE INDIAI LOVE INDIAI LOVE INDIAI LOVE INDIAI LOVE INDIAI LOVE INDIAI LOVE INDIAI LOVE INDIAI LOVE INDIAI LOVE INDIAI LOVE INDIAI LOVE INDIAI LOVE INDIAI LOVE INDIAI LOVE INDIAI LOVE INDIAI LOVE INDIAI LOVE INDIAI LOVE INDIAI LOVE INDIAI LOVE INDIAI LOVE INDIAI LOVE INDIAI LOVE INDIAI LOVE INDIAI LOVE INDIAI LOVE INDIAI LOVE INDIAI LOVE INDIAI LOVE INDIAI LOVE INDIAI LOVE INDIAI LOVE INDIAI LOVE INDIAI LOVE INDIAI LOVE INDIAI LOVE INDIAI LOVE INDIAI LOVE INDIAI LOVE INDIAI LOVE INDIAI LOVE INDIAI LOVE INDIAI LOVE INDIAI LOVE INDIAI LOVE INDIAI LOVE INDIAI LOVE INDIAI LOVE INDIAI LOVE INDIAI LOVE INDIAI LOVE INDIAI LOVE INDIAI LOVE INDIAI LOVE INDIAI LOVE INDIAI LOVE INDIAI LOVE INDIAI LOVE INDIAI LOVE INDIAI LOVE INDIAI LOVE INDIAI LOVE INDIAI LOVE INDIAI LOVE INDIAI LOVE INDIAI LOVE INDIAI LOVE INDIAI LOVE INDIAI LOVE INDIAI LOVE INDIAI LOVE INDIAI LOVE INDIAI LOVE INDIAI LOVE INDIAI LOVE INDIAI LOVE INDIAI LOVE INDIAI LOVE INDIAI LOVE INDIAI LOVE INDIAI LOVE INDIAI LOVE INDIAI LOVE INDIAI LOVE INDIAI LOVE INDIAI LOVE INDIAI LOVE INDIAI LOVE INDIAI LOVE INDIAI LOVE INDIAI LOVE INDIAI LOVE INDIAI LOVE INDIAI LOVE INDIA\n"
     ]
    }
   ],
   "source": [
    "t1=(\"I LOVE INDIA\")\n",
    "t1=t1*100\n",
    "print(t1)"
   ]
  },
  {
   "cell_type": "code",
   "execution_count": 42,
   "id": "44389273",
   "metadata": {},
   "outputs": [
    {
     "name": "stdout",
     "output_type": "stream",
     "text": [
      "(10, 20, 30, 40)\n"
     ]
    }
   ],
   "source": [
    "item=[10,20,30,40]\n",
    "t2=tuple(item)\n",
    "print(t2)\n"
   ]
  },
  {
   "cell_type": "code",
   "execution_count": 47,
   "id": "4686444e",
   "metadata": {},
   "outputs": [
    {
     "name": "stdout",
     "output_type": "stream",
     "text": [
      "shameema\n"
     ]
    }
   ],
   "source": [
    "tup=('s','h','a','m','e','e','m','a')\n",
    "tup=\"\".join(tup)\n",
    "print(tup)"
   ]
  },
  {
   "cell_type": "code",
   "execution_count": 49,
   "id": "1c25d2ec",
   "metadata": {},
   "outputs": [
    {
     "name": "stdout",
     "output_type": "stream",
     "text": [
      "shameema\n"
     ]
    }
   ],
   "source": [
    "list=[1,2,3]\n",
    "list=\"\".join(tup)\n",
    "print(list)"
   ]
  },
  {
   "cell_type": "code",
   "execution_count": 51,
   "id": "bc592c19",
   "metadata": {},
   "outputs": [
    {
     "data": {
      "text/plain": [
       "7"
      ]
     },
     "execution_count": 51,
     "metadata": {},
     "output_type": "execute_result"
    }
   ],
   "source": [
    "T1=(10,20,30,20,30,40,100)\n",
    "len(T1)"
   ]
  },
  {
   "cell_type": "code",
   "execution_count": 52,
   "id": "034b5a12",
   "metadata": {},
   "outputs": [
    {
     "name": "stdout",
     "output_type": "stream",
     "text": [
      "(8, 7, 6, 5, 4, 3, 2, 1)\n",
      "(1, 2, 3, 4, 5, 6, 7, 8)\n"
     ]
    }
   ],
   "source": [
    "t=(1,2,3,4,5,6,7,8)\n",
    "print(t[::-1])\n",
    "print(t)"
   ]
  },
  {
   "cell_type": "code",
   "execution_count": 59,
   "id": "b380a3d2",
   "metadata": {},
   "outputs": [
    {
     "name": "stdout",
     "output_type": "stream",
     "text": [
      "{'shemi': 1, 'faru': 2}\n"
     ]
    }
   ],
   "source": [
    "tuples=[('shemi',1),('faru',2)]\n",
    "result=dict(tuples)\n",
    "print(result)"
   ]
  },
  {
   "cell_type": "code",
   "execution_count": 60,
   "id": "5b54755a",
   "metadata": {},
   "outputs": [
    {
     "name": "stdout",
     "output_type": "stream",
     "text": [
      "90\n",
      "2\n",
      "(90, 7, 2)\n"
     ]
    }
   ],
   "source": [
    "#slicing\n",
    "a=(2,45,7,8,90)\n",
    "print(a[-1])\n",
    "print(a[0])\n",
    "print(a[::-2])"
   ]
  },
  {
   "cell_type": "code",
   "execution_count": 61,
   "id": "0a08d331",
   "metadata": {},
   "outputs": [
    {
     "data": {
      "text/plain": [
       "(1, 4, 6)"
      ]
     },
     "execution_count": 61,
     "metadata": {},
     "output_type": "execute_result"
    }
   ],
   "source": [
    "#list to tuple\n",
    "list=[1,4,6]\n",
    "tup=tuple(list)\n",
    "tup"
   ]
  },
  {
   "cell_type": "code",
   "execution_count": null,
   "id": "5042b2fb",
   "metadata": {},
   "outputs": [],
   "source": []
  }
 ],
 "metadata": {
  "kernelspec": {
   "display_name": "Python 3 (ipykernel)",
   "language": "python",
   "name": "python3"
  },
  "language_info": {
   "codemirror_mode": {
    "name": "ipython",
    "version": 3
   },
   "file_extension": ".py",
   "mimetype": "text/x-python",
   "name": "python",
   "nbconvert_exporter": "python",
   "pygments_lexer": "ipython3",
   "version": "3.9.7"
  }
 },
 "nbformat": 4,
 "nbformat_minor": 5
}
