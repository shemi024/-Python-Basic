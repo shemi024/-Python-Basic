{
 "cells": [
  {
   "cell_type": "code",
   "execution_count": 1,
   "id": "c74e6605",
   "metadata": {},
   "outputs": [
    {
     "name": "stdout",
     "output_type": "stream",
     "text": [
      "shameema fathima\n"
     ]
    }
   ],
   "source": [
    "#1\n",
    "firstname=' fathima'\n",
    "lastname='shameema'\n",
    "fullname=lastname+firstname\n",
    "print(fullname)"
   ]
  },
  {
   "cell_type": "code",
   "execution_count": 11,
   "id": "e3413e10",
   "metadata": {},
   "outputs": [
    {
     "name": "stdout",
     "output_type": "stream",
     "text": [
      "None\n",
      "27\n"
     ]
    }
   ],
   "source": [
    "#sum\n",
    "def sum_thrice(a,b,c):\n",
    "    sum = a + b + c\n",
    "    \n",
    "    if a == b == c:\n",
    "        sum =sum * 3\n",
    "        return sum\n",
    "print(sum_thrice(1,2,3))\n",
    "print(sum_thrice(3,3,3))"
   ]
  },
  {
   "cell_type": "code",
   "execution_count": 2,
   "id": "90d0abf3",
   "metadata": {},
   "outputs": [
    {
     "name": "stdout",
     "output_type": "stream",
     "text": [
      "enter your numbers:1234\n",
      "the list is: list['1,2,3,4']\n",
      "the tuple is: ('1,2,3,4',)\n"
     ]
    }
   ],
   "source": [
    "#2\n",
    "n=input(\"enter your numbers:\")\n",
    "a=list[\",\".join(n)]\n",
    "b=tuple([\",\".join(n)])\n",
    "print(\"the list is:\",a)\n",
    "print(\"the tuple is:\",b)\n"
   ]
  },
  {
   "cell_type": "code",
   "execution_count": 3,
   "id": "9a2788d7",
   "metadata": {},
   "outputs": [
    {
     "name": "stdout",
     "output_type": "stream",
     "text": [
      "f\n",
      "i\n",
      "l\n",
      "z\n",
      "a\n"
     ]
    }
   ],
   "source": [
    "#6\n",
    "name='filza'\n",
    "for c in name:\n",
    "    print(c)"
   ]
  },
  {
   "cell_type": "code",
   "execution_count": 4,
   "id": "16048a18",
   "metadata": {},
   "outputs": [
    {
     "data": {
      "text/plain": [
       "{'bule', 'red', 'yellow'}"
      ]
     },
     "execution_count": 4,
     "metadata": {},
     "output_type": "execute_result"
    }
   ],
   "source": [
    "#Write a Python program to print out a set containing all the colors from color_list_1 which are not present in color_list_2.\n",
    "\n",
    "color1=set(['red','yellow','bule'])\n",
    "color2=set(['green','rose','blue'])\n",
    "color1.difference(color2)"
   ]
  },
  {
   "cell_type": "code",
   "execution_count": 5,
   "id": "a16dd933",
   "metadata": {},
   "outputs": [
    {
     "data": {
      "text/plain": [
       "{3, 4, 5}"
      ]
     },
     "execution_count": 5,
     "metadata": {},
     "output_type": "execute_result"
    }
   ],
   "source": [
    "p=set([3,4,5,6,7])\n",
    "s=set([8,9,4,2,3,5])\n",
    "p.intersection(s)"
   ]
  },
  {
   "cell_type": "code",
   "execution_count": 6,
   "id": "a3c69b1c",
   "metadata": {},
   "outputs": [
    {
     "name": "stdout",
     "output_type": "stream",
     "text": [
      "the multiply value is: 600\n"
     ]
    }
   ],
   "source": [
    "# multi\n",
    "def multiplyList(list):\n",
    "    num=1\n",
    "    for x in list:\n",
    "        num=num*x\n",
    "    return num\n",
    "list1=[2,3,100]\n",
    "print(\"the multiply value is:\",multiplyList(list1))"
   ]
  },
  {
   "cell_type": "code",
   "execution_count": 7,
   "id": "5d2bbcd9",
   "metadata": {},
   "outputs": [
    {
     "name": "stdout",
     "output_type": "stream",
     "text": [
      "student_id:f19\n",
      "student_name: shameema\n",
      "student_class:6\n"
     ]
    }
   ],
   "source": [
    "class student:\n",
    "    student_id= 'f19'\n",
    "    student_name='shameema'\n",
    "    student_class='6'\n",
    "    def display():\n",
    "        print(\"student_id:{}\".format(student.student_id))\n",
    "        print(\"student_name: {}\". format(student.student_name))\n",
    "        print(\"student_class:{}\".format(student.student_class))\n",
    "student.display()"
   ]
  },
  {
   "cell_type": "code",
   "execution_count": 8,
   "id": "1bf75f48",
   "metadata": {},
   "outputs": [
    {
     "name": "stdout",
     "output_type": "stream",
     "text": [
      "11\n"
     ]
    }
   ],
   "source": [
    "#localvariable\n",
    "def add():\n",
    "    a=10\n",
    "    c=a+1\n",
    "    print(c)\n",
    "add()"
   ]
  },
  {
   "cell_type": "markdown",
   "id": "1fd6b7e1",
   "metadata": {},
   "source": []
  },
  {
   "cell_type": "code",
   "execution_count": 17,
   "id": "ec645e29",
   "metadata": {},
   "outputs": [
    {
     "ename": "TypeError",
     "evalue": "'str' object does not support item assignment",
     "output_type": "error",
     "traceback": [
      "\u001b[1;31m---------------------------------------------------------------------------\u001b[0m",
      "\u001b[1;31mTypeError\u001b[0m                                 Traceback (most recent call last)",
      "\u001b[1;32m~\\AppData\\Local\\Temp/ipykernel_5492/4169621422.py\u001b[0m in \u001b[0;36m<module>\u001b[1;34m\u001b[0m\n\u001b[0;32m      1\u001b[0m \u001b[0ms1\u001b[0m\u001b[1;33m=\u001b[0m\u001b[1;34m'xyz'\u001b[0m\u001b[1;33m\u001b[0m\u001b[1;33m\u001b[0m\u001b[0m\n\u001b[0;32m      2\u001b[0m \u001b[0ms2\u001b[0m\u001b[1;33m=\u001b[0m\u001b[1;34m'abc'\u001b[0m\u001b[1;33m\u001b[0m\u001b[1;33m\u001b[0m\u001b[0m\n\u001b[1;32m----> 3\u001b[1;33m \u001b[0ms1\u001b[0m\u001b[1;33m[\u001b[0m\u001b[1;36m0\u001b[0m\u001b[1;33m]\u001b[0m\u001b[1;33m=\u001b[0m\u001b[0ms2\u001b[0m\u001b[1;33m[\u001b[0m\u001b[1;36m0\u001b[0m\u001b[1;33m]\u001b[0m\u001b[1;33m\u001b[0m\u001b[1;33m\u001b[0m\u001b[0m\n\u001b[0m\u001b[0;32m      4\u001b[0m \u001b[0ms2\u001b[0m\u001b[1;33m[\u001b[0m\u001b[1;36m0\u001b[0m\u001b[1;33m]\u001b[0m\u001b[1;33m=\u001b[0m\u001b[0ms1\u001b[0m\u001b[1;33m[\u001b[0m\u001b[1;36m0\u001b[0m\u001b[1;33m]\u001b[0m\u001b[1;33m\u001b[0m\u001b[1;33m\u001b[0m\u001b[0m\n\u001b[0;32m      5\u001b[0m \u001b[0ms3\u001b[0m\u001b[1;33m=\u001b[0m\u001b[0ms1\u001b[0m\u001b[1;33m+\u001b[0m\u001b[0ms2\u001b[0m\u001b[1;33m\u001b[0m\u001b[1;33m\u001b[0m\u001b[0m\n",
      "\u001b[1;31mTypeError\u001b[0m: 'str' object does not support item assignment"
     ]
    }
   ],
   "source": [
    "s1=list[]\n",
    "s2='abc'\n",
    "s1[0]=s2[0]\n",
    "s2[0]=s1[0]\n",
    "s3=s1+s2\n",
    "print(s3)"
   ]
  },
  {
   "cell_type": "code",
   "execution_count": null,
   "id": "f57f8e09",
   "metadata": {},
   "outputs": [],
   "source": []
  }
 ],
 "metadata": {
  "kernelspec": {
   "display_name": "Python 3 (ipykernel)",
   "language": "python",
   "name": "python3"
  },
  "language_info": {
   "codemirror_mode": {
    "name": "ipython",
    "version": 3
   },
   "file_extension": ".py",
   "mimetype": "text/x-python",
   "name": "python",
   "nbconvert_exporter": "python",
   "pygments_lexer": "ipython3",
   "version": "3.9.7"
  }
 },
 "nbformat": 4,
 "nbformat_minor": 5
}
